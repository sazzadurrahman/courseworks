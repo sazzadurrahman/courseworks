{
 "cells": [
  {
   "cell_type": "markdown",
   "metadata": {
    "collapsed": true
   },
   "source": [
    "### Web Scraping of Housing Price data from Glasgow Open Data"
   ]
  },
  {
   "cell_type": "code",
   "execution_count": 46,
   "metadata": {},
   "outputs": [
    {
     "name": "stdout",
     "output_type": "stream",
     "text": [
      "Done\n"
     ]
    }
   ],
   "source": [
    "import os\n",
    "import pandas as pd\n",
    "#os.open() allows you to run Unix commands in Python\n",
    "#download the page the supplied URL using curl\n",
    "webpage = os.popen('curl -k -X GET https://data.glasgow.gov.uk/dataset/glasgow-house-sales-1991-2013').read()\n",
    "#print(webpage)\n",
    "print('Done')"
   ]
  },
  {
   "cell_type": "code",
   "execution_count": 49,
   "metadata": {},
   "outputs": [
    {
     "name": "stdout",
     "output_type": "stream",
     "text": [
      "Done\n"
     ]
    }
   ],
   "source": [
    "#download the webpage and filter out any lines which do not include\n",
    "#the words  analytics or grep Download or grep href using the unix grep command\n",
    "filtered_webpage = os.popen('curl -k -X GET https://data.glasgow.gov.uk/dataset/glasgow-house-sales-1991-2013 | grep analytics |grep href').read()\n",
    "#print(filtered_webpage)\n",
    "print('Done')"
   ]
  },
  {
   "cell_type": "code",
   "execution_count": 48,
   "metadata": {
    "collapsed": true
   },
   "outputs": [],
   "source": [
    "#split the filtered string using double quotes as a separator\n",
    "#the result is an array \n",
    "strArray=filtered_webpage.split('\"')"
   ]
  },
  {
   "cell_type": "code",
   "execution_count": 4,
   "metadata": {
    "collapsed": true
   },
   "outputs": [],
   "source": [
    "#use a for loop to create a an array with only the URLs\n",
    "urls = []\n",
    "for s in strArray:\n",
    "    if s.startswith('http'):\n",
    "        urls.append(s)"
   ]
  },
  {
   "cell_type": "code",
   "execution_count": null,
   "metadata": {},
   "outputs": [],
   "source": [
    "#take the first url from the array\n",
    "firt_url = urls[0]\n",
    "\n",
    "#construct a curl command string using string \n",
    "curlString = 'curl -k -X GET ' + firt_url\n",
    "#issue a curl command using the first url to download the the first set of house price data\n",
    "firstHousePrice = os.popen(curlString).read()\n",
    "print(firstHousePrice)\n"
   ]
  },
  {
   "cell_type": "code",
   "execution_count": 13,
   "metadata": {
    "collapsed": true
   },
   "outputs": [],
   "source": [
    "text_file = firstHousePrice\n",
    "lines = text_file.split('\\n')\n"
   ]
  },
  {
   "cell_type": "code",
   "execution_count": 31,
   "metadata": {},
   "outputs": [],
   "source": [
    "attributes = firstHousePrice.split('\\r\\n')[0].split(',')"
   ]
  },
  {
   "cell_type": "code",
   "execution_count": 28,
   "metadata": {},
   "outputs": [
    {
     "name": "stdout",
     "output_type": "stream",
     "text": [
      "CREATE TABLE IF NOT EXISTS glasgow_housing (CLASS VARCHAR(50), STNO VARCHAR(50), STnu VARCHAR(50), FLATPOSN VARCHAR(50), STNAME VARCHAR(50), POSTCODE VARCHAR(50), MONTH OF SALE VARCHAR(50), YEAR OF SALE (CALENDAR) VARCHAR(50), YEAR OF SALE (BUSINESS) VARCHAR(50), MONTH AND YEAR VARCHAR(50), QUARTER_(CALENDAR) VARCHAR(50), ACTUAL PRICE AT POINT OF SALE VARCHAR(50), RPI VARCHAR(50), DEFLATOR VARCHAR(50), PRICE CONSTANT AT July 2013 VARCHAR(50), ORIGINOFBUY VARCHAR(50), OMIT OR USE VARCHAR(50), NEWBUILD OR RESALE VARCHAR(50), LHF VARCHAR(50));\n",
      "\n"
     ]
    }
   ],
   "source": [
    "#compose create statement\n",
    "start_of_create = \"CREATE TABLE IF NOT EXISTS glasgow_housing (\"\n",
    "for c in attributes:\n",
    "    start_of_create += str(c) \n",
    "    start_of_create += ' VARCHAR(50), '\n",
    "start_of_create = start_of_create[:-2]\n",
    "start_of_create += ');'\n",
    "start_of_create += '\\n'\n",
    "print(start_of_create)"
   ]
  },
  {
   "cell_type": "code",
   "execution_count": 33,
   "metadata": {
    "collapsed": true
   },
   "outputs": [],
   "source": [
    "def insertRow(row):\n",
    "  temp =''\n",
    "  for c in row:\n",
    "    temp += \"'\" + c + \"'\"\n",
    "    temp += ', '\n",
    "  temp += ''\n",
    "  return temp  "
   ]
  },
  {
   "cell_type": "code",
   "execution_count": 55,
   "metadata": {},
   "outputs": [
    {
     "data": {
      "text/plain": [
       "'R,490,,13-Mar,\"ARGYLE ST,THE ARGYLE BUIL\",G2 8AL,1,2013,2012/2013,2013-01-01,2013 Q1,125000,245.8,1.015866558,126983.32,,Use,NEW,Central and West'"
      ]
     },
     "execution_count": 55,
     "metadata": {},
     "output_type": "execute_result"
    }
   ],
   "source": [
    "firstHousePrice.split('\\r\\n')[1]"
   ]
  },
  {
   "cell_type": "code",
   "execution_count": null,
   "metadata": {},
   "outputs": [],
   "source": [
    "insert = \"Insert Into glasgow_housing Values \"\n",
    "values = firstHousePrice.split('\\r\\n')[1:]\n",
    "for line in values:\n",
    "  #create += insert\n",
    "  insert +=\"(\" + insertRow(line.split(',')) + \")\"\n",
    "  insert += \",  \"\n",
    "insert = insert[:-4]\n",
    "insert += ');'\n",
    "insert += '\\n'\n",
    "print(insert)"
   ]
  },
  {
   "cell_type": "code",
   "execution_count": null,
   "metadata": {
    "collapsed": true
   },
   "outputs": [],
   "source": [
    "\n",
    "column_names= lines[0].split(',')\n",
    "create = \"CREATE TABLE IF NOT EXISTS US_KPI (\"\n",
    "for c in column_names:\n",
    "  #c += '\\t'\n",
    "  create += c \n",
    "  create += ' VARCHAR(50), '\n",
    "create = create[:-2]\n",
    "create += ');'\n",
    "create += '\\n'"
   ]
  },
  {
   "cell_type": "code",
   "execution_count": null,
   "metadata": {
    "collapsed": true
   },
   "outputs": [],
   "source": [
    "#!/Python27/python\n",
    "import MySQLdb\n",
    "db=MySQLdb.connect(host = '127.0.0.1', \n",
    "    user = 'root', \n",
    "    passwd = '', \n",
    "    db = 'timeline', \n",
    "    port = 3306)\n",
    "cursor = db.cursor()\n",
    "def insertRow(row):\n",
    "  temp =''\n",
    "  for c in row:\n",
    "    temp += \"'\" + c + \"'\"\n",
    "    temp += ', '\n",
    "  temp = temp[:-2]\n",
    "  #print '-----'\n",
    "  #print type(temp)\n",
    "  temp += ''\n",
    "  return temp    \n",
    "text_file = open(\"DS_KPI_Top_10_Rows.csv\", \"r\")\n",
    "lines = text_file.read().split('\\n')\n",
    "column_names= lines[0].split(',')\n",
    "create = \"CREATE TABLE IF NOT EXISTS US_KPI (\"\n",
    "for c in column_names:\n",
    "  #c += '\\t'\n",
    "  create += c \n",
    "  create += ' VARCHAR(50), '\n",
    "create = create[:-2]\n",
    "create += ');'\n",
    "create += '\\n'\n",
    "#cursor.execute(create)\n",
    "#db.commit()\n",
    "#values_1 = lines[1].split(',')\n",
    "insert = \"Insert Into US_KPI Values \"\n",
    "#for c in values_1:\n",
    "#  create += c\n",
    "#  create += ', '\n",
    "#create = create[:-2]\n",
    "#create += ')'\n",
    "values = lines[1:]\n",
    "for line in values:\n",
    "  #create += insert\n",
    "  insert +=\"(\" + insertRow(line.split(',')) + \")\"\n",
    "  insert += \",  \"\n",
    "insert = insert[:-4]\n",
    "insert += ');'\n",
    "insert += '\\n'\n",
    "cursor.execute(create)\n",
    "cursor.execute(insert)\n",
    "db.commit()\n",
    "#create += insert\n",
    "#create += insertRow(lines[2].split(','))\n",
    "cursor.close()\n",
    "#!/Python27/python\n",
    "import MySQLdb\n",
    "db=MySQLdb.connect(host = '127.0.0.1', \n",
    "    user = 'root', \n",
    "    passwd = '', \n",
    "    db = 'timeline', \n",
    "    port = 3306)\n",
    "cursor = db.cursor()\n",
    "def insertRow(row):\n",
    "  temp =''\n",
    "  for c in row:\n",
    "    temp += \"'\" + c + \"'\"\n",
    "    temp += ', '\n",
    "  temp = temp[:-2]\n",
    "  #print '-----'\n",
    "  #print type(temp)\n",
    "  temp += ''\n",
    "  return temp    \n",
    "text_file = open(\"DS_KPI_Top_10_Rows.csv\", \"r\")\n",
    "lines = text_file.read().split('\\n')\n",
    "column_names= lines[0].split(',')\n",
    "create = \"CREATE TABLE IF NOT EXISTS US_KPI (\"\n",
    "for c in column_names:\n",
    "  #c += '\\t'\n",
    "  create += c \n",
    "  create += ' VARCHAR(50), '\n",
    "create = create[:-2]\n",
    "create += ');'\n",
    "create += '\\n'\n",
    "#cursor.execute(create)\n",
    "#db.commit()\n",
    "#values_1 = lines[1].split(',')\n",
    "insert = \"Insert Into US_KPI Values \"\n",
    "#for c in values_1:\n",
    "#  create += c\n",
    "#  create += ', '\n",
    "#create = create[:-2]\n",
    "#create += ')'\n",
    "values = lines[1:]\n",
    "for line in values:\n",
    "  #create += insert\n",
    "  insert +=\"(\" + insertRow(line.split(',')) + \")\"\n",
    "  insert += \",  \"\n",
    "insert = insert[:-4]\n",
    "insert += ');'\n",
    "insert += '\\n'\n",
    "cursor.execute(create)\n",
    "cursor.execute(insert)\n",
    "db.commit()\n",
    "#create += insert\n",
    "#create += insertRow(lines[2].split(','))\n",
    "cursor.close()\n",
    "db.close\n",
    "#print create\n",
    "#print insert\n",
    "print (\"Done\")\n",
    "text_file.close()\n"
   ]
  }
 ],
 "metadata": {
  "kernelspec": {
   "display_name": "Python 3",
   "language": "python",
   "name": "python3"
  },
  "language_info": {
   "codemirror_mode": {
    "name": "ipython",
    "version": 3
   },
   "file_extension": ".py",
   "mimetype": "text/x-python",
   "name": "python",
   "nbconvert_exporter": "python",
   "pygments_lexer": "ipython3",
   "version": "3.6.5"
  }
 },
 "nbformat": 4,
 "nbformat_minor": 2
}
