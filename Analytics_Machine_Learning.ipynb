{
 "cells": [
  {
   "cell_type": "markdown",
   "metadata": {},
   "source": [
    "### Data Analytics, Machine Learning (Logistic Regression, SVM)"
   ]
  },
  
   "cell_type": "markdown",
   "metadata": {},
   "source": [
    "### 1. Description of the problem\n",
    "\n",
    "The dataset used here taken from the UCI Machine Learning Repository, http://archive.ics.uci.edu/ml/datasets/, \n",
    "which describes different species of mushrooms from the genera Agaricus and Lepiota. The data are taken from The Audubon Society Field Guide to North American Mushrooms.\n",
    "\n",
    "This data set includes descriptions of hypothetical samples corresponding to 23 species of gilled mushrooms in the Agaricus and Lepiota Family.  Each species is identified as \"edible\" and \"poisonous\". \n",
    "\n",
    "A supervised machine learning model is built to identify whether a mushroom is edible or poisonous. In order to achieve this objective, the model needs to trained by training data so that it can categorize the mushrooms as edible or poisonus by using testing data. Another objective is to determine how accurate this model can determine the edibility of a mushroom.\n",
    "\n",
    "The dataset has 8123 instances (rows), 23 attributes (features) including 1 class.\n",
    "\n",
    "\n",
    "\n",
    "![attributes.png](attachment:attributes.png)\n",
    "\n",
    "The dataset used contains non-numerical data and it will need an additional step while encoding the categorical data to numerical data."
   ]
  },
  {
   "cell_type": "code",
   "execution_count": 80,
   "metadata": {},
   "outputs": [],
   "source": [
    "import time\n",
    "import pandas as pd\n",
    "import numpy as np\n",
    "\n",
    "import pickle\n",
    "\n",
    "import seaborn as sns\n",
    "import matplotlib.pyplot as plt\n",
    "from IPython.display import display\n",
    "\n",
    "\n",
    "from sklearn.decomposition import PCA\n",
    "from sklearn.preprocessing import StandardScaler, LabelEncoder\n",
    "\n",
    "from sklearn.model_selection import train_test_split\n",
    "from sklearn.preprocessing import StandardScaler, LabelEncoder\n",
    "from sklearn.metrics import f1_score \n",
    "from sklearn.linear_model import LogisticRegression\n",
    "from sklearn.svm import SVC\n",
    "import pandas as pd\n",
    "import numpy as np\n",
    "import matplotlib.pyplot as plt\n",
    "from sklearn.decomposition import PCA\n",
    "from sklearn.model_selection import train_test_split\n",
    "from sklearn.preprocessing import StandardScaler, LabelEncoder\n",
    "from sklearn.model_selection import GridSearchCV\n",
    "from sklearn import metrics\n",
    "from sklearn.model_selection import GridSearchCV\n",
    "from sklearn.model_selection import StratifiedShuffleSplit\n",
    "from sklearn.model_selection import cross_val_score\n"
   ]
  },
  {
   "cell_type": "markdown",
   "metadata": {},
   "source": [
    "###### Loading data"
   ]
  },
  {
   "cell_type": "code",
   "execution_count": 3,
   "metadata": {},
   "outputs": [],
   "source": [
    "df = pd.read_csv(filepath_or_buffer='https://archive.ics.uci.edu/ml/machine-learning-databases/mushroom/agaricus-lepiota.data', error_bad_lines=False)"
   ]
  },
  {
   "cell_type": "code",
   "execution_count": 4,
   "metadata": {},
   "outputs": [
    {
     "data": {
      "text/html": [
       "<div>\n",
       "<style scoped>\n",
       "    .dataframe tbody tr th:only-of-type {\n",
       "        vertical-align: middle;\n",
       "    }\n",
       "\n",
       "    .dataframe tbody tr th {\n",
       "        vertical-align: top;\n",
       "    }\n",
       "\n",
       "    .dataframe thead th {\n",
       "        text-align: right;\n",
       "    }\n",
       "</style>\n",
       "<table border=\"1\" class=\"dataframe\">\n",
       "  <thead>\n",
       "    <tr style=\"text-align: right;\">\n",
       "      <th></th>\n",
       "      <th>p</th>\n",
       "      <th>x</th>\n",
       "      <th>s</th>\n",
       "      <th>n</th>\n",
       "      <th>t</th>\n",
       "      <th>p.1</th>\n",
       "      <th>f</th>\n",
       "      <th>c</th>\n",
       "      <th>n.1</th>\n",
       "      <th>k</th>\n",
       "      <th>...</th>\n",
       "      <th>s.2</th>\n",
       "      <th>w</th>\n",
       "      <th>w.1</th>\n",
       "      <th>p.2</th>\n",
       "      <th>w.2</th>\n",
       "      <th>o</th>\n",
       "      <th>p.3</th>\n",
       "      <th>k.1</th>\n",
       "      <th>s.3</th>\n",
       "      <th>u</th>\n",
       "    </tr>\n",
       "  </thead>\n",
       "  <tbody>\n",
       "    <tr>\n",
       "      <th>0</th>\n",
       "      <td>e</td>\n",
       "      <td>x</td>\n",
       "      <td>s</td>\n",
       "      <td>y</td>\n",
       "      <td>t</td>\n",
       "      <td>a</td>\n",
       "      <td>f</td>\n",
       "      <td>c</td>\n",
       "      <td>b</td>\n",
       "      <td>k</td>\n",
       "      <td>...</td>\n",
       "      <td>s</td>\n",
       "      <td>w</td>\n",
       "      <td>w</td>\n",
       "      <td>p</td>\n",
       "      <td>w</td>\n",
       "      <td>o</td>\n",
       "      <td>p</td>\n",
       "      <td>n</td>\n",
       "      <td>n</td>\n",
       "      <td>g</td>\n",
       "    </tr>\n",
       "    <tr>\n",
       "      <th>1</th>\n",
       "      <td>e</td>\n",
       "      <td>b</td>\n",
       "      <td>s</td>\n",
       "      <td>w</td>\n",
       "      <td>t</td>\n",
       "      <td>l</td>\n",
       "      <td>f</td>\n",
       "      <td>c</td>\n",
       "      <td>b</td>\n",
       "      <td>n</td>\n",
       "      <td>...</td>\n",
       "      <td>s</td>\n",
       "      <td>w</td>\n",
       "      <td>w</td>\n",
       "      <td>p</td>\n",
       "      <td>w</td>\n",
       "      <td>o</td>\n",
       "      <td>p</td>\n",
       "      <td>n</td>\n",
       "      <td>n</td>\n",
       "      <td>m</td>\n",
       "    </tr>\n",
       "    <tr>\n",
       "      <th>2</th>\n",
       "      <td>p</td>\n",
       "      <td>x</td>\n",
       "      <td>y</td>\n",
       "      <td>w</td>\n",
       "      <td>t</td>\n",
       "      <td>p</td>\n",
       "      <td>f</td>\n",
       "      <td>c</td>\n",
       "      <td>n</td>\n",
       "      <td>n</td>\n",
       "      <td>...</td>\n",
       "      <td>s</td>\n",
       "      <td>w</td>\n",
       "      <td>w</td>\n",
       "      <td>p</td>\n",
       "      <td>w</td>\n",
       "      <td>o</td>\n",
       "      <td>p</td>\n",
       "      <td>k</td>\n",
       "      <td>s</td>\n",
       "      <td>u</td>\n",
       "    </tr>\n",
       "    <tr>\n",
       "      <th>3</th>\n",
       "      <td>e</td>\n",
       "      <td>x</td>\n",
       "      <td>s</td>\n",
       "      <td>g</td>\n",
       "      <td>f</td>\n",
       "      <td>n</td>\n",
       "      <td>f</td>\n",
       "      <td>w</td>\n",
       "      <td>b</td>\n",
       "      <td>k</td>\n",
       "      <td>...</td>\n",
       "      <td>s</td>\n",
       "      <td>w</td>\n",
       "      <td>w</td>\n",
       "      <td>p</td>\n",
       "      <td>w</td>\n",
       "      <td>o</td>\n",
       "      <td>e</td>\n",
       "      <td>n</td>\n",
       "      <td>a</td>\n",
       "      <td>g</td>\n",
       "    </tr>\n",
       "    <tr>\n",
       "      <th>4</th>\n",
       "      <td>e</td>\n",
       "      <td>x</td>\n",
       "      <td>y</td>\n",
       "      <td>y</td>\n",
       "      <td>t</td>\n",
       "      <td>a</td>\n",
       "      <td>f</td>\n",
       "      <td>c</td>\n",
       "      <td>b</td>\n",
       "      <td>n</td>\n",
       "      <td>...</td>\n",
       "      <td>s</td>\n",
       "      <td>w</td>\n",
       "      <td>w</td>\n",
       "      <td>p</td>\n",
       "      <td>w</td>\n",
       "      <td>o</td>\n",
       "      <td>p</td>\n",
       "      <td>k</td>\n",
       "      <td>n</td>\n",
       "      <td>g</td>\n",
       "    </tr>\n",
       "  </tbody>\n",
       "</table>\n",
       "<p>5 rows × 23 columns</p>\n",
       "</div>"
      ],
      "text/plain": [
       "   p  x  s  n  t p.1  f  c n.1  k ... s.2  w w.1 p.2 w.2  o p.3 k.1 s.3  u\n",
       "0  e  x  s  y  t   a  f  c   b  k ...   s  w   w   p   w  o   p   n   n  g\n",
       "1  e  b  s  w  t   l  f  c   b  n ...   s  w   w   p   w  o   p   n   n  m\n",
       "2  p  x  y  w  t   p  f  c   n  n ...   s  w   w   p   w  o   p   k   s  u\n",
       "3  e  x  s  g  f   n  f  w   b  k ...   s  w   w   p   w  o   e   n   a  g\n",
       "4  e  x  y  y  t   a  f  c   b  n ...   s  w   w   p   w  o   p   k   n  g\n",
       "\n",
       "[5 rows x 23 columns]"
      ]
     },
     "execution_count": 4,
     "metadata": {},
     "output_type": "execute_result"
    }
   ],
   "source": [
    "df.head()"
   ]
  },
  {
   "cell_type": "markdown",
   "metadata": {},
   "source": [
    "###### It shows that the number of rows are 8123 and attributes are 23.  "
   ]
  },
  {
   "cell_type": "code",
   "execution_count": 6,
   "metadata": {},
   "outputs": [
    {
     "data": {
      "text/plain": [
       "(8123, 23)"
      ]
     },
     "execution_count": 6,
     "metadata": {},
     "output_type": "execute_result"
    }
   ],
   "source": [
    "df.shape"
   ]
  },
  {
   "cell_type": "markdown",
   "metadata": {},
   "source": [
    "Each row represents a single mushroom. The first column is the target variable containing the class labels, identifying whether the mushroom is \"poisonous (p)\" or \"edible (e)\". The remaining columns are 22 discrete features that describe the mushroom in some observable way; their values are encoded by characters. \n",
    "\n",
    "###### It shows that among 8123 rows, 4208 rows are edible and 3915 rows are poisonous.  "
   ]
  },
  {
   "cell_type": "code",
   "execution_count": 10,
   "metadata": {},
   "outputs": [
    {
     "data": {
      "text/plain": [
       "e    4208\n",
       "p    3915\n",
       "Name: p, dtype: int64"
      ]
     },
     "execution_count": 10,
     "metadata": {},
     "output_type": "execute_result"
    }
   ],
   "source": [
    "df['p'].value_counts()"
   ]
  },
  {
   "cell_type": "code",
   "execution_count": 40,
   "metadata": {},
   "outputs": [
    {
     "name": "stdout",
     "output_type": "stream",
     "text": [
      "e    4208\n",
      "p    3915\n",
      "Name: class, dtype: int64\n"
     ]
    },
    {
     "data": {
      "text/plain": [
       "<matplotlib.axes._subplots.AxesSubplot at 0x1832b7eeba8>"
      ]
     },
     "execution_count": 40,
     "metadata": {},
     "output_type": "execute_result"
    },
    {
     "data": {
      "image/png": "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\n",
      "text/plain": [
       "<Figure size 432x288 with 1 Axes>"
      ]
     },
     "metadata": {},
     "output_type": "display_data"
    }
   ],
   "source": [
    "#show plots in notebook\n",
    "%matplotlib inline\n",
    "\n",
    "#bar chart of classes using pandas plotting\n",
    "print(df['class'].value_counts())\n",
    "df['class'].value_counts().plot(kind='bar')"
   ]
  },
  {
   "cell_type": "markdown",
   "metadata": {},
   "source": [
    "###### As the column labels are not updated in the dataset, it needs to be updated for better understanding."
   ]
  },
  {
   "cell_type": "code",
   "execution_count": 14,
   "metadata": {},
   "outputs": [],
   "source": [
    "column_labels = ['class','cap-shape','cap-surface','cap-color','bruises','odor','gill-attachment',\n",
    "             'gill-spacing','gill-size','gill-color','stalk-shape','stalk-root',\n",
    "             'stalk-surf-above-ring','stalk-surf-below-ring','stalk-color-above-ring','stalk-color-below-ring',\n",
    "             'veil-type','veil-color','ring-number','ring-type','spore-color','population','habitat']\n",
    "\n",
    "df.columns = column_labels"
   ]
  },
  {
   "cell_type": "code",
   "execution_count": 15,
   "metadata": {
    "scrolled": true
   },
   "outputs": [
    {
     "name": "stdout",
     "output_type": "stream",
     "text": [
      "<class 'pandas.core.frame.DataFrame'>\n",
      "RangeIndex: 8123 entries, 0 to 8122\n",
      "Data columns (total 23 columns):\n",
      "class                     8123 non-null object\n",
      "cap-shape                 8123 non-null object\n",
      "cap-surface               8123 non-null object\n",
      "cap-color                 8123 non-null object\n",
      "bruises                   8123 non-null object\n",
      "odor                      8123 non-null object\n",
      "gill-attachment           8123 non-null object\n",
      "gill-spacing              8123 non-null object\n",
      "gill-size                 8123 non-null object\n",
      "gill-color                8123 non-null object\n",
      "stalk-shape               8123 non-null object\n",
      "stalk-root                8123 non-null object\n",
      "stalk-surf-above-ring     8123 non-null object\n",
      "stalk-surf-below-ring     8123 non-null object\n",
      "stalk-color-above-ring    8123 non-null object\n",
      "stalk-color-below-ring    8123 non-null object\n",
      "veil-type                 8123 non-null object\n",
      "veil-color                8123 non-null object\n",
      "ring-number               8123 non-null object\n",
      "ring-type                 8123 non-null object\n",
      "spore-color               8123 non-null object\n",
      "population                8123 non-null object\n",
      "habitat                   8123 non-null object\n",
      "dtypes: object(23)\n",
      "memory usage: 1.4+ MB\n"
     ]
    }
   ],
   "source": [
    "df.info()"
   ]
  },
  {
   "cell_type": "markdown",
   "metadata": {},
   "source": []
  },
  {
   "cell_type": "code",
   "execution_count": 133,
   "metadata": {},
   "outputs": [
    {
     "name": "stdout",
     "output_type": "stream",
     "text": [
      "class ['e' 'p']\n",
      "cap-shape ['x' 'b' 's' 'f' 'k' 'c']\n",
      "cap-surface ['s' 'y' 'f' 'g']\n",
      "cap-color ['y' 'w' 'g' 'n' 'e' 'p' 'b' 'u' 'c' 'r']\n",
      "bruises ['t' 'f']\n",
      "odor ['a' 'l' 'p' 'n' 'f' 'c' 'y' 's' 'm']\n",
      "gill-attachment ['f' 'a']\n",
      "gill-spacing ['c' 'w']\n",
      "gill-size ['b' 'n']\n",
      "gill-color ['k' 'n' 'g' 'p' 'w' 'h' 'u' 'e' 'b' 'r' 'y' 'o']\n",
      "stalk-shape ['e' 't']\n",
      "stalk-root ['c' 'e' 'b' 'r' '?']\n",
      "stalk-surf-above-ring ['s' 'f' 'k' 'y']\n",
      "stalk-surf-below-ring ['s' 'f' 'y' 'k']\n",
      "stalk-color-above-ring ['w' 'g' 'p' 'n' 'b' 'e' 'o' 'c' 'y']\n",
      "stalk-color-below-ring ['w' 'p' 'g' 'b' 'n' 'e' 'y' 'o' 'c']\n",
      "veil-type ['p']\n",
      "veil-color ['w' 'n' 'o' 'y']\n",
      "ring-number ['o' 't' 'n']\n",
      "ring-type ['p' 'e' 'l' 'f' 'n']\n",
      "spore-color ['n' 'k' 'u' 'h' 'w' 'r' 'o' 'y' 'b']\n",
      "population ['n' 's' 'a' 'v' 'y' 'c']\n",
      "habitat ['g' 'm' 'u' 'd' 'p' 'w' 'l']\n"
     ]
    }
   ],
   "source": [
    "for col in df.columns.values:\n",
    "    print(col, df[col].unique())"
   ]
  },
  {
   "cell_type": "markdown",
   "metadata": {},
   "source": [
    "###### The data description indicates that the feature \"stalk-root\" has some missing values, denoted by \"?\". There are 2480 missing attribute values in the dataset and all of them denoted by \"?\" for the attribute stalk-root."
   ]
  },
  {
   "cell_type": "code",
   "execution_count": 37,
   "metadata": {},
   "outputs": [],
   "source": [
    "df_null=df[df['stalk-root'] == '?']"
   ]
  },
  {
   "cell_type": "code",
   "execution_count": 38,
   "metadata": {},
   "outputs": [
    {
     "data": {
      "text/plain": [
       "(2480, 23)"
      ]
     },
     "execution_count": 38,
     "metadata": {},
     "output_type": "execute_result"
    }
   ],
   "source": [
    "df_null.shape"
   ]
  },
  {
   "cell_type": "markdown",
   "metadata": {},
   "source": [
    "# 2. Construction and Tuning the Classifier"
   ]
  },
  {
   "cell_type": "markdown",
   "metadata": {},
   "source": [
    "The next step is building and training the actual classifier, which can accurately classify the data. \n",
    "With this it will be able to show which type of mushroom in the dataset belongs to, based on the features.\n",
    "For this task, it is required to split the dataset into a training set and a test set. \n",
    "With the training set classifier will be trained, and with the test set the accuracy of the classifier will be validated. \n",
    "\n",
    "Usually a 70 % / 30 % ratio is used when splitting into training and test set, but this ratio should be chosen based on the size\n",
    "of the dataset. For example, if the dataset does not have enough entries, 30% of it might not contain all of the classes or \n",
    "enough information to properly function as a validation set.\n"
   ]
  },
  {
   "attachments": {
    "flow.png": {
     "image/png": "iVBORw0KGgoAAAANSUhEUgAABBEAAAFdCAIAAADaO2KMAAAAAXNSR0IArs4c6QAAAARnQU1BAACxjwv8YQUAAAAJcEhZcwAAEnQAABJ0Ad5mH3gAAK2ZSURBVHhe7N0FfFPXAgbwNNKkqbu7UcdbrMXdhjsMNmBjDLYx2NgYMB8bY8IYznB3d9oCpaXu7u4SafydJBcoG+tjaOX7v/14ueeem6RJ7s35cs49V0OhUNAAAAAAAAD+BZ36fwAAAAAAgCdBZgAAAAAAgOYgMwAAAAAAQHOQGQAAAAAAoDnIDAAAAAAA0BxkBgAAAAAAaA4yAwAAAAAANAeZAQAAAAAAmoPMAAAAAAAAzUFmAAAAAACA5iAzAAAAAABAc5AZAAAAAACgOcgMAAAAAADQHGQGAAAAAABoDjIDAAAAAAA0B5kBAAAAAACag8wAAAAAAADNQWYAAAAAAIDmIDMAAAAAAEBzkBkAAAAAAKA5yAwAAAAAANAcZAYAAAAAAGgOMgMAAAAAADQHmQEAAAAAAJqDzAAAAAAAAM1BZgAAAAAAgOYgMwAAAAAAQHOQGQAAAAAAoDnIDAAAAAAA0BxkBgAAAAAAaA4yAwAAAAAANAeZAQAAAAAAmoPMAAAAAAAAzUFmAAAAAACA5mgoFArqJgC0PlIxvzzjxoXYSjlfQhU9Ttfc2dMnwM9Jm1quzghJTE5NLaMWaTSnjgP8Ojib6lGL5IBQmnTpXkp+RTVZ4hpxXHpM6mLJYTX5fUHaSCuNOn47i+PUy8fd2U6fKgYAAIC2CpkBoFXj1xWF75k25PtIabGAKnqcQ4/JCz9cv2KCNdnTRRUZKaEHVu06ev5cErWaRguavuatGTMGdre1MNKUKxSC8pT9v35wOKygrtFQQ6zBqbCbvHf1jK6O+tqa6tggkdRm5+1cOeqv3C6zv3538rCeNqpiAAAAaLswNgmgVdPQoGtyDcxMTM3+zliPy2LSGSwGk6XsJFDIaOKsiz/M+/aPK1dz9A0fVuLcPvzlmh/Xnw4uldIUYnlj5qmVX50Xewd99dfZS3v/WhLgfHH18iNpmRUi9ePJpRXlBZe/XXlV0OmdcQM6IzAAAAC0B8gMAK2alq65//S9CcExKY9JTky5/s2cbk5m1h0sPb07mtNokkZa2P69kWVxVd0GzfnlmLJSQkrK5XVjnDwMckNj7p26mUKT8OT5IcFxjR16D/D38zTSsTR07hjkKUsrKOA1Nqofrzoj8eYv3x2Vjl38Tv9u3qbqQgAAAGjbkBkAWjUNDTqLo2dkYGjUlKGBvjgrLpdXaxXQpU8ff0u6SNSYc3rv8cIivb5vz5oxf1R3ZS1TIyOvcYvnBXk7GyZmFYclxisUNJlELKUxWCwWg0HX0NXStnR0kCvyCsqFIj6N1pB2LeTwjl/Cvd/c89nIDjbmTBxAAAAA2gV85QO0PY1yWcLlvRG5+bbOHp5+3vqaNJFUkh97u4yn69Oxp18Xd2MdZTUNGo1j2rF/V29rR82y+rKCXOVZz00x6AxNjrYGzUBXm8nQbEiJDb5wJqSE03/+vKEuDrqamlQ1AAAAaOOQGQDaGpmgtiry+InwfJF9bz8fDzdD5UxHspqCnAqZUNvS0FDXgEPVVNJ2dXTQtzQVSiR8XiNbw9DJ2YpZXl1aUVtHE1XWl6bFpDHdfX1MdRXFERevRebkWw5YOGugtwGdw6DuAAAAANo8ZAaANqZRUJUdvv1kOM/AcWxgt06OFqRMIpFXV5XLFRJtLTaL+Xj/gIGeAZurI5RKeXyJFt20y+Bx/prFURHnjp45eej81eAIcd+pvT3YFWGXTobE82w7Tp0+o6shg65BbQ0AAADtADIDQNsiLa8qvLNnVyaPNnBwb0+vh9dlUDM30dfhPrgUQ1OVgsbisgoWnWkzYMVnUw3Ksvb9+PHq33fcETgv+eUt38as49+euCfT7zB89iDL+pL0jIx0pdzS8rpGKXUPAAAA0GYhMwC0LRVltdHhxxl0/she3hbG1lTp0yPHhO4zthw5pZp+6f6Vo1vHGelG//jjyfzGXqNHTBxilRFyYpmHj5eH0rBPvz0eV0ltCAAAAG0WMgNAW1KXmxlz/thtBqPTO5N6O9sYUcUPFZZW1/NqqIWmLHS49jaW1IKGBp0iqeSl7Vv4wWFZwCdzJg7zLtt9+Kc1G+Le+vl+7L2E3as7FEYf3P/dsVRqMwAAAGijkBkA2pCSpJSIkN2ZTMag6ZP9zGx0H5ynrKlJN7OwptPZYolUJpdRpWqVNZXChjoWWanJoooeEFQXxp/ftO0Srf+I0f0CfbVk1bkldXLjkVNHeXl18hw2eqirnawkNTgxhaoPAAAAbRMyA0Cb0VCQGB5x606RQq/b0BFuxlzuw6mNGByGnq2TLZ1Tm11WVl0hoIqV6pLTs2oKReZ61rYO+lSZmqgsIyX40l839APfnTMkwMlGr662sqa6Stu4g6OFhgaTZmxhZ2rEljZW1FRRWwAAAEDbhMwA0FYIC5Ji48IT6g1tO08JctLmMKlyJTaTaeftb6YtSoq4GxOeXC5UFspJzMgJPh+ekF9p4GTv7ePe9OToury0uxdPXIqp9H57/tQeHcx02DSBsEFQUSqtrucpqEo0GnkYPe7j51kDAABAW4PMANBGCPIiU5LTMuUdHHvPHOND4z42o6omi23VZWhvO6OG2KvnTh4+dTOCuBcRcXXvlsN38/mGPl7du7oYU5UJfnXcxQunL58ot5j5ydQuXI4qFWhxuFp0Oj87JatWrpDRxAIeX6SnrW1nbqXaBgAAANoqZAaANkEuSbpxNjz2Ps3Fafj4ITY0WtNeBoLO5li9MWu4vWOHilsXfl4wwp/o5e8/fvXVsnzzcUOHDZ/Y42FkkEsbYy6euHIpWs9t3NIl3Wha1HkOznYdXDt34Mmvht6sqy2tz4yJyyjiKYxtzczV6wEAAKCNQmYAaBNKzl65lhuZ5GVh2sO/M1X2ONLw7/HWge2rPho6sOkMrENWb/jpo8/G+ZlQywoarfj6unUHYhWmb8xdP68jVaxi03P8mEWLJuptXuzn1bVDv/nRrn4T3tsw0YNaDQAAAG2UhkLxaGQyALRWjWU56QWlVTSOubWTp+XjJzM3JarJzywsKq9spJZppm5e9qZmuk1HMjVWZqYU1rNYJtYudoZsqlBN2lhfUZKemsejKY8chvaOtpYOxlrUSgAAAGijkBkAAAAAAKA5GJsEAAAAAADNQWYAAAAAAIDmIDMAAAAAAEBzkBkAAAAAAKA5yAwAAAAAANAcZAYAAAAAAGgOMgMAAAAAADQHmQEAAAAAAJqDzAAAAAAAAM3BdaABWiiyZ8qVsIe2IxoaGgw6+UeDWgYAAGgZkBkAWqjqesG54Pir91IFjWKqCNq6rp724wZ0dHcwp5YBAABaBmQGgBYqp6hq2c/Hy6obZDI5VQRtnaEed/mcQX27ulHLAAAALQMyA0ALlZ5XPnvVbnJjbD8/e0sjdSG0VTyBaM+5cIlUtnrhiKE9PalSAACAlgGZAaCFepgZNiybEODrqC6EtqqsumHqih1CkQSZAQAAWiBkBoAWCpmhXUFmAIAWRSwW19fX83g8iUTS2Ngok8moFdAC0Ol0TU1NLperpaVlYGDAZDJfweQZyAwALRQyQ7uCzAAALQHJBiQhECUlJffv309KSqqpqSkoKODz+VQNaAHYbLaZmZmzs7ODg0Pv3r1NTExIfiCFJDxQNV4CZAaAFgqZoV1BZgCAliA/P//48ePnz59PTk6ur68nEYI0FJXTfqO52JIo5+TW0KDT6QwGg+SE7t27jx07dvDgwS4uLlSNlwCZAaCFQmZoV5AZAOA1kkgkJSUlBw8evHz5cmZmZk1NDSm0sbHx8/Pz9PQ0MDAwNDQ0NTUlN9T14XURCARFRUUNDQ3kPUpKSoqLiyPvF5vNNjIycnd3HzRo0OTJk62trUmcoDZ4cZAZAFooZIZ2BZnhhZNKpfX19aQZVKCSn59fUVEhEomo1dCyMRgM0kK1tbUlzVZLS0s7OzvSJGKxWNRqeKFIAzQ2Nnb37t137tzJzc0lr3bv3r27du1KXn8zMzMTExOOCpfLJf9S28BrQtIdeb/EYnFjYyM5ppWVlZGDW0REBHnvysvLSVro3r3722+/TcKejo4Otc0LgswA0EIhM7QryAwvVnV1dVxcXHBwcGFhIYkNaqSQfNFSNaBlI5mBhASSFiwsLEh4IDd69uzZrVs3Kyurl/EDantGGpqkuXnkyJErV64wmcxevXoFBQWRV9vDw+OFNzrhZeDz+YmJiffu3QsNDb1//z450A0fPnzKlCnkrSSRj6r0IiAzALRQyAztCjLDiyKVSouLi0kb6MSJExcvXtTQ0CDfmvr6+rq6utra2mw2m6oHLRt5HwUCQX19fW1tbV1dXVVVVZ8+fcaNGzdw4EBnZ2e8jy9KQ0PD5cuXd+7cGRISQoLZ4MGDZ8yY4ePjg7TQ6giFwpiYmKNHj547dy4nJ4fsKQsXLuzXrx85+lE1nhsyA0ALhczQriAzvCgFBQWHDx/ev39/cnKyiYmJt7c3aWt6eHg4OTnZ2dkZGxtT9aBlIw2goqKitLS0xMTE1NTU0NDQkpIS8oaS2DB37lzytpI0SFWFZyWTyUi6/umnn65fv072jilTpnzwwQckXeO1bb2Ki4v37dv3xx9/kP2F7Czz58/v3bu3pqYmtfr5MNasWUPdBICWpKqOf+pmHLlBWpA25obqQmir+ELx8WsxUpm8b1c3F1tTqhT+u02bNu3cuZO0Ml1cXD788MMff/yxf//+np6elpaWXC6XqgQtHovFMjIycnNzIy2eESNG+Pn5ZarExcVVVlaSkpc6p2R7oFAoqqqqVq9eTQKDlZXVrFmzVq1axWazERhaNRL5OnXqRN7H5OTkiIgIEgtJwCZhm1r9fDAoEAAA2gLy7Xjp0qVz584VFhYOHDhw/fr106dPxyCWNoDEg4CAgN9//33atGnkDb1//z5JhhKJhFoNz0QkEv3888/kxTQwMJgwYcK8efOoFdDKcTgckgDHjh1raWkZGhp64MABasVzQ2YAAIBWjwSGioqKP/74Iykpyc/Pb+LEib169TI0NMSPpm0AeRO5XK67u/vUqVP79etXXFx8+PDh1NRUzIL1zMhLl5mZeeHChcrKyv79+48ePfrFniwLrxGdTieHPhICe/ToUVNTExYWFhkZ+ULORMDYJIAW6mnGJvFKU+PPrt948Pq1a9f/VXxBlsSkq/3zngXFywy+ef7w/hvJRZpOXhYc+n9pigmL4+KuHfzzaHAq3dXRhMPVfNm/VpRl3rl6+s89R6iX4Pr1XIlCy9DZtOUOTcHYpOckEAhiY2M3bdrEYDCmTJkybtw4c3Nzah20CeSdJS0hsViclpaWl5fn6Ojo5uaG8WbPhkSFgwcPkszg5OQ0bdq0wMBATKLaxhgbG1dXV2dlZeXn55PUTZLh8084hswA0EI9TWaozbkXun3Rp1tvh4Te/lcF4nqzLm/2tKG2eVa1MYcP/7X5j2sFYpfh43z1GfT/kBn4mbduHd7w2a7b5Y7jhnkZGmu/zIHIgrzEuxeObt6+8899x6mX4PbtzBop19zJ3s5S77/M787Pjr1953ZiaTlN18FEiyp8OZAZnlNtbe3ly5dv3Ljh6ek5efLkrl27UiugDSHtWoVCUVpaGhcXp6Oj06dPH1xi7BmQ1zA3N/e7774rLi4mgWHEiBE2Ns/7BQEtDUkIZH8pKSmJiIioq6sbN26clpbWc8YGjE0CaMVYXEMz1wB//wC1rt5O9qYcJptr3iGga3eqMMDP3dPyBcyax9KzsnXv1NXX082U/V+HezC4xqaOfv5dOntbcTmsl3vY4WWeO/Tz7zvOJVW4daZegYBOHRrCEm9fPR5fR1V6StXhp39d89GazX/cyqNKoKUSCoVJSUlisdjb29vKyooqhTbH0tKyQ4cOEokkLS2tsbGRKoX/grxuJC0kJiYymUySu5ycnKgV0LaQPaVLly4kV6tjNjlIUiueFTIDQCtm6Nxr5Jdht++GqV3etnLpMDt9a7cJv4RdukUVhh3c8Od0L2qD52DYbeY7P5y4cnDTNyMsmP+lk4HQdR80asXB4Munt01ztDV4qVdylSdcPhKVniLvOmbWz+epVyDs7MZFQ/o7amkxMbS9zSJfh6QRKZVKbW1tjYyMqFJoc4yNjR0cHEhmSE9Px/kMz6a8vDwmJkYmk7m6upIMhlFJbRXJhPb29t7e3uTweOvWLR6PR614VsgMANBmyGm0wtJCUUNdF1+PwBEDH57SZ9H7vU1ffvn5kiCM+WmzyJdiQkICaUo6Ozu/qIkFoQXS1NTkcrlyubyhoYG0eqlS+C/KyspiY2NJg7J3794I2G2bo6Nj165dxWJxfHw8+hkA4Ck0FNbe+G7MiMGfHU4IvXRg2+fKuUdGjJ/2411phUBdozDtxtbVpPShqau+PBhdoV6plnP1yE+LJi/8ZHscTUYa50Tm+b++WTB9yZd7outkeUfWTB4zSr3tuEULNtwqUTXhKaVR4XtWjBg39cc74nL1IxaF3dz20eip836JkNfmXdr8wZwJ6m1HTBu14mxKw+O/H8oEtOKTP8yZOFZdp6kVuw9HkodSUyinz5EqFPLU8qrMrNyHxzcGW8dQT19Ph/3YES8/ZPMfS6m7UXrztz23s1Wjl0SC6rhTHw6ZNPurv+6kl6VfD/75bWWF/gPm74hKKMFwiJaINCL5fD75V0dHB/OrtmEaKuQGrkj7zEjbsaqqik6ne3t743rPbZuhoaG1tbVUKi0sLHz+6YmRGQDaAYlQUp5653boraObf/tz15/7z98iQu/eSinji6S0gtvndm5c+d3mfcrSB87v27Nr968HoysfNv35pQVp0WHRCTm1yra5Eq8kLyXq3NE9G9cseXfFL3svXLmq3vbS8ZP7tn6xMTRP8OAQJaypzksIvRueViknD6gqqSrPjrty/vT2te8uXbFu85Ezl9TbXj139chvn/18JaawlvpJhFdcdW/P4k9+2XXm4mV1nabicwtqHjbiyQHNpHNAFys7rax7J7f/+N1np9IlVL75m+r4E7/s/GPz1qPU3Sid2bbx6+27jkblkeAhri2KCw2LSMmtahDxyivSo8j64ODgqJyaOiF+2myJSAuSBAZyg8FgPP/0IABtGMkMlZWVZDfBwKQ2T1dX18TERCaTFRcXIzMAwH+Qc/fkvSKmQffpH3zwwaL5cwc7M3U0abSqlMjr8REFxl1JKeXtiV20GSnXTh8LTqyjyZr9Oa++JOv+pePb73A6T537Ntl04aTRnfUVybeO7jwXVSbiqxPCvxA1VCVd3Lr7psC0zxuzyLbvzpw5yMUw//bpnSfvpldWiZV1hFX5Kde2bTt0W9Zx7BvKB/hg0ZzxY7ua0jToZv7jJ/fv0sXu4TSyGuQI6RQ4adIbQ3x0K+8c//PPjb9t2PDLhnOxqaV8qgqhkNcnXzh5aMeBOJnMZ6byHlXe7smoTzh7+NT10CwRS9vGb/x7b80e1sPJXNfM3XWA8hVbunTJtJ52Vvov9XwMAICXSyQS1dbWamhomJmZaWqS7wBos8j7S2IDl8sl7/jzj+VDZgBoR3ia5h2Hzli66oeff/553ddfLOlrbqLNpOnZuvgNmzrno9WklPL9J7MHBprVNuRGxxTSJM0fZ7hGuh2Chk/94PPv1v1ENv1h1cdzRvQ2l0lybkfniRuaP0eRpUW36x70xsKPVn+7jmz741erl04b6sJlF99NyautaCA1JHW1pQmxCXI9t2HzP/v8e+WT+/Hr5R/ODLCl0416znlnbGA/98fH49r3nTht9tK3pw7uaOOWt+/T5cs+/H7rrsNX7ycXVCifjFyh4Gdd2Hs1hi/sMGbysi+V96jy3YrZY/zldYVRN4NLFbrOvd9dt/qTmUO8bQxtOvtN/EhZY/36j4a7ORnjKxYAWjGpVEpiA8kMJiYmyAxtHnmL9fX1yZv+/MP5kBkA2hH7MZ/MnzpqtLcetazmNHTG8oVfLfY3yXmojqZlYGDFEonyCktpqhEf/4ph7dNh2udn143yM9ZWjiLX8/YN6DtljJlcnl5UKhOp+gr+jYaepfbYb3Z+PXmoh7lyUC3X3tpryKLZLlxOdlmlgKc884HfKKwuLdNROEzt7WNkpZqKnW1mYdOtd08FraKiWvDEB7DvN3bx+lP7Nv22KNDNxckyecdvH3+47IejVzMbGmkShSIv6nZqTYVtT0+3bs4K6i/Oyam37uHn7mzXWJaRmFamOjcCAKCtIpmBy+UyGAxquc0QN9SUFxWWVtTi1LMXDZkBAIi8xAvrl3g80mPmN79cyKdWNstAR7uDzTNOh6/FZnV0smez/t8l3sRCWuzlqOx69fnTgrys1LNHjmvQ7Oyt9LT/9VJrWla+Xd87FpuQdGCJZ3e73Nv7D2375kgUTUxT5OUnS/l1t4//+NYY6s9VC5rz0/mrhdTmAADQ+iQf+nXZ+KFzlm+JoQrgRUFmAGjvqm5v+uHdt6d+vO2i6BGxRCqVP9VP7Rqq36uohf+O/n8u9aBrZes9Zkp/Bj1h15LRY3p2JHqOenvRjmyFhl+fbo6mRv9+eWYNOp2pyWazuy38bd6IwJ6mlfX1RUWlZIW6h1Yuk0rE1J+rRv5o+dP90QAA8JTyEs79/KHy4P133Xr3n7EzNUt97tqLopDLJGKxWCrFwfxFQ2YAaOcqM6LCIkOypMZ9Zv1x6KFta+ZM6WlOVXmdRHU1xfFxaQpnS25xTlFCHJGQyuNxhq44sG5WgJW19v8/iGmbd3FzMbMyIYFALBEzaRoW5o4Mjlv/0Yu/20r9uU1sXr1mVjdTVRYCAIDnJuLXlOQqD95/F5+YlFkhFEmaHf/aAvFz0q5v/eTNd6ZsjW4ycV/bh8wA0M4JaqqqG+q1zR16DJk++YE+fpaGWnUv9LefZ1RfU5EbG1Ft1evN+cs+X7VGbeVnny54c2J/X3Mt7abDmhRSWk3U+W0HLwan5lHXnVDJj4zKLE+t5qrOBNPU0LD36W5roCuq0jDQdu9L/cVKw7rbMHTkdWKOnrZ6Q319PU22dkklL7voqcZpAQDAE2nqs5xGzF2+8nPqMK606tPlb/e2NNX5f8NTWxpJdWVW5NWTZ47cL64TPu8Epq0IMgNAO6fN4bLYbHFdSVrkhYMP7Np/+nZYUg1V5XWSKeRSqVCDI2Jo2drbuKmZmumXRx6+nlImeGwuV7mUVht9YfvWLX9s37mP+kuUdv1x4FpqAcvVvWNnV32Ghoax1+B+7syCpAuHt23dTdVR2rdj04at+09fSVVO2KSkZ2Vhom1cl5ETfGrnwYOHDh26HF9awWt2+liAv5GKaCWRF8+cuBlfUMyjyl4vSV1RXtRF6lN/MTqpqK756c2gBZLL5eXl5eHh4bdv305LSxMImv5M0iKRzOA4/M2PPv109SOfr/hoXi+L1pcZ2itkBoB2ztjKrYOru6A6cduaaQ8s/ONYfJHAtCVcH1RP28DKwaUx68DyDxfOop6e0qzp05f/fio0qqC+4WF3iAadpmlsayNMvfzHlwuoekprrmQJDPpNGz5m6gB3ZTUNk8A3hgcEBcmSk/auoOooLfr1akEJx8760RUYLO29be2cq3PDd6wl66fPWHsqPbOyHf2qBE9FUleRn5Ec01Rqblk9lS7FdbS4HSuWvP3t4XsxytNpXh1JfUlhVlJCWnZeTZM+w8ba4pgLB9e/r/7QT3v/j0N3skobaqoKUuISktLLG0UYBt7iKRSKmpqaW7dufffdd2vWrNm2bdu9e/dKSkoaG1vlOBlJTX5OekJqbnHl34KPqK66ODMmITmusEFMXZ2zkVdZmE3tZSrJuQWV/P9zUBZUFGanJqbnFtY+VlEmqKnMT4lPTM6vVzQZHiURCyryY2LiqAeIiUlMTy+sfbALSRrKcrJT09ILKgUyCa2K3G88qZKUVVRa/+jnJEFFVnaqeuOYmNj4mPSyWuH/mbS8VUBmAGhD6AymJpvDYbMYjw/H19DQYLA4BIvB+Mc4ffdx37/z7qK3+2g90m/x8pXL1szqobyrhwcJDabyztmaj0rUD8dmazIfv1M6gzyalhZ5tAcnR9OVVVUl5LmoSjRIHbYWh6P5sI6ahgadxSYbs5mqs6MV2gYGtr49OtA1OeQPo56eEo3NiN/xzrCv/7p1t/BBE4euSbMe98knUwf196BqUYa+9cO+H759Z7wyMRDkfrtM/mXPup/nzelJ1VDzn/HFis/WftTPVF2PRjPvOXHK0KH9O1DrtVzsrHT+faYmeH6kMSSRSEQiEflXfV3nlk0uEzc2Flze/dm8kZ2bmrBi67X7FRLpa/0Lqu78uW7RsP5T3199sYwqIq9w9uVLx3evPJzNZKs+00Xxebklifcun/p6fEC/YXP25RQ8bB1Bi6S+5HlYWNiuXbtOnz59/fr19evXv/XWW5s2bUpPTyf7TmvYcR5Tfu3b5bMGTfn410PJjz1zRe6N8z+/3WXguH4/R5TXi2lyqUScenf/1+9Re5nK6BVrDtwvljR76dGkAz99OHHQ3M++v15OlajUp1w4/tW4wCFjvw6VV6gv+6mQySRFuXF7v+jcuTf1AJ07D5w945tL2WKpKhOU3dux/IMp0+d+fTKVV6E4uWTiEGXF4e//tPluleoulMeE2L3vLJ2g3rhz5+69Ok/fci6ppE7W6qfYQGYAaDsM/CbM+u5S2JWTq3rRDDhUoZK+g+Hw78Mi406vHNbP9Qm9B/b93vtoZ8ojW9+dM2PexJV7Q8/sXdGDpq3+2d1t9JtfHrp5ZMvSbjSG+sjRYeJ7646Fndj8/UgL1TJFx7X/sJWnY++HfT/c0F59jWbrnn3e3RoZevXr/mxL9bkC9n2Hf7gzOvjC3hl25rqPOqbZZm7e84+ERSX8Ma9bV3KvRWH3T2+a9VepeMzvJ25EUk+PiLyV8OcEe1Od23FJaXmPT4/q++baLeeoapTfPhrh40CtfsRx8Mef7qFqqO37fPIwZ2otxbj3G59uuaBam5yU+PMEh79dQQ5eIKlUmp2d/cUXXyxZsuTPP/9MS0sjzSOCWt3iiKWijOPvB40Y9d63p+4XUIVq6ed/fuerNT8eSKKWW46s9NiMlEgTly5v7kyJiief69M/L+jfxZBaCy0f2SNkMhmfz286HqmgoGDjxo3z58//6aefiouLW1dssOjcw9PCuj634HZcMlWkkpuVkJqUbmnSddmsXrrabFrCnm8WfTDrywO3qPUqeeePbNm4Yv2tYmr5+eTeOPvTiv7jvzlOo6lDhFJlTPyZ9RMXHk3hif/fKD6xTJxJjgkrfr99PZ0qokkFtIQNH45e89ux6GyqqLVCZgBoO+hsHT0TK1trSyMt2mNTmNKZDG0TW1s7KyNtrUfdBI8wtQwMzO0fMdPX09XTMTK3sbIw5DzoGWBp6xlbWFuakTRC3bemjr6JpY2lmfFjZyLT6CwtbSMrO1sbE20GU/1oTI6WvpmtjbUxV4PKG0wtroG5nY0VCQyMJs9Vg6GpqW9BnqqZHpvNpPFry4rz0quFtA4efo5OTtTTs7e3sjBnSapoNJmJnq6uVtN4RGKHnpGZFVWPYmqoTe7s71hcQ8Omf7W9vYWRLvfhuCQ1hpaO4aO7M9Fhara5KyC1EKSVk5WVtWfPnn379p06der3339fsWIFaQZlZma2zOQgKM8N/33u75fjwtO1PEd9+M3hS4/s+3iijxGzqvbRwLnXwbDbrHe+2Xvkjy+XPeo6o0mV01CaGRr1HTDEXrVLWZnoa5m4BQ1Zsu3M0b0bxtlZ6f1tH4AWRL0vkHTt7Ozs4+Pz8IpspKS2tjY+Pn7Hjh3vvvvuzp07SXIg0UK9tkUQlotiN340ZeyYoQ9Mf3fajji+WMaw7uzjbmFfm1dyNz6Bqk1kZiXmJqcZ6nn0GOjG0WJp0MT1NeVm9j3f/Z7azYh9387o5M1LyLx/P7r8RVyIUyrk12gqtEetvHTpNPUQRzZ/NnmIVm5ByNV7heIGsUnnKZ+v2bRx/ZJhLtrGGsPWbtl/klTa+9WCmV0NJbWl+afWbbqWHGM1adZXu9XbXzh1+K8FLvqKG1dCI+8n1lMP1DohMwBAy8XUMzQwt7IW1tde++37VcuXPvDhp2s/359U1eDVp6tbB6fHL2sNrRBpBpHMUFVVlZSUVFhYWFZWRqLCjRs3tm3btm7dur1795aWlkokLelMElF5dWbIwV334ou8g95aPH/xnKmjhjwyZs67n6xZ/OboPrZU9deCbeLi0SWoX4/O3pYPc3Udr17Aq9NhsUxNjJVnAKkx9SxtPHsN6hfk76DN1UTDoEVT7ywmJiaBgYGTJk1ycnJiMqmfRIRCYW5u7rVr1zZv3vz111+T7E32JlJfvfY1kzXKqlIibl6/dvmBW3eD06ukMgWN4+jh7eJsWlmYFnLufg31dAsTk7PzUlkWzt27unNpygGwdn3HvbXgsw/fnETtZsSY0QO6eJNviIq09CL1Zs/H1Lvr6De//XLR9CFDhlEPMXLEoD6BPtrSmqjkfBlfxDF28uvUM8Df00aPyaZZd+5J0veQIYGdOzibKAR1eZFnLyaXeQaNHjdx2lj19kOHDx/71jtvdGQIMpPikwpadWhgrFmzhroJAC1JVR3/1M04cmNoT08b83Y6dICpyWRxNGmCqryL50Ijw++EUyISsxK1eowfPGXatN6+ToZcqnorxheKj1+Lkcrkfbu6udg++lW4nVD/dFpTU5OVlRUZGalu5ZCQUF5enp6eTppB9fX1MplMR0dHS0uLTn9Co7a4uJgEDHJj5syZzs5/G2H24kkqU9KD9/2wJ12j08Iln00fGeBo0fTXeU1ja1dvdzc7c21SlU/Lu/Xn+SQdn5EBnbzcqLFt5A8sSTh/Ofh6cAj5g4nouMh8mpGZvg6X1bQri5d+/dqN4Gsh95R1EjNieQZu5tpsqv+OJuVXViZePHw+9F74fWWFnOoKhb6rGTVXMK0y5f7d4OCEIrGBs5W2nFYScf7KxbNnrkcklFRINJis6pzIyFyxobaOjoG0JD8h9NjV+/UG3iZcjYedaWJeVcHd3aevR4aFK+8+Mrkwr17Txt5IU3VWkFJD4YMNvThFt0JCgq8Fh2UU14r1na101TVePJIn9+/fT24sWLDA0tJSXdiukH2B4HK55ubmHA5HU1NTrEIKyVqyK5WUlKSkpJB/eTwe2Zt0dXXJjqPeliCrLl68SPavRYsW6em9gt9cqgrjo++ci8+08h89bnCfHv7+3VT8A/z9A/p3MGYxOFqywqz0+LDk6nrdzmP62GhqaFTd3Xfi8v1Ujs/Q6VOHOmgpP286Fg7uBrqCnNjjF66pPo+RkfGJ8ZEx6VnlDLMOgVP62al6xUujbt6JSuKbdew/LlAd2ovDL4VGJwnMPXsMGu756O9tLElIigy5lqHwGvVeX3u6LptG4xia2Jm5WDYk7T5xIzJS9amPjY+NSUxPSShpcB68qI+DlvI6oo0lBUlRF69mlHqNeqefg5lyS6K+pijqzA9771VbOrpxFTU5SaqnGBkdk5BfkRN9P7XGxLyDT+/udi9tz3gycvw8efJkQ0PDwoULLSweG0j8n5EPEwC0QGm5ZQEz15H/wuKyqaJ2qqau5NIvQwaN6dfE6KkDN0QU1gipKq1faVV9v7c2kLf74p0kqqjdkMvlpJUjEAjy8/OPHDnSsWNHExOThz+dEhoaGqRVNHz48M2bN8fGxlZXV1NbNnH//n115cuXL1NFL5G4IvbE7rluDE3zwRsioosaqeIn4pcpLi70cTAauPLIuQxViaRRVpF09/Zv73V3c1Q/aYKpRevw1heHwpIreWJVLbmkUVAQfWbNUH8X9VlBNJq+leYbP56NLa0TSpV3w6vIv3tg07wOOpwHbXynwN6fHEosEcrlqruI2bp6WhfnoClf3VYoZBLFzZXDuv6948P7/UOnE+oU2VfOrx2mZ+H01hlRQb1qW4WYX10Qf37b18NpRg9DuaGn2+hvDodmlIilEnWt7KtkQx1jqym/hW1aNjzAVflU7XtN+OTqS9w3SXtX/XSio6OpovZEvbOQOJ2RkUE+9teuXSNpefr06T4+PoaGhg9HK6mZmZmNHTt2zx7lmVuk1UhCBbmHY8eOkaxF0oK6F+LlSwvbs+wNHTvugD9Cyxr4VOHjqu+f/mZ6oL2b3fCf7/LkAlnNrW9Hje7sGzjvj+vlVJXG8vTk6AMbloztQf1xj9gHjFkVTI4kqnrRmz+f0sm134yv76gWiYhflozxtug1bdGxx/7e6sh9m9/qoG/l+vY5aZHqYy+uK8pPPndoy+JhNNrfJrvQMjCffaQ6U33sqYm8veXtzvpWGm+dTVBvqVSUF/XbXBJtqC3+wWXKWxtDi6nKr86NGzdsbGzIUZQcPKmiZ4UuSABo4Qz0LIYsuXTlFDnyPXT6wNWl3awfO9EbWjfyhUSCgYeHx+rVqwcMGGBlZcXhcNRdCmSVWCy+cOHCxx9/vGbNmuDgYBIbSAkpV2/7yjVUleUkRBUzGH69u9kZG6p/ZXxqgnLRnZ+njvtqd2YNn7TdlCwsjLX1c3Z+8+XuYyFZVcrzVxWShpKcg+9+tCMqpVrTXF2JIzEMXvvlqdTkUhGNJm/ICL6x55v39pVw9E0tVBXM6+MLr21fe6lM+sQJWti6RiYmxnpcDoPJ1NQzIndoaWmqx+H8bd4zFbmkIuv2ns2fLFx1y4ipq757SwtmSfn1P94au/5CSUNtk4lqJLyqjN3vfbI7Lr1Wi1TT4XL49eo5ZF6uioqK4vantLSUBIaamhqSAYRCIdkRDAwMhg0bNmrUKC8vL7LXUK+OCql56tSpxYsXf/PNNxEREeQVI/WpdS2KYVe/7p0G+dQJk+8EZ0v5/Mi4iIoCdleXoL79qW5XWcmNX755b9mKrTdSzdSfRyVzI13th5m5WTK5XPp/TvCQ18SdPrB26fRF2++YWepTn3pLcxNDg8fP2fsXdA0NBlOTpqGpo29spt5nH2NqqN/KR/4hMwAAwOukoTrLXjkhMINBWjwkLcyePfvDDz/s378/aQyp66jxeLzz58+///77H3zwQVJS0uuejZ6toeFsY8X820n4T4e0cka+v+3stRS12JjwQ2v66NgUhadlFGYrr6YoFApygi/H8q2nf/bXpXuqSvF3Lp1d3tFCX1N1DzUlhemxSY36QWuP3o+NVVWIOP7TV5P+ZVwWnUnrtnTL0cN7Pxs33M7JtcuyXSkpCSkpZz4b/sS51OriroWcObijxEZz2rYrd2NUd59y/8ymn2caNopO7jqSVVL+aAoZkUgUGxtrP239zovKyc3untj8w6hXMWRo/Pjxnu0PCQZ+fn7dunULCgoaMWLEpEmT5syZs2DBgp9//vnevXtPvLhbfX39kSNHpk+fTpJDfHz86wvbzbF16ODp580Xxl8KzuOHhNytrGA6O/h7qWfIJjG6KP5+YlEeu/PIj38NVn8elW7vWDqvn5Wqzv9RWc/LKHo06fCTVORkpKbG15u7jPvickpkIvUQ989s/HG6K1WlOdpsrqVzJxaz06JvDl+PoLZu4vJPX03vbEZVbpWQGQAAWhLyfd7+kMBAp9M1NTW5XK6urq6xsbG7uztpDM2fP79v3746OjrqXEFqSiSSkpKSc+fOzZo1a+3atREREXy+crCD+sV7tchTYtDpqiHU/4m2OTvwk1MXV70zwNdNX83UxMSz7wBfA72CsorKCmVmIH+RQiqRKjIP308qyWtQVjKx8/SevfWnKT6qc5qVY7pk9YWi5N0XkzXFdGUFqy5jh8/85JsRFszH5k17gMnR1tHW1tJk0Rl0cltfX09fX4fDYv3zoi20qvyMlKToRmPT0T9+NsDBzkx57/r6ln69e06Y+5aLIO1mWHZ13cPJKDX1zTwW7ft+br++Xhakmp7Ok+dneyHIe03+cPVtkiHr2isSAxpUyItAdgGCRGipVDloTf3iNEUKxWJxRUXF4cOHly5dunHjxpY1o4AK3dbRxtOvN78h+vLtE9dO5VRYOTp4eHd42Icgl0llcrmJgaGtg5P680jkJ91JTr5XTv5CqtYTmVpY6upbZaeUXj1/upimvnxbdcRfe3Zs/uFMnqqGmkIuk8mk2hyOo6uHvqGR+iFqyrKTbp/Opaqo6ehxTUxteULamZC4esGDPjWujp5TrwEdOAVHfj50OzRdoN5eX19XX58f+ef7P28/ej6F/1+PFi2Kxms61ALA/5GeVz571W5yY8OyCQG+j4Y9Q5tUVlU/9ZOdQpHEglagS6ulStsT0hAkSKOHtGbUyNc3aRKVqjxxQIW9vb23tzcJFYMGDSIVunfvTgovX748ePBgdYWXpjrtyl/bl6/9LX3AN6Gbp/qYWat/+n8iQTktZLXvO0fMp21e+ubEES7qUtJsSbvy06HghFz15UXkUhE/OzQkscL7rT/fWzBvQgepWFCUHbrp64U7E3U8jV0cbFw62PeZ8OXoh793imoLwkIPbf7ps9NlPcZ4WrJ1fQcPG9R/SrcmP/DHblvz45Z9Ra5zvjn4eS91UXHI76s2/RqWaPXmryEf9yHNfXVxztULezdM/TNt0taU1X01bXTTrv647vevj95kOAeM8jUjcUNdjSYW1BRn3Y9KsP9075Y3h/tZ6eVcu7D353G/JXT69PKeWc6upv9xmNZ/Rz4Vly5dGjlyJLUM/xGJ5RwOh+xo5HZycrK1tbW6/GVKv7d327q5f5419R7Yx8mIw3o40IehpWc/ctlbfaxUV99vyL1zbM/yd9dkenvpJhWZzpq/aMGKGZ1UE4CQlir/1tejf9iTmEjv4OvvaKLanEaryLoTm5ZVou0/eta602v7qAJ8zJZV67YcLvOa/fXez3qqagnyr2/+fOOWY9er7bwD/Z20aSQmC4sTktPSkwr4+lau5GO/JpBhpStMPLxmy4Y/d2c4+498+LGvLUtPT7qXWmVgTqqtGmjorHxCZek3Dv0x9+ON+Q7dRvnZGXCtfYcEDhox2q2xNnX7uyPWX9Owd/Z08rBU9+CRnZ2fey9Y3GvZjLlvL+r94Lm/Kjdv3pw1a1ZRUVFMTIyfnx9V+mxIZgCAFgjnQLcfpK1cUlHbV3UOtIljZ+roDE+BxWJ5enq+/fbbn3zyibrklZwDzc++tfnLvposjvvi04UZtVTpk/3jHGgpv6r83q7ffl4w0s3aXP2kmwhauv1oimpDhVihSL/+67ofV86d0NvLwdjRatCCb7//YWdIXmGt+jTp2sqckKMrV6xaObWfjYmxY8/e0z74eeu+E3G1sn+eA00pCv5t7mRnD68+664pFCKqUPGPc6BjzqyZPoB6Rv/A0qZ1+/pgbFGdckPlOdBsY5uAn5LSy5s9F/xFIHsKCZNnzpyhngn8R0ZGRoGBgQMGDDA0NNTT08vPzycvKfXivkSqc6Cpp/AYTX0z/++jk0qoM+Yb8u5c+7anrYYGCRCOs3/bfq9KXa5WcHvHhgVdu9hQ2yq5DRwxNKifr5W9/+jmzoFWKMriz+79bGg/KrEr2XUfMW7ylAm9nZqeA12RfPXol6MHq8dDqdl06tR3yPR+Lo+dA60QVGdcOfZRLzu68qkSHcZ/uj60QaFolIqTLq/7ZukgJ7fHZ79zGzBr6dZbYTlPPgP8pbrx4s6BRj8DQItDvu/FUnlKTumibw6QRfQztHnkOEwyw/TPdjeKJJm3D1XmRFMr4OmoRzSVlSkHK7+SfgZadcLpS3+8O2tndc+Fx794v3dPF71/nfD37/0MUn5R3L2fps/YWa3l4uVobWSganQoZGJB/v3w9Cq/tzer+hlU21Jy7h86ff7o1fDaorTgFM3xW9Z9PmKgj+mDR5TSaMmnPttxIzUpOiOrtNbUftqPu7/uY8GkM5+9nyH1yrp1v687Gazt2qOrLXmgx0YaMdg0x/EfvNOvs4MR99X2M5A9RSqVXrx4ccyYMWSxY8eO5K1HM4YgL4JMJqupqSktLeXxeFTpA6S9yOFwrK2tfXx8Bg0aVFtb++uvvwqFwoSEBFtb0kR/2eNlitODr5767Uw4tfgIk6vvOG7Von42turdoLGsMu36hq+OZytoHuM/Htk/oPPjU4MW3tlx8cKFS6nUIq37nEWdxHUZ9y8X6AfN+nSKp2oK4OwrB09fuVNr22/qkvFN9qPKpMuhZ7bui6QWvUYtGu5rxMg4+9u1sp4Lf5vsSVdOokp27YyQeyd/3fHwuboPHtzVvrdGzNcnM0i1iX46FuqpjEVlVcqneiKLfF/TaCSZDxk9cYCDahWNlnn+q+PXYiPyqUWi2+xvx/Zy72BMLb5KL7CfAZkB4LUhOx9fJG0k+UBOU5A2g5wc9JU7JCmo54uTsks37btAqiEztG3kIKzuZ5i5ai8ywzNgsVh6enqk7VhQUEAWL126RDLDS28GlccmnP990KLdlY1DF215f9qYAG8jvUdzq0jqK8uqhDSutom5kfxvmaGhIv3m7tlvfBvjP33br2+P7earnK1dJuEVx2+YMXdrlOGEX5WZwU0iFdYV5vO0ba30uZqqyVbKCuNOfdtj0f7GScvOr5w52Mm4pr62gaZjY0GaW6q/NuXGr7/+suJipM3MLclr+moydZ89M1TG7F+3ZfvVq0az//zjrd6mXC51/Xa5tJFXV1bC07Ez11dNuPRaM8OWLVscHBz+bRB/+0EOICQnVFRUREdHh4SE5OTkUCtUaYHsIPr6+nZ2dsOHD+/atauVldWdO3e+++47khkSExPVv0BTtaEteoGZAedAA7w2JCvcSS7fejH9l1NJP59IWrUndvHm8Hf/CPtkV+T3RxP238ym6kFbp4wNDxo95Psb/kb9yjwRWWtpaTlp0qSVK1eqS15R89HM2bzXmGUd5fqa53+b/8H3v164V0Vabg+UXNyydOp7S9cfTKKq/wP58nUwM+HoaKs3qBHwQvf9ElNW+OC8YmFhWfiW2b4zNt3Kz+Gp62ixOBaOfjQmW/Wa1ETe3PLd4slfHsmXCyXqCoZ6JgYWTuRFoe7jOZjYu3TwsBfmBP82+svbxVUC9QPI5fWlqee3z+nx5o6EtPLXM2mV8o9/8JHgcDgkK+q0b+QVIKkgKiqKJKh9+/Y1DQwEWUVi1YQJE8gOEhgYaGZmpqWlpamp+fA1BHh66GcAeG3IvpdXziuvbZRK5XS6hq4WU5erKZLIwlIqQhNLS8prqgpSSDX0M7Rt5CAsk8mKy2tmr97fKJL099RzMmWSknZ+cCZ/PiESiXJzc69cuZKenk5eE2rdA8bGxkFBQb179/b09Kyqqpo+fTopvHjx4pAhQ15+k0guE5dX5Z5Y0/+Lk0UNPCNjA0Nd7sMpXqQN1eU19kMWv/npukUef+tnkNflRV353H/RKR25vpGeNls1JkMmlwmqcsvqZfLeS7cr+xlsc4rCd00b8nO2uRlTi6XqZyCPKKivqKju/8uxL8eNsEm/uGXLmq8vFFua6TFJS1p5J40NNXVsB6PRX0etH6LPpNOfvZ+B3Ff83QNbv5m/9YqumYOxFuthP4OIL+A12n94acscHz8rrVffz0CCy8NzoE+fPu3u7k5K1GvbFfJSkH/r6+sjIiL2799PokJdXZ1EorzUnroC4eTkRPaO7t27W1lZkZ1FnTG0tbXJDkUihEAgSEpKsrFpen4AtEEYmwTQRpCEIJYqf2ImX/maTHpOKS88raKWLyaFGXnlCbFRpA4yQ9umbgaRzDDri30kM0zt7+rnaNjOMwP526VSKckJpD0UGxtbWFhI2kYPXxA6na6np0e+/Pz9/UmT0dbW1sTEhLSZxo8fT9a+orFJSlK5rDLtZlz8zU3bzty+nlhNFSvZB86aNWX2lKGdPR01/z5vklRYV5589cBP7265VpFZqapuaK/fa/omv7iv99wxG/+TMjO4ChpLE6N2rJ31R0h2OTU8nWNs6zrxi4+mDxzmZ2XGbiiNPH982x/v/RWhXksY+QwKnLzovfG9+7kb0ckr8ByZgUbj1xblx1+5euXgkk23aTVCdT2aoZ1n34XrF44JCHDS1eMwXnFmIMjHgMTCESNGkNs3btzw9vZun3sK2UHIrnHo0KGoqCiSq4VC5WnE6lUMBsPMzCwgIMDX19fFxcVSdclnLpdL0gL5l8PhnDt3btmyZXw+/1XNmwSvEzIDQJtCQkODQBKRXplbxmMxNMwMtOr44quR2SnxMWQtMkObRzJDSUXtjM/3kMzw1ki/bh0s/vmbenug/j4irwYJAPfu3SPfcGlpaaWlpU1/SDYwMCDNIPLN5+np6erqamhoqKurSxpDGRkZw4cPJxVeYWag8DJuhEamJhQ0PfHU1CMosJOvs40WjSYR0Arv7LqSqu0xuIuPu2qiRppCLi24veNWcl1pvaq6jqm2e+959nknQtI0HAI7d/RxN3q0YUUd1WDX1DWx8B83yltPW30x2YbCwpSIA7cyVSuVdO19Pbr07uvy4Bpt5XF3IuKSGwy9A0f1oFqGvMLo0Oio4kptnwHTutuori2nVJebnRR5NrbaffC8XnYMXSpJ0MQN5fl3/rqSRuM9uICbtomN54BpvWxomuot6/Kyk+6fiqowC5g0wsvA8FFXy0tE3uJhw4aRG+RDQprF6sL2g+wmRFJS0sGDB/fv319RUUGtoNGYTCbZIzw8PDp37uzl5WVjY0P2l6Zpgc1mkzqnT59esmQJMkM7gcwA0HYIxbKSKkFyQW1qYZ2ZvlY3N2PSQIrNro5ILogIV/6CiMzQ5pHjcGll3bSVf5HMsGRyzz4dHdrncAvyV9fW1pKGYHh4+K1btwoLCyVNrjxF2j2kfaNuD5GWopGRkboxRGhpaZHWT9++fUm1VzNvErxGDzNDVFRUx44d1YXtgbrBRv6VyWRnzpzZtGkT2U3UqwiyRzg4ODwMDOpTHcjeQf4lOwhJCywWi8Fg0On0kydPLl68GJmhnWitmUEqlVXW8qvr+TJZe/w6bJ90tTlmRrpczoOfraAJuUJRx5fklfMSc2uyShq6upn09DDjspm34kvSixtMuPLfdp8n1ZAZ2gOSGaZ+uotkhk/mDBzQ3bV9/ppTV1d39+7dL7/8Mj09/WFa0FBN/GJgYODm5tarVy/ynWdhYfGwMaRuD2lqasbFxfXo0YPUR2Zo8x5mhujo6E6dOqkL2wlyZCDRmuwd5EXYunXrlStXyCLZBUhgIPGJ7CDe3t5NRyIRJC2QHYTJZJK0QPYm4vjx48gM7UdrzQyVNbw958Iv3k7iCR90c0Jb5+/jMGd0j47uOMvq72RyRb1AcjupLDqr2kCbNaaHnb2ZjgaNVlwluBBZKJHKAz0M3lqzl9REZmgPyqobpq7YIRRJvpg/bHAPj/aWGcjfS9y/f3/Dhg2kQUOVqk5dIO0hEhJIDOjTp4961hdlz8KDX09JY0j96ylpPr7C60DD69TOM4NMJhOJRNnZ2ceOHdu5cyePx3N3dx8+fLiXl5e6841QdzKQtECQtEB2EHVaUN8JMkO78gIzwyuda7WOJzwbnMBvFFPL0A5EpxSUValH7MIjJDDklfO2X06Py6np4WH65iBXWxNt9eE8Ia9WrqB52hkwGa9uQDa0HBp0OvmCJ1/z7Yd6vAT526VSKWkMqV8HNVtb24kTJ65cuZK0EUnjxtDQ0NjYmDSM1FexVbeKyD2of0CltgFo60hyILvAqFGjNm/evGXLlo8//tjf359Ea7JrkB2EMDAwUMeGpj0M1MYAz+qV9jNk5FfM+vwvcmPR5CBvFyt1IbRVtQ2CtVsuNIokq+YPH97biypt9+QKRVW9KCy1IjKj0sPGwMvewM5MW5+rqT6eiySy7ZczdLRYQ7tY19XVz161mxSin6E9eNjPsHrhiKE9PanS9oF8DamHW2RlZR0/fnz9+vU8Hs/Kyqpbt25du3Z1cnIyNzfX1tZWt4HUOYEgSYNQ/Xiq3HkiIyNJfXID/QxtHsYmkWhN9pG6urqGhobGxkYSCcgeod47tFSnLpCooI7iD3eQptDP0K601rFJDzPD+o/G9/RzUhdCW1VRw5v6yQ6+UIzM8JBQJE0vro/JrG5olDhZ6HrZGVgYanGo+UeUpDLFvdRyXS6LrMourERmaD+QGUgzqLq6Oi0tLSQkhLSESEKwt7e3sbHR19cnLSH1YCQOh/NwMJK6a+JhewiZof1oz5mBUAdsEhVIo5/8S26T3YHsF+ppkdQdC+o4TSr/MzAQyAztSmsdmwTQnhVVCsJSK6IyqiQyua+DUV8fC3sz7aaBgWAyNPycjNys9JjUFZQA2gvSuCEtHjs7u1GjRo0dO3bgwIGenp7m5uZGKgYGBrq6uiQ2kDoPm0RPbA8BtG3kY08+/2RHILmaJGqydxgaGpIbZFF9hg/ZQdR7B0FtA/AioF0C8HIpFDSxVJ5ZXH8vrSI+p0aTSe/naxHkY67NUR7WqUpN6GqxtNhMagGgfSD7Ap1OZ7FYpNFDmj4kIZBmkDotqNtD2traHA6naQ8DQLtF9oKHOwvJ0uTfh3H638YjtQ6ien5BzMWLF2PyefUtY64ccXVuZsytC8SlKxfuZpU0iKTUmvYIR16Al0gmVzQIJdklDUdCc9MK67q6mYzv7eBipUetBgBVYCAe/nRKQoKxsbGJicnDUznVQ5LUaeH/NoZe5YBbgFfv4f5CEgJJDurReurOt6fZQV4rBU3aUFVckJf9UE52dlEVXyxWz8Bfm1N46fuRI0Z8dzE/s0ZV8qpIeeWlhXn5pVU1gibX0xTV5d3eu+nz2SOI0eNHvPvXtYyKGn5tdVl+bmFJeUO7iw/IDAAvUWVd4+WoonXHEqyNuXMGufTyMNV6fDASAKg97GfQ09MjUeFvYy2evjEklUrb51W0ob0hewTZL9RadlR4QC6lFR37dtqwPh0e8unQYfL3VzKz+FSV16XkzPK3xgb0m//dH7crqSIiYe+ffx377VKB8rZERIu/FpNVm3Rly/p3B/iPnPPBqWKZvH39QoHMAPBSiKXysNSKQyE5hZX890Z5jOxua6bPaR2HdYBXTt36UY+4ICGBraJOC6TwaXYcDofj5uZG6peUlNTV1VGl0OaQQEiQzwa1DK0Dvyr7+q6ZnXuNXLXnfmaJ5CGBRBLz19KxX286fT2XqvpaKOQymVSi/L2hyTWHk2KDC/LS7XtNWLY/Pj4+Oj5u38eDXZy4ypoSqVTazgIDgcwA8OKRnHDybl5keqWlEXdwF2sPO30jXTZOawZo3sPfTdWjLIinj9kkM7i7u5PIkZubW1VVRZVCm8Pj8SoqKsgNe3t7JIfWojojPPivL365lHw/mdP5zTXf/XWEcmjPkY3T/TRqeeU1r/cEBpM+i1f+uHPTp3MmdtSnimg0Ab9BIra3dezVd6iPj4+3j4+zpT7HvOO46cs37fr5iw+CTMkRiqraPqARA/DCKBQ0fqM0LLXiemxJvUDiYqXr727iYaOvpclEBwPAUyI5QY1afjpaWlpubm4kM2RnZ1dWNhldAG0LCYR5eXkkVZKISIIiVQotmSA/Nyb49JG4ZJ7/6A+Xzp8/a+aUiQ9MmjhtwdKVq2YN7eRhQlV/Lbj23fsMGj2it5+nhfpDpaDRautrJUKBsTbXxMRIVabCNu/g02v4mMFBAQ7c9vbNjswA8GKIJPLiakF4WgX5TyiWdXYx7u1lbm+mQ6cjLgC8dKT56OHhwWQyk5OTMzMzeTwetQLaEJlMlpWVFRkZScIhebuRGVoFUVliRlzE7UJjS/8ZCz+eM9jXypxNraLRNWmGXUbOXzx+kF8HY6rsHyQyaUHsqeMn9z9w9Mzx4MxqqbzpeUtysaAh7eqZE4epOmeuX0xU9kc9JKktyI08T60lrkXHFNRT64iKhNCrpy/dTcyqIVX50sJ7p47vPx9elF9dUZxx9/L+/QePHLucVF0rlNFqs1PuXT51OTiuXBksHhJW5aaFUvetdDrkTnKpgFqpUpuj2vBWTKGgPu3qWdVTvXQ3QfmIrURbzwwyiaIuLzE+NimvsrrpufDPg1+Wn5mUnFVQ/oJO2ZHxqyrykuISkvPraZImA+mgtVAoaDyhJKes4W5KeWhSuake542e9h2djHS1WFQNAHjJuFyur6+vubl5RkbGrVu3UlNTMYFS21NSUhIaGnrnzh1DQ0N/f39tbW1qBbRcksrstPSU9GozK//5Yzpqa+lS5U9HwheUp0TcO/zrwrcXznhg7ntvr953Mb6oUihRN+zkIl5tdsSN7cvfmz+HqvPeJx/vuJZeIZLIlMcBaUN5bsSp/T8uodYSn/z8x/nYojqJ6g5otLQTv335warNJ2/lK5v/4sjtS975ZMPFtNTajNjrm1bPmDH7rXe+OJNTUCuhFdw+t3310tXrj6Uqv/1VJPzK/MTr+3esoe5b6d01X225FJFe1qDqs1AqCCUbLl6xdtu5+9e3f7J4gfKpfrLx2OXMB8+hxWvBmUEhFTcKBUKRSPoc7WhBuTTk6zeGBU385uSlFPLGvQiJ+75bMnHyR+sPJlMFz6k+6dyRteP7jZr07V1atZAqfJycvBbKSz7+nUDYKJbia/G1IoeMRrHsfkbV0dDc1IK6ib3tp/V1MjfgMNC9APAKaWlpkcwwevRoY2Pjc+fOnThxghwiERvaDPJWSiSSs2fPnjlzRkNDIyAgYNy4cQYGBtRqaLmq8jLT0xN5erreA3pZc9j/cebAisTkQ2t7Bq482CDikYyoxOXKyvnhG2Ys2BOcWclT7uIKQWH0/d0fjPslpUJIV140nlSqTCw98/07R4tUvxcrqiP37d/26xcnC9VrCW7S0esn9/8W8sRxjBo0BpvL1eKwGAwNOoPJ1lJuwNXSfPIXu0JWGn3suw2rVq+/zVHfOcGtvnNz07r33v7rjlTRNBPw8mLDtn4w6ffUcgGDVGtsFNbUtpqOhhacGUrObXxnfP8JH39wJIUqab/iz3/5zlSPf+o39u1fzhRTleDVk8sV5bXCPdczQxPLvO0NFwx3d7XSw6kLAK+FpqbmokWLunXrJhKJjhw5smbNmpKSErkcvbetHgkMPB7vzz//3LlzZ3p6upeX18cff8xioSO3FdFla9rZ2dKYz3LBUiMOd8b3N8LDUtTu3zy+brG7iJN0LTq7tlQ54qO+qjwzIrxM0fGTrVfvRasqRV3YtvFNd/X2NFp5ZkpKRpmp37Rfr6akJKkq3N6xdF4/a2r93+hYaQ386vrdM7/P7tLVtFPQlB8Pp6QkRN09/Lanm+nDYVWPVAYfOHv5+hl5d88lB1T3rXR378r3h4pLyi7tPlIoEj06CtXX12eV1PotP38lLI5Uu7Fl5Xt9/nVUVkvTgjODTFBXWVZcVlXFazW9Ni+NmF9TUV7wT/FhFzevnjN5yAenosp5jVTlpyZtUBSd/G72pPGf7j50v4QqhKdWyxffiCvZfjldk0Uf0sWqj7eZiS6bxcQ5QgCvh4aGhqWl5axZs/z9/cvLy0lsWLx4Mfk3Ojq6traWqgStCp/Pz8jIuHz58jvvvLNp0yYSGHx9fWfOnOnp6UnH5cBbE7qGBvNZAoNxB7exH54/s2Kyn7uHrZpbB/dOfQMdmYq4/GJ+nfLEJblMJhE1VNEyD0UVadF0lJVcuw0bPOuLdaMsDbUYynHqYomkMrU2505kla25lbKC15CFs6bNfCugydnND9EZGlpGVlYW5DudzWBzdIzMbG1trK3N9TRZjH/+KFieGh2dkarl4j78g3f6Ke9axXPAuGEjB/fTLb1/LaJQIhVTlWnatj5d5/64cW63Lh6OpJqVqYE+p9VctUnjVXbdZuRXzPr8L3Jj/Ufje/o5qQv/VcGB1e+u31XSocf8jw/P70gV/lcNRZJbazwXHmGN+OnzBROndXkR/Zjh69/5csdt1uC3PvtlSTeq7HnUROw+sPm7VTeYkzYnru1DM3/C+MyIA4u+/GNfWmnnvrPG+Roqu81UKpPjwm/tuJ6vYdZ19NzFS+f07e5swlWvehriakXenulDv7vssmDZB7M/HepMlb8gFTW8qZ/s4AvFq+YPH97biyptE8RSeV45LzqzqqhK4GCm42lnYGuqrc15lt9PmpGeVz571W5yY8OyCQG+jupCaKvKqhumrtghFElWLxwxtKcnVQr/XWVl5d27d8+cOXPjxo2KigrSxDQzMzMxMdHW1iahQobLvbUS6utyNDY2VldXk/c0MjJSR0cnMDBw5MiRffr0IY0tqh78d8ePHydxmuSx5ORka+t/+a39hSm9u2Xtn+vP3dGZ9PWV9WONaNxmsl5ZXNqZbz0XHB3/Z+InYzw7W6hLhVJR+oVvDt2v5asvvCLllVck3zwTVTl83Z2PJwb0tBHVF0eHH//9yyWH6oOmejgZm3l069q7/6yAh38avyj25MlN2/adyJL0GedvTWP6vTF9YCd/xyZtwttrJ366O9fxzYUfrZrnR5ZJ2zjv1IezNhyS6Yx594s/p/urqxEJe378ddMfiWYz150hbTa6RtyB+R9uOpiYa+XdY4iXJVWJEFZlJyYmVxR7rbi0f6aXHoej2vC7e9xBH+/aP9OO+aoGMN+8eXPWrFlFRUUxMTF+fsq/7dmRzPDKkDZQwMx15L87sVlUUTPy938xsrNtl2mTtsRQJc+gvlB85i0XKz2Pt7fuj6yhCp/TvZ8WDvfwHrPklwiq4DlVh/+18U13Q3uvBRcVpTyq8HHh+98d0dMysNeSEzkKhYwqVCgqEmPO/DBnal9Pmoam7ZDlByJS6qg1T0VUJU/fMNXJzGjwqm8vZlKFL055dcOA+b+Qt/t8aCJV1CaU1wrvJpfvuZ75x9mUc+EFtXyxTCan1r1Qabll6v0lLC6bKoK2q7Sqvt9bG8jbffFOElUEz0ooFN6/f3/t2rUDBgzw9PS0sLDgcDh01WUfqG8+aPHIm8ViscgbZ2Rk5OLiQnLCp59+GhISUl9fT73N8KyOHTtmaWmpp6dXWFhIFb1EdVF7ls7vpGPlOfbraEWdiCp9stLY1K2T6BoaEzcnRZUoC8TVeVm3d/2y/u1Bhjr//NF37M9hdwpUGyrq68vuHHxv0ceL3ghytjS19+82/dMtfx08lVBHvqJVFUrSQw7/uWje228O8mOztHzHzfjo679O3bybozzrSSl0zYTejl1nfrk9Vr1MvtZzTn7QJ9Cy5/CF++6py9Tid6+b52/vP+rzYIXqyz90y8Tenaln9A96ziYjt0bWCYUPNjT06jfpr1zJy2k2PNGNGzdsbGxIAo+Npf62Z9aq+xnIM6/Nj0ovruVRMxjRWTRdBz9PC0OuJvXN0LSfYe6gwRa8rKwyagY+HVtnJytrU52/jYgUVuYUF2TnVlOLNG1rewdrOwvdR1eO+Zd+hn9saGXvYPPYhiqNNQWl+elZD866IVFBp/Dy1T1P0c9wskFj0tJ9v7xh99iQspqq7Bu7x73/Q2q53cJdK94aP8FbS1WuenGiM4prGh68OEzy4vh6WBppkxdHKqwpLU6JzM28+u0nB+9bj5g0fsjUbpZMjq6eg4+3BUfV+8avKSzMTyt8dH4Q18LGzsbRWv8pL6LTxvoZyAsqkylKqgWJeTXpRfVamkx/dxM/pyd1a74g6GdoV9DP8MLV1tZGREQkJibm5eXl5+c3NLygaTDgFdLS0jI3N7ezs/Px8QkMDDQ2bjUjv1uyV9vPQCu8+v2Ojet+ibYZsPTYd/OdHHSZ/3omyt/7GSSVsWfP/fbJvD1V9h29rHQ11aN4ZI0NvJLU2NyGkT/dVfUzqLalJJxbu/1c6P2o0uLycrbpjC17VgW4GnIePGIDv/r+7rk/3+SVJSdnN1oMGrhg5Q8LfJVp5Nn7GSJ3z/n4z1MJWUa27k7Gf5/9l2ul5zv5+5WDHLiamuhn+E9eZD+DTCITlBUXH/7c392V+lNoNE0DWufPd4ZllTZKqB/jH/QzuExft3H/rr8+GdOBqkqjub/58Y7Q9FpBk9ArFdZXRu77eHEfqoqSy7R3N15PreY/qvaEfoZ/2fD3aylNN1RIGxuqY4+tXd6fqkL0XPjbz79t+Hqy87P0M6jxSmTX3u9oa8gY8Nk35zOUa2VSmaC8pPjo6l6ebtTjkBdHj9bps223M0uE5MWpzrj1x6edqDUP6dj7DdqUVcGTKEQNNZWhR76eNYBao+I4buaPF5PqhFL14/4/bamfQSaX8xsluWW8X08nf7E35lJkYS2v+V9LXgD0M7Qr6GcAgFfj1fYzKBRZ5w99NkyHZczRnvvr/Yxsvoj66V9JrpDwaspKqmr5Ask/+xkqUy799JGvLps79Ku7ZfkC9SbShpy7V5b56XIYVD+DTCzi1VaWVjVI1D/8ExkRB1ZMZJlwtBfvzquqkAoaqokGwaPmS/jetwb3YPj5j/4jWNWn8Bz9DIVX1o4e3mvQoOVHYuqbNgxkYmF9XWV5JU8qVz+r1t/P0GpPIaovqL24qnf3d36MzMiiimg0cR0t7sdFH+w4djdHPejtoewjXyx76913NpxPpwpotIz9v7335RffXUyklomS2xvf/Wbtb1vuUstK2Ue3L/ty+eenYqnlJyq9vXHREzb8+KvlnzXdsCx857IfVn37awi1TITvXL5y+adfn8ihlp8BV1ujz4BhWlzrkvLamroqUtJQyLvyRVDAwu/vpWaq6xDiBlr8T+9/tP3I7ez/fzJgwu6v3lk656uDwdSySt7ZQ39u/OTnW+1woqY6vuR2Uvk3h+I0mfQZ/Z36+lrqcZ+yuwUAAKAdc+jq3SNojnt1o+DAin5zfzuVmPqwz08moBUeWvXGgA9+OHntX9tBbA26s60VU0s9ioJWXJJ35+DvieLGB+cm1SdGHv7prYEf7clV1FKT5hjoGJrYPpo26dqeTz9dsWznlTKqgEazNLPXMX4xXSyWnp287LXTb57Z/t7maKpMqSbj+p+/vjfpnaOFPHEbmb2t1WYGZTaV83j95m86ejpCLeTmxT8/7qjQzQhNTC/Ja3J1P0IuaWx0HjTo0733lDXJP6e+H+fqzr0XFR9yMZi6UmDZ5c2HrkXc0Arqs3yf6g6VLvw4ZZh3XnzyzdPXytXV/qnsyubD18PJhr2X76U2U244dbhPfkLyjUcbJl25HBZ/KdvGocuHf6qeBHH+p1njuhg0Ps+13DQ0aEwmk0TI7NLashrlUCLliyPj8fq+9fvhU6pHiYgIDb68dXlnDf3M20npRbl1uradJ7y761rE8Q8HWxvpBcxb9OtJUin4zP7fx1sbaDFoJLUL3buMXr1dvbXSud/f7uUvTSuKi4oqVT9wuyCTK2Kyqw+F5MRkVU/r5zQmwM7eVEeTRceEqgAAAP8f3ci59/CZX3wwSiHS4EUf+Hzm1P7dKQGB3cd8dTg2s1gkedK1uPS1dY0tbGrFgmNrxwwcTG0zavyCX8+IZA9nIqIpZDJxRXHGmR/GdR/YS11n8OQlvx2o1qWP6t2FyzFQXu8rO/z0T8uGq9cSo97ffPO2nq1RgHenh/PKPCO6WeDAHl4+HXPCYn6dS9290qDJS3/bmygQSpRdClTdVq7VZgZtM52AeRs3L1swdlC/bmo9Arr3HTXATZ+RUVhSVf74b+lWfee+8+77n8wcqqrZvVu3AVPfmhToayEqL0nIJG16klbLE0NC07KMPLuMmP3mMFU1pb6T5rzR38NRlH3/dhLJFv/4SKs2DCYbGpIN57w5nNpMueFs5Ybi7IhQasOsmOuZ2XXm3YZOW/b2G6onQQSNXzR/zpRZgU1OtX9mjWKpWKrM2FxTbve5v/25bOEbg/urHqVbtwB/8uL0dzdgZhaVVJbXMtm6ZjYenbr62BqzmUw9K2s3H1Kps6+XuxlbOcbOaeisDxevXTZ9pHprpX4DAzt2sBU1VGdktpuOhoq6xktRRXeTy7lsZn8/i87OxuaGHGVgoNYDAABA85gcfWfP/m9/smvbD/M6GDTmJkXfp0TG349ndpm3dvobfbo8oR3ENHYLGjB31Xu9yypTY2LUmxRrSN1HrHmnlxb7wVyF2o7uXfvNn+FakBgVE6muFJMrMXWb/Pn2D/s46LKZBl2HjOwT2EkrM069loirtRs85s2Fy8d5/7frUj8JS79jv9krln86Y7xlCnX3SjHV2m495qz5sK+pFqvVNrYfx1izZg118+WrrhOcvKEcqjOkp6ethaG68F/VJ9w6HxbLM7Ht0mtiF2rCrUcY5ENg6eUtzz5x5uq5S5dD1ZeTj4hNjL2fVWbUaWQXXx93Y+WAHHnurT/OJXED5s4YM3C4l/q0e9Lk09Q3E+XdjU9Il2k4+40JsmHTMi79vPd2ikCqzWAIc2OUd6gUFpeSEJuYUSwVGfuNGemlT2JWUdj54Jh8hnPnwKEB1lIaLf3yhr2hyf+2oazR2G/sKE99Wl3MsT+v3lMYBoye+s5gHzaVa5m65vrSsurs+zdz6F4j3+1nT9N5wpiXooQLwfdTxRpeAeOGepDn8HibVUxT5JE/Mo7m7Dm0d1A3eyOGJkPfytNLlnP67NWzFy8pn86d23ci4hJjyItj4De8i59fB/LiyIS0urgT+25nGXXt2aNjH5cmp/NyTa0dOfSS+JBdh0+r/pzQ0HuRkRHR6bm1HCvPoMl97amKzRA0io9fi5FIZUFdXF3tzKjS1kB5aWeJLKWgLiy1orJeZGGk1dHJyNPOgCQHjVfYv1BVxz91M47cGNrT08b8/+0v0Mrxhcr9RSqT9+3q5mJrSpUCALxoKSkpFy9elEgkixYt0tPTo0pfLpYm18TGx8fNVk/f1tuva89ASlBg4JAJc6YF+dhaKSeAUdBYWpqm7kH9+nlZa+tq0lhcQ0MrF2dzLRP3wB69VFsMGjV8xIjpQa4sU/deffr62Onrc7naesZ2DlZkwz6qKkS/IaNGjh47qbOJJpNOGvWmpkYm1nbmTr7U6sDAgWOmjBvUq7fzgz9fIZfp2Hp09O/i6WilQ5XJZSwjRz+/gM5+HSyavExyuZaplWvHgC5+TgbKoR40mpaehZ2di42DlbGFB3X/xOCR40aOHBnk+PDy0dSGvbp18rbUemWtidzc3JMnTzY0NCxcuNDC4h/N6f9EfVrDq/ECz4GWCmurU6+cObV2lqfdY2fMqwxYceB0uqpec3Ot3tu3YFgPy6DAD07mKARyxeWvO7u4UHfwD2b+nRccJk9aef7MY+dACxRkwy7NbdhpPtlQJlVkH3svoJdF7zFLDv1tjtZnn2tVTVIjL972prOFaef3PjscV6t8cepqUq+eO/3lHG+Hf05h3W/ZnpNpqg3/fa5VQWFsxK0/1741pAu10SMOPd9YHUJVa14rPQeahJzyWuGd5LI/zqX8fCIxJKG0uuGln+78RDgHul3BOdAA8Gq86nOg4bXCOdDyxoqMuL8+mjP9p/MNmhwPbzUvjw5ultrsp+wDIhFbJpcyGRqaLE1Vz4MmR4PONTCydupA3V8THZycrZ44x6h6Qzrj/29IHkaDwZDKZFKJVLXpiyGVNpQXnbocwuML7axJktYnL05VVsKej96c8dOZWgb74Yvj2cHNSofzVC+OuOjGHz8t/+qHY3EV7tTmRAcHMxPdNn6tfqFIVlgpiEirvB5TIlcoJgc59vQ0M3xS1w8AAABA+9FKMwOvrjb77o0Usdhj+g9HT95LUIu5d/3cp92czahT65tSKORKj85CUchLissa6isN9LjW5lY0pgbNzrYDW7fjyMlf7LkeF0/do0p8XFzcjb2HVg2xodH+cUEgJo1s6K7ZzIaHvyAb0hk0awtrjq5+eV19eWlp0+chk8llTZ7Yf0FCn7y8pPD62nePVZbze/t5drAnz5HXUJd993qSWOQ+9bvDx8OoJxMbfuv8p91dLR6/TrSyb0xDORZH+T81OY1WHB+ZWJzP6TLq419uUJuTv+bmn4tm9XkR5120VCQkJOTWHAzOvptSPrCT5aIRHlZG3AddigAAAADtV6s+LYM04J0szLV0qJFn1by627t/jKkqE6qXm8o+8sWGTdu23lXOREqjSWm0e7s+3nTyfAzXzjqwo4/qrmy79PQxE4ceOLjv6yMpqmpq5VEHVn27fOnqi0+cLUi9oa96w68e3zD64BffLV/yxYMNza1ddfWFkXeu7dpxrYg0+FWFaSdWfPflp18921yrBSFXfl0ROHL1EQ2NhmFfTR3Usc+joUjkiTlamHF1qbN7avj1t/f8FFNZIlAvK7FYNDsHBxZL5058Tkruo1loKWZ6Ombmj05DiAk5ez8yuG2e/kxCU71Asv9m9sWoQgcz3YXD3Ts5G2NmJAAAAAC1Fp8ZMoND/3h/1GOWrf79Xg7b2NJGwmDc3vv5O2+NUZdPnTLn2/3FDTVPmq9LXF+ecnHbrx9NVdUkG3y4/np0kk43t86Bg3zYqiFGLJuho3tZmZjFnDn17UJVNbXpS37YdyK2tIL3xBFFqg2HjeplbUo2PP34hu9/v/d4zKMNzQOH+Ds5OxSG3929chZVZ9SCrw/dSJez9Z7iFOHqxJQz384bNWo0temoUXOWf/bnpdwyaYPH22vfHxvkY85VDh3iamqaWNpK6Yw7+1e/+zb14kyZPOvrvUX1VU1fHA2WBsvezpmlzQi7uG3l/FGjJs59f9WFsvpGExMztrZueuTFn1e8od6ceP/bM/fi+S9yWFULwRNKItIrtl5M4wulQd4WfX0tLI25nAdXEgcAAACAFp8Z6opK4kPPPeZOeHyZxKyD/6zVs3vV1iTdvK4uvp18X+K3YLa/qbHy3Pu/cR88d8aoXr6aWaqqF86du5dCmvBvvj1/bE939VxKNJqWdZ/R8z9eNMHHo7HpI14r5Pp2Gj5zvJ8+Ve8ftKwCR6k29Pz7hj4dh8+a8GBDjmWPIXPmz53UyV0QeePcufPKOlE8u+HDpsyY0OMpriwiqq7Oebihys2iKk7Quz988+PnC2b2cLLSI+GHYGqbunWftXZ274b65FvUixOadE/s9/ZMf3PTB9MBKLFoGvaBU4f4ODIbUiNCzp27EXI3l8+VKrhuQ98dO6yDMy3mtnpzItfEw79rj67/PKe6FZPJFXnlvOtxpRFplZZGWt3dTTq5GJEbr+yK7gAAAACtgobiFV5pIiO/Ytbnf5Eb6z8a39PPSV34r6rDz+y/cjs+v4ZafsjJq3ff0bN72It46We+OBTeUKy+5rOhvXGXYV95pHx3KEq7y9SBvbv7mdNojbWytDOr9t43C3p7kKOkJunG7msPxuD4jp8xpHuQW5MJRlXK48/duXb6QpNBRo69J/QdOKTnw1Z9zpV9Z29nMjz7jJgywIEqI56wYa/xfQcO7fnYvE4NBZHXg8+cDy5RL9oETJzQ11VeF3dtd1ht15lrx7jSqJb/Y3LC95+7eSv+0RWvKbYunYPGvRPkSi0+IpMIM06vOhxeV6i+ToWBrWGXkeTF+eloJNtv8oDAgE7kxVGrCju++/K9lCJSUdfcsfu0leQ5aLFoxREHbt68eevhdaQ7TZ7rLarJig0pM+w5/t3R/3zIf6io4U39ZAdfKF41f/jw3l5UaYtRz5dklTakFdZVNojM9TlBPhZGumwmowWlhfS88tmrdpMbG5ZNCPB1VBdCW1VW3TB1xQ6hSLJ64YihPT2pUgCAF+348eOLFy/m8/nJycnW1i/mYsjQYpG23KxZs4qKimJiYvz8/KjSZ9KCMwO0ci02M8jlivK6xvSi+rjsavLp7+5m0tXVpEWlBTVkhnYFmQEAXg1khnYFmQFagRaYGciHXSKT1/LFp8Lyc8t4XV2Ne3uZm+lzqNUtzMPM8PWi0V087dSF0FZV1vDe/nJ/oxiZAQBeLmSGdgWZAVqBFpgZGoSShNyaE3fyLYy0BnWycrHU1WIz6C11gqSHmUFbi81ituopzuD/k8sVDYJGcjxGZgCAlwqZoV1BZoBWoEVlBplckVFcfy+1oqhS0NnF2MNW39xQi8NitOQJVXOLq1b+frqgtEYqe8JUYNAm6etorXhzcL9ubtQyAMCLhszQriAzQCvQcjJDvUAclVGVXlzPoGu42+h72hoY6mjSW/zkSDyhKCaloI7XKFcgM7QXHE2Wr6u1hYketQwA8KIhM7QryAzQCrSEzCCWynPLeEl5NRV1jbpcloetgZedAcb5AABAu4XM0K68wMyAxhO0TXK5oo4vTs6vDY4vzSxusDfT6e9r2dHJCIEBAAAA4L9C+wnaILFUXlEvismqPh9RWFnfOKGPQ/+OluaGWtRqAAAAAPgvkBmgDcosrj8UnH3hfmFnZ6PlE30czHVYDHzUAQAAAJ4RGlLQdigUNKFYduZewcm7+bparLmDXft4m7fcuVQBAABeH7FYLJdjjo02jrzF5I2mFp4PMgO0ESQtpBTUbr+UXljF7+xi3M/X0slCV0eLRa0GAAAAGo3JZGppaSkUirq6OqlUSpVCGyWRSMgb/UJmPEJmgFZPrlCUVAtvJ5Xdii/VYjM6Ohl1dzexN9fWZOHjDQAA8Bg2m62npyeXy8vLy0UiEVUKbZFYLObxeCQ2GBgYMBgMqvRZoVEFrRtfJE0vqg9Pq0grrNdiMwd3tu7qamKsy8aIJAAAgH8imYG0IBUKRVFRUWNjI1UKbZFAIKitrSVpwcLCgsV63pEXyAzQWikUtGqeKDlPOZtqdmmDu43e1CBHW1NtTcymCgAA8C+4XK6pqalMJsvMzCRtSqoU2iISGEpKSphMJskM5F+q9FmhdQWtj4JGk8kVApH0anTxoZAcjiZjUm+HQZ2syA10LgAAADTDyMjI1dWVZIaIiAjSpqRKoS0qKipKSkpisVgeHh4cDocqfVbIDND6NIqkSXm1608kpRXWje9lPzrAztKYS60DAACAf2dmZtaxY0d1ZqioqCA3qBXQ5uTn58fFxWlpafXv319HR4cqfVbIDNDK5JTxzoQXXLhf6GGrPynQ0dfBUF+bxaCjgwEAAOD/I21HBwcHR0fHxsbG0NDQnJwcagW0LSUlJUlJSQUFBbq6ut27d+dyn/fXVWQGaDUaxbLwtIpbcSXVDeJOzkY9PcxcrfR0tFg43RkAAOApMRgMS0vLN954g81mX7p0iTQr0dXQJgUHB4eEhGhpafXo0cPMzAznM0C7IJXJCyr4wQml8Tk1dLoGCQy9vc2tTbjoXgAAAPivjIyMJkyYYG1tnZ6eHhoampWVRa2AtiI7O/vatWspKSnOzs7jxo3T1NTUeO4fWJEZoEVTKBQ8oTSjuCEksSw6s8pIl93PzzKgg6k2+3njMgAAQPvE5XL9/Pz69u3LZrNJy/LChQsVFRXUOmjlSMOpvr7+9OnT4eHhJCoEBAT069ePTn8BDX5kBmi5pDJFHV+SmFdzJrwgIbdmdIDdiG42dqba1GoAAAB4JqQ1+dZbb3l4eKSmph45cuTKlStCofCFXC0YXiO5XM7n8+/evbt79+7s7Ozu3buPGTNGX1+fWv18kBmg5SqqEhy7k3v8Tp6zhe5nU/w62OpzNJ/3KoYAAADAYDA6deq0YMGCLl26REVFbdy48caNGzixobUjgeHevXvvv/9+SkoKeWcnT54cGBhIrXtuyAzQEklk8muxJYdDcmRyxdQgx4EdLXU4TJy9AAAA8KLQ6fShQ4dOmTLFy8srPj7+008//e2338rKyqjV0Nrk5eXt3r176dKl5Ia7u/vs2bMHDhxIwiG1+rkx1qxZQ918+arrBCdvxJIbQ3p62loYqguhrRI0io9fi5FIZUFdXF3tzKjS/0ckkRdU8s/eKyiqFjqa63R1NXG20tXlsjA3EgAAwIvF4XAsLCwMDQ1ramqio6Nzc3OzsrJEIpG+vr6enh5VCVq84uLiy5cvk8Bw6tQp8g527tz5nXfeGTx4sLm5+fOf+vwQMgO8LM+QGSrrRXE51RFplVKZws1Gr7OzsZ2ZNpuF8UgAAAAvhYGBgaWlpbGxsVgsTkxMTEtLy8vLKywsLC0t5fF4XC6XzWa/kDNo4cWSSCSVlZXkLbt169aZM2dIWrh9+7ZAIAgKCpo3b97QoUNJGnyxb5zGqzzfJSO/Ytbnf5Eb6z8a39PPSV0IbVVFDW/qJzv4QvGq+cOH9/aiSv+FSCIrrRGmFNRlFNXT6RoDO1o5mCMtAAAAvAr19fXR0dGHDh2Ki4vLzMwk7VFbW1tfX9/u3burp/YnyYHkBxaLRW0Arw+fz29sbCTxgOS6hISEmJiY3NxcLS0tZ2fnrl27jho1isQGTU1NqvaLg8wAL8tTZgbyAeQJJQWV/Ii0yrJaoYuV3uDO1jocJgYjAQAAvDKkQUiiwsWLF0+cOBEbG1tdXU3apmKxmDRPZTKZoaGhubm5rq4uVRten6KioqqqKqlUyuFwSDbQ1tbW19f39/cfPXp03759X9QsSf+EzAAvy9NkBvLpE0tlV6KLb8WXOlnoDOxk5W7zsj7rAAAA8DRycnJCQkLu3LlDbsTHx9fV1cnlcmpdu0GSEmkka2hovMDTiF8gY2NjLy8vJyenXiq2trZsNpta93IgM8DL8n8zg0Qqz6/gnwnPr64X9/Oz8LIzMNJls5gYNAkAAPA6SSSSxsZGoVAolUpFIlF7CwykbUxs2LAhPDy8d+/eCxYseCHXUX6xSJIhz4rFYnFUmEzmy36GyAzwsjSfGUqqBdGZ1ckFtWb6nI5ORvbmOrpaLMymCgAAAK8RaRiTpBQdHf35559HRUX16tXrgw8+CAoKotPpLS02vGL4TRdeNYlUHp9TcyOuNL+C526t18vTzMvewEBbE4EBAAAAXiMSGORyOY/H279/f1JSUk1NTWxs7JkzZ9Sjs17l7+wtEDIDvDoyuaKyrvFOcnlUZpVAJHW30e/na+lipcdk4HMIAAAArx+fz4+Kirp8+XJlZSVZLC0tDQ0NvXv3rlgsJpmhPccGtNXgVSB7mFAsyyvnhaVWhCaVsRgafX0tgnwsdLmYtQ0AAABeP5IHpFJpcXHx3r17i4qKJBIJKSQlubm5+/fvJxGC3FbXbJ+QGeClk8sVApE0o6j+dFjBtZiSIV2sx/a0d7XSw2AkAAAAaAnUfQgNDQ0JCQmHDh0SCATUChqturr68uXLERERZK26GrWinUFmgJeuor7xXHjh4ZAcfW3WZ1N8OzoZabOZ1DoAAACAFkAul6ekpOzfv189DIkqVeHz+evXr8/Ly2uHc84+hMwAL5emtuGtpJriKsHgTlYju9sa67E1mXRcr+0liD+96t256lmae/XqHdh37vaYpNJGamUT2Ze+/34+VU3ls83XUwuplQQ5GsYcWzZvlnrl6BnDf4+sEz7eG9tYSwtfP3visCV/XrvTZEsAAIDWiCQEEgbKy8vDw8ODg4Op0iYkEkl8fPzNmzcLCwtVPQ3tsauBsWbNGurmy1ddJzh5I5bcGNLT09bCUF0IbZWgUXz8WoyMxjQ0NNBgsEQSuTaHaaTLZjI02vlsZS+YuIGWcmT1+h37Dl26k5CaXqBEDmr5+XlpQj1TU1NnU66qHgkDlZF71+/6a8/hG7Gxqap6avnlIrahkZ2dOUcql5Xe2fzltmt8lmePQYPcrBXFYWdC66y7u1ro6nHUF7VpaKi4f3TZDzvqPHr3Derraan/cq8hAwAA8NLJZDISCfbv35+SkkIVPY7EhoaGBjc3N0dHRwZD2ZShVrQb6GeAl0smFvra63V1MyH7V3RW1dmIgnupFaU1Qom0/fbuvVhyMb824ezx6zWc7qOmLVdZsvCDMV7S9Ovn9l8JiS9QzvtAyCS0vJBjRw4cvSWk2Y+Zpaz30fLlb4/0qi8LP3Xg+LXLieU0mVBeFXN5//Vq64De096eN3f21OFdO9XcOHA3u7ROpL4bQWVu0pW/tlxhdh41aUCAs62euhgAAKC1ksvleXl5wcHBUVFRVNGTxMbGhoSEZGZmts8RSsgM8HLJpWIPG92R3W0GdrIy0mVnFTdEpFeGpZbH59YUVQkaxTKqHjwrhQZLqOsSOHru0pVrv/1B5du133482d9eWzc7pSCvNE/Z2pfJxNV5lw5dTxbKbAeOnvvxKnXNH75cNr1XJ2txflzsnZDkammjojItJV9i6ebpbGutwzHRs3Tv4i4rzS+obWyU0miSuqKssBvHD9yrD3xzzpjOnjZIDAAA0LopVNMlkcAQFhZWV1dHlT6JUCi8fv367du3yY12ODwJmQFeBQ6L4WKpO6GX/eLRHq5WevE5NWfu5d+ML00vqqtqEJHkIG/HEx4/J4a2seXIbzd9MWWkr5WOuoirz+wyZoon10anhs/n8/ikSCRqzD5z+FplrcXAeZMmTO7loqzHoNEsgubM6ePrZpWbVxWbEv/3SeS4bI6xpZWCXllVJ5Y0ygTlcReuHj16uHzw+5vfCbI1wfhCAABo1UjTXy6Xl5aWXrp0KSEhQV34t3FHZJFOpxrMpE5oaGhOTg7Zqr3FBmQGeHXodA09Lmt4N5vlE3xGdLctqRL8diZl0/nU+NwagQgdDi+DtaGhgbERudEokxbkxssbrQLc3Gycmzb2Lbt29DJ1sazi80uLS6iyxzDoNGc7cy2OTlVY6KULJ6KY/u8vn+nINNSk1gMAALRSpN0vk8kOHToUFxcnFApJCUkITCazaWxgMBg6OjrqEqlUGhYWduzYMbIVMgPAy0X2OQ6L4eNgOGeQy9KxXk7muqfu5m88m3I+oqCwUvmTODwnfml28JdjNtwpow0dHNDd25UUiUSywoIsuUx5OFS+A01ZmlloGxgpr7tH09Sh2/cJ8uWk5iSlFxTReBkliVcOXmQN8Q8wMRDeO3n0YqaGzuSPN7xhzWL87U4AAABaGdLoF4vF+fn5Z86cKSgoUBfq6uoGBQWx2Y/m9zA1NR01apSmJvVTGakZEhISERHR3mIDMgO8BiSra2kyTPQ5rlZ6fX0tJgU6eNjo55TxjobmHQnJTc6vlckxVOm/qQz57Ztlc8arTH3zvS8O55tP2bhswdjBXsbKw55cTpOIxQqawtxEX4f7+FkILCaLzmBWChuLyyrZdC330V8s7VsTevGzeeOnvbti533hmHWL+5oLb/504GROg1Gf6dN72hiwkBgAAKBVI819uVxeU1Ozffv2zMxMkUh58h+TyTQzMxswYACHw1FXI/T09Lp162Zvb68OEhKJJC0tTX3dt3YVG5AZ4LUh7U42i25tzO3oZOTfwbSrq4mtKbeWLw5JLDt5Nz82u7qWJ8Z5Dk9JsyEn8va1EypnL90Iy1GUZMZnFVVWCx4f9KWtxWYxnzSqSCiR8vhCugZdz95/0rRp48YMC+wS0K/vsMlzZ4/sLrl+6sSlZM0Ofn2H9dApjzr82arPP1P6+di5yAIedQ8AAACtBmnrNzQ0xMfHk+/N2tpaddPf1NTU39/fwcGBhAd1NUJTU9PGxqZfv376+vrqkqqqquDg4Dt37vD5fGQGgFfKwlAroIPpoE5WXV2NdTjMvHJeVEbVneTyuOyaslohuh3+Lz3XvgNHTZmlNn3S1BF+DTd2HNi++URoUnYtVUeJJ2gUS6hpUx+jzWLq6WiTGyTK2XWdNOetlUofzZ/8hm3+7f2br1e4uA4eGegqL7t0YPf2s/fy83MKo28ePbT/6I2bGdXquwAAAGgVSEOfKC0tvX79elZWllgsJoUcDsfNzS0oKIjL5T486Zkgt/X09AIDA8labW3lN6V6RNPRo0erq6vVd6Wu2bYhM0ALoq+t2dnFeEqQ07iedtpazJjsquuxxRFplelF9ZX1jWIpeh3+nduYRZ/9tFtt15ZdG5ZO7eXBijxw9tyVy+lC5ennbA5Hg0Yvr6rnCxuobdTEErFMKjHS4liYGVNFD8jE9QW5t/9asyPNrO/CycO62ZafvXr04KXGeZ9v37Vt9/cfdhWVBF/edSbl8TsEAABo0UgrXyaTlZWV3b1792GL39raulOnTiQYaGlpNT0HmmQGEhXs7e1JbLC1tVXHCYFAQPJGXV0duR91tTYPmQFaHCZDw9FCd0qg48Lh7n5ORtFZ1b+eTj4bXphbxuM1SqTtbqKC/45lwHKc+v3W90d1cijNyo1Nz6KxOQwrW2cWg6OQymXyx7pt5EWlxfyaGgZdeVlLqkxNIasrzQzf/9OBVM/509/o3MVZVFdTI2BZ+c0b25PB0Kb59R7e2ddQWHU/OY7aAgAAoBVQZwaxWCyRSEg8IFgsVseOHXv37k3iAZfLbZoZyNcjKSHlffr08fT0VM+hRO6BBIbGxkZyP+1k3lVkBmi5jHTZgd7mi0Z2WDDcvV4g+e1M8taL6fczKkhyoGrA02IzmLYOPnSt4vC0jIKsGqpUqSQyNqk8k+Zi5tWxqyVVpsbLiIg8fnx77uSvN83s5WaqQ6uqLa8pyabWAgAAtEbq9j1p6FtbW48fP97U1JTNZg8ePHjIkCH29vYkHpDFppmBTqeTElJubm4+evTofv366erqWlhYLF682MDAoP2cBo3MAC0XXUODzWIY6Wp2sNYb18vuzYGu1ibc0MRykhwuRRWV1uA8B6KRXxlzcumgT/fciylUzaSqJJBKwrZ/uC04Po9lqG9lbEijcZia9gH9PPV08q+cuXL+WnyVspqURiu+tm1HSEKa1NGxg5+nDUO1tVp+8I3T+zbcqQv69KOhNiYmytlV5XKZvK6hMaOo9NEoMTMDLRtTc2oBAACgFVC38vX09Hr27Ll27drvv/9+xowZnp6eJAxoaWmxWCx1NTV1LwTJDGStm5vb1KlTv/766y+++GLgwIHq0xvaCWQGaOlIctBiM21NtH0cDXt2MOvpaWZnpp1fzj8amnvhfmFGcb1A9PfLF7cnMqmopjDm1vmtX61e/v67lPffe++bP6/FpnG6dO/p39/XiLyKTLaB6xvj/E249Pjzx39f/aGy2nvvvvvx9wfDY2XeHfsEjuhh9Wgyalpe9JUL566X1buPfW+cixWboZo/wsrU2sLWrLYqJCZZrmik1RTk5JdLFNrWZo/3TwAAALRoJAYQbDbb3Ny8a9euAQEB7u7upqamJANwOJy/XdONICWkMllrYmJCavr7+3fp0sXS0pIU0umknfL40N42irFmzRrq5stXXSc4eSOW3BjS09PWoumlaKENEjSKj1+LkUhlQV1cXe3MqNLnwKBr6GtrWhtzTfW1GHQaXySt4YlLaxor60RiiVyTSedoNv2dvL1QKBQyCV1Ucj8kJORa8L1IpZjo2BxZx1GD3pgxe2yvADdjTXJ8pNPZ5GjYqJBXJqcn3L11h1SLioxMyDHsETRq1twJ/QO9TB9khvrs0AMHj8akMjoOnzd9mp/Bg/MctFgssaKxKC8sNktanRERciO+WsO265D+PbrbPn7JBwAAgJZK3cQn357q3gYGg0Fygo6OjjowkAwgFAr37NnT0EBN8GFraztp0iQul8tisUh4IDQ1NUlNUl9LS4vcJvegPjG6bUNmgJflhWcGNRLndThMW1MdTzsDJoNeUiUoqOSX1zUKGqUymYKmQdMkpfR2kfhVGCyOsb3/kC7mQqGGjpaRrYuam3vvuV8unx7Y08XowdUYyOHM2DHA11pbxmGw2BZURZfRSz55c8gwP8sHgYEcQOtSr1xObLRzH/rG/JEeXKpciWtiYWJuol0ZHhaZlZ1RWOs0YuyY0bMCrKnVAAAArQdp6JPmPmn0k6Y/QWKAelQSn89vmhlsbGxIZlDHAxIYSJ2Hm7DZbFLSTroalOd9Uzdfvoz8ilmf/0VurP9ofE8/J3UhtFUVNbypn+zgC8Wr5g8f3tuLKn0JsksawlIrEvNqWQyN7u4mPg6GxrpstiaDZIf2Ex0AAADgKalbv/IHyKK63U9uNzY2lpSUDBgwoLi4WF05ICDgyJEjhoaGJCGot3rYQaHeqj10MhA4nwFaPUcLncmBjh+N8wr0Nr+bXLHuaOKR0NycUp6y2wEAAADgcaShT5BG/8N+A3KDLKrLqUqPU68iddT11ZuQtNBOAgOBzACtHtmHmQwNQx3NgA6m743qML2/E8kKh0NyNp5NuZdaIRThgg4AAADwBKQJoW73E6pQ8H8GKPzX+m0JMgO0EQy6ho4Wy8qY6+tg2M/Xoq+vhaWRVnRm1abzqddiS4qqBBKpnKoKAAAAAP8FMgO0NSQ5OFnodnM16eFh5mFnYKSrmVvGuxpTfCO+JKukQSRBcgAAAAD4b5AZoG3iaDLsTLWDvM3H9bJ3sdJrFMvSC+vD0yrupVZkFNfzG6WPrkoGAAAAAM1CZoC2jE7X0Odq9vO1mD3ApbeXeYNAcjmq8GpMcUJeTWGloEEokeI8aQAAAID/B5kB2gUtNqOTs9G8IW7vjfLQ42r+dTVzy8W00MSyyvpGGTVnWotDnpRMLiexBv+1n/+kLfbjCAAA7RuuzwAvyyu7PsPTI591uVwhFEkbGqWJuTUxWdX1ArGTpW6gt4WTuQ69hV3OgTy5c8HxV++lChrFVBG0dV097ccN6OjuYE4tAwDAq0KaxFKpVCgUFhcX//P6DEZGRmw2Wz0fq7q8vUFmgJelBWaGh+QKRR1fUtUgKq7kZ5U2FFUKjXQ1u7gYd7DV19d+cN3k1y2nqGrZz8fLqhtkMpy33V4Y6nGXzxnUt6sbtQwAAK8KMkPzkBngZWnJmeEhnlBSWCnILeOV1QoFIimXzbQz1XG30bMy5lI1Xp/0vPLZq3aTG2P7+dlbGqkLoa3iCUR7zoVLpLLVC0cM7elJlQIAwKuCzNA8ZAZ4WVpFZlCTyRUFFfzEvNqiSj7ZIYx0NS2NuTYm2lZGWppMcnSgqr1iDzPDhmUTAnwd1YXQVpVVN0xdsUMokiAzAAC8FsgMzcM50ADK68E5mOuM7G4zrpe9u61eaY3wVnzp3eTyuOya/Ao+TyjBxKwAAADQniEzADxiqs/p52v59lA3Eh4q60W7r2cev5Mbn1NT3SBuFCtntKHqAQAAALQnyAwAf8dhMzvY6C8Y7vbpJB8bE+3T4QU/Hk+4HF3UIMCV4AAAAKA9QmYA+DsN1WglDothYag1sKPlvMGugzpaFVTwvz8av+9GdkZxfaNERlUFAAAAaAeQGQD+FZNBN9JlO1vqdnYx7utjEeRjIVcoLtwvPHY7LzKjspaPyyYAAABAu4DMAPB/MOgaJDl42Rv29bXo5mpiZ6Yjkcrjc2quRBeFpZaX1ggluH4CAAAAtGnIDABPRUODxmExvOwNRvvbkvBgoscurhJGZVSppleqLqzkC0RSqioAAABA24LMAPDfMOgajuY6owPs5g529bY3iM+pORtecDOuNK2wrrJeJBThVAcAAABoa5AZAJ6RHpfV19dyzYyOE3s7kLSw7VLGH2dTYrKqMLUSAAAAtDHIDADPy9Vab/ZA58WjPXydjK7Flny+J/r8/cLSGqFcjvQAAAAAbQEyA8DzYrMYyumVLHR7epiO6WHbx9u8qFJwMDjn2J28lII6sfQlniFdlxd5ff0b48e90ZzFX312Kp3a4BWpLEk59esbb0yinsEbbyz9/qvzmdRKAAAAaG2QGQBeDE0W3dxAy8feMKCDaRdXYycLHaFYGpZSfvJuXkxWVb1AInsJ3Q6i+tK8yFNnTp9qzvWw25k11AbPg5cZd3nvz99v/PFKtrSZv4Wfm3Lz+OZvf9t+6tRJ6hmcOnVg1+ED+/dH1fy3F4GXFX9l74bvN/5wOVsqQ6cNAADAa4PMAPAi0ekaBtqaXVyMB3Wy6upqoqvFKqttjM2uCU4ojcupLq9tlPxLtwNpTFfVi4qrBP/pLGqOoa1r0JxZs+eoTR3Rs7uzHlvXqMOgOVNmUIVzxg4c6m1CbfA8BHkpwce3b9qzObigmaZ/Xc6dkGM7956Or+0xftIM9TObMsqTo5Nz42R8/X9r+QtyU4JPbNu0e3NwfnMpBQAAAF4yZAaAl4LLZnrZGYztaTehl72BNisqsyokoSwivSK9uL6yvlEk+XvjmbTCS2uEd5LLi6sFT/9jvJ6NX5+Fu3bs3KW28fO5U3tZ6JjaDfho18atVOGubz/8dKgztcFLJ86Pvx8XndBg1WXw8t/+3K5+Zpt+/OydWUFebqaaGlQ1AAAAaE2QGQBeIhaDbmXMfaOn/YoJPn5ORlEZVbuuZl64X5RbxhOKpFKZ4uEkS0y6hrUJNza7OqWgtu5lXGFaoZAK6xrqaynkJl/89x4NhVwm4tXX1VF1Gvg8qtNDLhE28Bp4/EaJXCGVi3jqGvUCkfjv2aeytqqhusLW1CRo4kgrDlt9hDF0H7Tw3e82fTvSksV4lBrkMomIr7ojtXo+v/FhLwz1iAKRRC6XKR9R9ZDKR5SiwwEAAOBVQ2YAeBU4moxeHmZLxnrO6u8slsp+P5Py5/m0++mVdQIqHtDpGnpc1qBOVqkFdZEZVS98KI5EUB32Q49RfTwo/iP7LT2ZLZU3TSfi6rysXVP69vCj6gx/e8aOOBqNxIbCS2smTBkzd9nW61kliQWbZ/n6eJH1wz7dczyujtr4Mdl1dTdCwmhiCbX8RJWJFw4uVT+SysBFH2wLK1OuIcGh8PKXk6aOmfvh5utZpYlFW2b7ease8ZPdR+NqVVsDAADAq4PMAPAqaGgoT5LW52q6WuuN6Ga7YLi7i6VuSGLpX1czz98vzC/nkTp0DY3OLsbWxtpFVYKU/BfYMuZXZl4/+MGYj3dnRqaWUrKikk6vmz5w/fnsiipVJWFB1P0Dn8/4KTQ5s4CqE335/sGfPjlbwhNJGuurqiura/kiqUwi41eXqdZX1goE4r+dnmHi29W/S4BnZU7k3o9GDF93I76ogVrzmOqUixs3r1757WnVHaklnD/1y48fLj4URVNIaDLyiFXKR2ykHlH1kCRjCSXoZwAAAHjVGGvWrKFuvnzVdYKTN2LJjSE9PW0tDNWF0FYJGsXHr8VIpLKgLq6udmZUaftGkgOLQdfVYpnqcfS1NQ112GSxvLYxrai+sFJAp9OM9dhabGZBJb+0RsjVVFy+k0S2GtrT08b8qfYXYWFMXOSdkHyW94iF/expXJaqsDg+5vy2b3dej7aduXju9JmT3hg5cuRgfxdXeeypGwka3oFeNqaW2qKylOCrBw7srQx676N5U8ePHTNy5EAfU1t2VZL+oHG+xvrG1i4drHTkwpJqDqfvvB8+mDl61MhhA4O6u1ma6DBVD67G4OgaGulxNHm5l25G5BcUlCTeDc4VNXKMPS11qCo0Wn3S2VMH/toRVsfvNHfdBzPJ8yH6udAV5Ql3M2tZPv16WuroGyofUVfRWFLFZvcl1WapHjGwm5ul6WOP2Ebwhcr9RSqT9+3q5mJrSpUCAMArJJfLpVJpQ0PDnj17yL/qQhsbm4kTJ2ppaTGZTDqdrkG+y9slZAZ4WZAZmkGOOLpclo2Jtok+m8WkN4plNTxxSbWwrLaRrUmXSOWVdY0FFQ2JqTmk8vNlBmFZ/PVr+w4cSHMd9OlnK2YMHxbYo2vXrp28HewN6tPuXUyldeno6eBspahMDQ85eSFc5DR5yfKJQ/v269G1o4eDo42ptqVXJxsDM0cvDweWIC89IlXOHLJ457JxAd27eTuaPx4YVDiGpmbmrrbmNF1LL0nEzeA7wUnF5aV1dAmNaWtvwqZp0BrSz209djopTa/fxOUffD55EHk+hJ+LPrsxNzU5LU3ebWQvJztXb08HljAvPTxVRieP+NH4AH/lI7bJwEA8ygxd3FzskBkAAF4DkhkkEgmPx0Nm+CeNR+dgvnwZ+RWzPv+L3Fj/0fiefk7qQmirKmp4Uz/ZQVpCq+YPH97biyqFJxGIpHnlvPC0yvLaRlN9jjaHUVwlvJ9SnJeVKpM0biDNZV9Hqmqzqu/t2PPnuq9vc6dsilkbSDPWImXFMUc3b/r4j4O1fRdvndFZl/Pg136RoDrt+g+fH+Z+uPqbeTMGWApjL5z6+ct1BzNcF2+d0N3c3t7W1t7e20qXqk6UXz/0y+9f7isWzfwxeW0fNvP/jGyUi/nl19d9dzQpOioiL59Psx06/fPV7493NWVknF225I89mWUew2d/MrTJJ6M+L/zipRMhwTYrLu2f6WvI1Sq/fvjXjWv3Fgpn/JiyNpDDastjKcuq6qd8sqOiMHPKQN8unnZUKQAAvCqkSSyTyUQiUXV19cqVK6uq1EN3aQEBAUeOHDEyMmKz2QwGo91mBuUL9Mqk55UHzFxH/rsTm0UVQdtVXt0wYP4v5O0+H5pIFcGTSGVykURG/msUSzOL63dfy/xoW8T0dcFvrL0y8MPDPd/cEBafQ1X9f6rCtm+Y5Wbs1HHRJUWlQF2WHLJl8Shqd3+Sjst/vZZWpaxZVpy0Z4Wjo7ejpTGXrdlpypT1l3ILikrrlVejU62/dvDTMR623ZxW3mqUKKd8ekppJ1d8OMRAl2Vt7vDxsQZxrfz2tilBXaiH/wddR4Nhm+9V85VPv+zaoZVjPWy7Onx6Uyj+D4/YGpVU1AbNW69tbEO9DgAA0AKwWKx+/frl5eXxeDyJRCKXq78R2yOcAw3wmtXwROlFdWmFdbFZ1eQ/Bl3DxlTbQEdTJNNgaRswOdoa9Fezn5paeEz7OiUpMmX3Z4HebnFHj64Y3XXQxPmHCxv+y2Xm/sl11JKpM+dPdhZIpTl5+QrxS5hItrVTH45pchm5RRUBAEAL4Ojo2KdPH+oo3b4hMwC8NlKZ4tjt3N/PpJy5V3AhsvBGfEmDUDk7qYkuO8jbYkpvG0FVgVwier52pKGesbGVn41+n1UHboeHx/7D4aXT/O31lTU1NDQYTLYWm91j5qaDx6OPbV85wTe74P6vB+8IRPWq+3o2GgxTA2MTS2tyU6GaQtbCzJ5r5Nezz/yNl6gn0cTd86F/TPDR47BV27YT5KtIJpPJZVJykyoCAIAWQJ0Z2vNpDA8hMwC8NnQ6rZOz8Sh/2xHdbIZ1sRnRzTbQx7y3l1mgj0Ufb3MvOz2JoF4mET/fbxuGZtaO3j66wvzgXZFiHXMXP0oHVztmyal1FxNKShsUDF5GwsW9P3y06XIZTSjTMXF0dfPr5ufl7Ggu4ZdWNsjlyo4GfX1dXT3TqlrR3fg4uUKovvu/qYm8tOXPjb+evldNFSgVhEXfv38ymcNgWFmaa7BYlm7eLram9ZkZCWcz2dTTUXIykuakXdxzLkumkKmOTeQR9cgj1onvkEeUP/kRWz/Vr1cKZX+3vMlF/gAAoAXQ0tIyMjJiMpkkM7Tz2IBzoOFlwTnQzyk9r3z2qt3kxoZlE57jHGiaqDzi3snflrx3LMlr1MxAJzsjVSlN3NhQFH98f8OM02tmBQ0wSby2d/eXX4fpTB3rq0/jMEgFQXlaVFREbobjx5ePzfYx0OLQcu5s+3XjZ3+dk/qOfDfIgcmw8hvaq5tfZxv1HaoUn/591e7j4fWmg3t76VFltPL4sPD74aXmPSevW/9DXycWXZJ5aOe6Tb8ey+f79V8Y9PB8X+UjZuTUst48tn+mnSGXPImcu9t/+33lzrMS35GL+joqH3FIr24dH3vE1o8chGUyWVFZ9fTlm/OS7nhYcy2MdUkJtRoAAF4V5U84KnK5nCQEFovVqVOn4cOHm5qa6urqkkX6Kxot3BIhM8DLgszwnF5UZqDRqkpTw46v2nkm4UJ4nqiuUV1IY3F07LqPGDFvxduDPLx1CxOvHt74zZYtUQXUahqNY2Jn4z+q/5SFP03ooMth0mj1OcH7j/z68w8nM2tVY2g6Lti8bMH06Z0eXXiBVhN1ecfWP7adPJteQZUomdq4u/WZMGrM9BUTOtAYyp9p8qKPnzu57eCl5DuRjx6Qpmfp7Nl/8tg3l7zXx0RbkxyX63NDDhz+Zf26k5k11CP++dH8GTM6N3nE1k/95VRYWjV9xWZeQ/2MoR07uVlKpdJXeXAGAABCGRfUg0XlchIPuFyugYGBiYmJoaGheq7V9tzVgMwALwsyw3N6hsxQl3Dq3NG/tsdwhqw89E5nmn6TcwIkgproP8f9eKkum5o7jqZtbD1o1YmFXVhm2qrlyqS0639N/eG6akHJyHfwgBkffjqwybU1GlLjrx///svjaaoWfPc5300bOyTwb/OC5lw7eezQVwejqUWlTv1mTJn34SBPapFSmXzl5q5Pvnv0gDSHHmPHLPxitg+1qNSQmqB6xFTqEb+dOnboo56JtoJ8ORWVVU9bsYXXwJs3plt3TxvyjfUqD84AAKCmSg1KJCGQnKCrq6unp0f+1dTUbM+dDAQyA7wsyAzP6RkyA7RSJDOUVtZOXb5NIBAsnhLYu6MjKaHWAQDAK0eaxwwGg+QEDodDkkN7vzKDCjIDvCzIDM8JmaH9IMfh0so6sr8IhaLlcwb07+b2Ko/MAADwTyQhkJzAYrGYTCa50c47GQhkBnhZkBmeEzJDu6K8DvSKHY2N4s/eHjoooANVCgAArwnJDIR6llU1akV7hcwALwsyw3NCZmhXyqobpq7YIRRJVi8YPriHB1UKAACvycOQgLSg1t77WQAAWhbVz1oAAPB6qboWlKiDc7uHzAAAAAAAAM1BZgAAAAAAgOYgMwAAAAAAQHOQGQAAAAAAoDmvZ96krp52poa66kJoqxrFktDoTKlMjnmTng3mTWpXHs2btHDE0J5/u2Q2AADAa/ZKM0NOUdX7647U1AlkuMRpu6HF0fz0zcGDMHfkf4fM0K4gMwAAQEv2SjNDVS3/8JWokoo6qUxGFUFbp6utNTrIx9vFilqGp4bM0K4gMwAAQEv2SjMDADw9ZIZ2BZkBAABaMpwDDQAAAAAAzUFmAAAAAACA5iAzAAAAAABAc5AZAAAAAACgOcgMAAAAAADQHMybBNBCPZw3acm0fl7OlupCaKuq6wWrN50TSaSYNwkAAFogZAaAFopkhrmr9+ICiO2KhobG6gXDhyAzAABAC4OxSQAtFEeT6WJnymIyqGVoBwz1uBxNFrUAAADQYqCfAaCFEomleSXVQpEY+2j7QSKijbmBvo4WtQwAANAyIDMAAAAAAEBzMDYJAAAAAACag8wAAAAAAADNQWYAAAAAAIDmIDMAAAAAAEBzkBkAAAAAAKA5yAwAAAAAANAcZAYAAAAAAGgOMgMAAAAAADQHmQEAAAAAAJqDzAAAAAAAAM1BZgAAAAAAgOYgMwAAAAAAQHOQGQAAAAAAoDnIDAAAAAAA0BxkBgAAAAAAaA4yAwAAAAAANAeZAQAAAAAAmoPMAAAAAAAAzUFmAAAAAACA5iAzAAAAAABAc5AZAAAAAACgOcgMAAAAAADQHGQGAAAAAABoDjIDAAAAAAA0B5kBAAAAAACag8wAAAAAAADNQWYAAAAAAIDmIDMAAAAAAEBzkBkAAAAAAKA5yAwAAAAAANAcZAYAAAAAAGgOMgMAAAAAADQHmQEAAAAAAJqDzAAAAAAAAM1BZgAAAAAAgOYgMwAAAAAAQHOQGQAAAAAAoDnIDAAAAAAA0BxkBgAAAAAAaA4yAwAAAAAANAeZAQAAAAAAmoPMAAAAAAAAzUFmAAAAAACA5iAzAAAAAABAc5AZAAAAAACgOcgMAAAAAADQHGQGAAAAAABoDjIDAAAAAAA0B5kBAAAAAACag8wAAAAAAADNQWYAAAAAAIDmIDMAAAAAAEBzkBkAAAAAAKA5yAwAAAAAANAcZAYAAAAAAGgOMgMAAAAAADQHmQEAAAAAAJqDzAAAAAAAAM3RUCgU1E0AUBEWp6bV6Tm7W+kiUz+X8hs/rb9cYTZk2Uf9Tami1kBYnJJWr+vcwUaXKmgz5NVZ8fk0W29nYyZV0kLUxB7bdyqmUCilM406Tn1/srcWteLfVdxY/9PlctMhHy3rb0YVvWyv9PP8hKOQvDr2+N5TscVCKY1p2HHq4qnOda/kSFWTFZtHs/N2NmphnxoAeMUYa9asoW4CtAuJe1esP3DtSeIYfj0dtRvCtv146HZseJ52QDc7NrVRy1MdueuHXw9F0f16OmlTRf8JaXJ9ufn0tWulloP8Xlabi59zNyxLoO3Sk7ysVFHLonoRwh5/DRvubPvx8O3YiDydgG62Lff9fxZZJ37YejkmKrrBqa+nEVXWEhSf/3V7WLlUTm4q5DTbgEF/f3aqfbbccpBvk0+qICfsbhb/lX64XuHn+UlHoeKLvz14mWhyDduAHnXHXvSRqvz6+i+3hDE6Nv0Ds46pPzW8FvapAYBXDr+jAjxO19nbhkljmjnbttCfmaV1WTe2f/3D0VQhVfAsyuNjyulaWlq0xMhYKVUGSrpu3lbk/Td1tmqZOec52Ht669LJB9zlVf0w/3TyY2JqaDTDbm9+/sMP332zYpQzVd6ePeEolBcTW02jGXWbQ16mH75ZMdb5FR2p7L29dGl0XWfHlvWpAYBXD5kB2ifvmeSL92+oQQ5mgYu/+eGbj4bYqSq2OIkHv916OaOBWnpG5Ykx5TT3sRN8tGhpMYliqrTdKSsqp241YRq4hLz/y4bYt7mjI9Njwuff/fD5zI4tKw3XVys/zbb/a+/8g5u47gS+EcKc6ggHETZEQARVgE2qOLZBBDsTEeQW92I3Z4oYUHLuxFzGNzFDPD3TmAYnpVdDURNfzmFw5jSZkqubU1LMxclZmZjBSpALgghsnaPAOvYOiILqLCDX2TqbOjr33nu7+i3L4leGNN/PH6Bdrd5+3/f7fW+/37fvPTMMEkuhVOVIZ+O4yKcx0984qb2QEBpF/2qZe7D1lCrljeip+OFUTSuZ9Y22XzZWFd1cXgMAwFcP5AwA8M0j6PVepJh8gyHfoJpg+/zwpgEAAAAAgEzAGmjgm4a/raHNj98zVBnkM0mkW+kYDvneauvsDwrJQ/KkHKnI/Crb43FFJp8kxVJl9VuLxe432lysEFYaN+20LMXfhU4733Z6hy7ixY2q+Yz5BxbTwqlWgZLy6TX19aVXPGcg+K6tpYe2/ry6IIdr32H3LrTufKJg0vWN8XXPoQ1rKisf1MevuQxf9nX+rtt3nsfS52oLH62yFEjzniVNYhXpTjvb3j4aGAlTCiVdtL56XYEmfrxiIsS+97bzxBA/hhWgvddc+UOTLqoAUlNUivVOdKNO71mBaKmw8h8tBbMogXO17+9mUcnohwWVVYklhy/73e91u0/hZaNUjoZ52GJZTYS/7Gn9945AojVlZaZdXDshcEc6Og+zQXRzhVKzuHSj1RyTMAkx6H2vw9UbCKHySXUqHjXppVHaoNPW4g4ttezcZExQ+Dln0153eHn1jvWMdCKTSxAJKSRtiehytHUPYFeq3qx6e8qS0zoqkrZzf5dsX42uqGzjP0g6lMynq2ysLY4OMZPShETlCEdam94JTNqiMmiDCnn2Nneci09Zk4phO/61zYO8Ih5JfslM6LNVx77X9raHlJ9DG9dVR9wvwqQVTM9U/py0Bjoc8rud77vZ89jFlLOY0vUWc6R6GOSg+zvcHCktT2f8/saKouha4nCot6Pt3T7JqWhDWWVMMwn3Ch1pbX4nkKKmtPKgG7o73nVjT50g8mzcaI56zoQQPNHd4fLilig1oscqC8iCeHyLzoC0WCKCXLL/9Ya2/mTDIKV2ve3yngvhu+RqmdUVid0CkQ13dyYlqmNnXxAZMW3bjxL16hWC+51OF2mzWP8VVZUxjUnCYFm0vvZ9B7z8OKV9pKFuFTbQVCIRUG/2P290f3RB7moSewxUgvNAF7YHVh02VmW8L12lKQHgb4fJO04AACTGWccum+NEasJw5Yx/6n3d1noQJQzogNbcjv4V2QM222tuFkeHiLB43u98xdbmv5bVCpkJ9vWHqKWFBjwJRG9crs44PYl37Y2r+zjv77TvfsUTIkcI0d/W9CuH5yx+jiLCY0Gvw9ZyOPo9Alew6TU3CVNQ1BLmTzhefosjXxFEtv1F277DLH6KI8JisN/Z+kKyAvij9t0vohsRzWEteR3/0e5+t2W3vQsnDORcMKFkMdBtb/pVGwoWJdmo8RB70N76bgB/nhDF7K05wbv2NNk7/TggwIfh0EBX6wvtrFRsEsMe+wst7cdICIsg1bHvanFKkbHWaETh3YC/L/Hugf4+gVIZCqSEISuXEC95215o7UIJAzqgNXRWJacgSRuzbyhwzGHb4+Jx7EgzeM1rgB2I1ZMfZPE8oossF5scF2YHkEoZZol8nEBmbaBj2TaTERaSEoYkxpDzNO07HCl/nPc6Xm4fJJ8lMlUwDVn4cxxiwGVvsrV1+UnCgAiPsF32Vuc5coBAXcdL9q6BSGmjAc+btt0HZMfh399re9MbdSoeaWZ3q+cy+S6R8BdTqCkK393SZHf6z+OoF4HlecXWLllwxOd4sanlgEduidivvI4X27zErfAtJtFJKvwRu62l3XMWR+cIpCXULTTtcSYl4dSf2Y49P8N1lIyY2vZT4D32pl12Z6TNYv2/advbnTRjShzqbLE5cMKAoGkc1mclErIu6smPBWJdzQmHba9bsq5UgjemuoAHmT566+tkSgD4WpMwIAUA3xj8bQ0N8keJpMHXOPgep28MRXummifK9HnK8CjX9ZrdPcxYnq82TvUyIJlRn9uvNqyrty6nlRPhsJIK+9vf+DCk0pssFWZGq0InxGDfG6+2+ztdQUO5Vv7ZdSXY5x+hDBXyiwVdUaGmx93nDxcUpesNBt3uYFzdRfQkdhy9XS8Pvl102V9HkaySXr7eWmFA4mPl/LZbkzDQy3k/VGpX1Wxao1crw6EP214+wIonPmTX6UkYG/b/9xveyyr9KkvF6ogCet+wH/A73w8aHokpgOc45fziqvUVhrnK8PmuvXtdwRGv8zCl0pdt2mDS51FyyR/1cev0ZBWtKvwnXnlXseUHpsL5GqUiLAx2/frX7uARt/+RKsMcc73NzHc3Nx/kp3pXE2b3t3YhJaj1ZRssJrzhJA592i4UMmkUxrt+28GNYamqsFRKFMX63trn6A26X9uv32ZlcmjjA9quTtbfHzYuj/4+4O8XqDyTcTE+yNIlhF7sSpYfW41IIdiVlFOWnAKRVtQUrNtYVqDToBxyPMQdbLP3dDl9puoipdZgUB92s9wQtVxKOQTuE16Vb9D1+1EiUSzfZWgIxegLGSZ1HUIW2jBvtZnTvv2QMVTZbOlfj0hwXq9Sa3pyU9li7Fze377cflr09rKWxZLAU1SQXBNHVv4cx4xwiFfqVlrKHy7UzUKGErj3fm3vCbp7/OVEVMHrQl2H6h5L7WNGOgeFoZz7QEfo3rvJjTn34SCl0Jo2ScLjbMrh0ehn4++SoEvrbaWSFpKG+xMIn3a0HkRlqvXftVoe0qP6hoe9DseFwsXkhgpxRKANa8pKS4hbofzqv1rbT7Puo7yxlCa3SP/iIpmLrrZ3OBFZdU2VdRVq1Oguvv2/cfiC7n1v6Rs3xDULMcAF1fo1VnJZattPhyAIuKFZTVgnAnfY0XaQCx50uJfXmfLkS5DqPD2RLkURxnF6ViLxLnubf4xSzjGuf6ycWFdAztCdV4itK5Uwu8CysYx0F9hYXb+xuw85fQ9VF+RcN1MCwNcaeM8AAFNA1gVqzBvKcdCD8uw8ffkGs2aCPXpsktHHjDDr6qtW0OiZRCmVSvQk6vGLs0zVT5JnGP5eqdIaqx81UCN9fdHRyutK0OcPqYzGe+VDSltomEWxvj5pwCyZGVgq9SKDXHeVtmB9fe1qOcLmUEIxQalWbKpfXyCJj5WzuaY49nRHqAwbttU9gh/k6HvNivJi9CidCAYvki8Fr7tf1DxUXfNInAJWVFcaqJCvj7wRiKCv3La5EiUM6KNyflnFcpyuqfKrGmrMRLZIyeKFQGR4T7+2sXFzpfEuHAGgC9SLy1ehWk8EAuel77MDBQu9IqXQVW6pMS8mRSmU9Iqq+rXptvcZcLtRveaYa5+UpMKzZQo2PI1noI35XF48OK/OL0RxP9sfp/Bz/r5RSlNQqMMHWbuEgrHUV6GEAX3ErjR1ySmghPAicsinrStIPI3I0egrrObZEX+4i2GQmjlONsQ4y56l9N8p02kpdoCVzlHnOG6Copekm4iRhTauFZXBuq2uHAVq6LNSY/x+MY7//hCUB4enrGAi2flzHAq95dnG2rVGnDAglGr9I6twQB8ISBpTzcBeqr3XgKJMhHKW3vxkveUecjEyKzqp1hnklqHSFlnqN1/L35oQvB/4RIrSVdTVlOKEAaGca6z6caVees7nFdf+vL6qNOJWKH0l6uIDCbOepoT9wI3US5fWorsQ0dFdCqxbLIyCEnuTrKoufnJb5LKUtp8WJOSzqKFJv1DrS2s24pYe7OtN6Gw1D9XIXYpCiZpkViJJwx+5xk3/YolYF9mrtuZB7LnI9DxqUFuske4CG0vq5/v6sXq+WlMCwE2K1JcAwDcNPH6ZwCQvGRCqv8NPiwTGw19S1BfiF/LhFUDrEmbBB4bOUtSIu/WnDQk4/CgCCH0mX3RdITs2it59sTu2uEfSzGmRuctcma8SjrRuf2mfs4eTJgNE4ANnUIhCm0yZN8dUz0vYC5KeN0/+hAkMoegq1NMqyxIBK2CUbKcTJVcdPzVZfRsuU39//B//ou+4E/0bpqJTLPD1YTHIud917NvT1PQcKfZKFUskpAymSQPHOPjzAaQR7TIjndCzqoxFJJI8SyLJvJISFDQPeKPRFYc/agwF0iuErF1idqIrIaYoORn+HJaW3b9DvoVMswslXSGBxGh6ZjEyBMtJQd4nLEvp7tbTuvkqapCVppiQ2UpqZnGaACkrbVwjt87TxjvX3HnxVc2igvFk6c+JoKohFxt0O9/c17Kraft24mIR11UWlZdpKe5AU9MrDpcvIE1diaAzP2pQjXpaf9a87103N3xFcXtaiOcokKemSd9kkLTjoYDP1dHW2rxrx/aXXFgJaVSRAT5IrFq4LNHiKmMhHoaQWksU1cyZUlQtkdj205IzU5XgLRSzGJsjmLh1lnZhfBaclUiSM9APmuQMKgFi+gm2PclTiH5Co1g9X60pAeAmJU3rAQAgHv2DJq0i5HrTyY3ih0F4lHO+5UYxAT33mgeSvvpNJMnAczrwnBb5YwIqw+ONDRuK54lD7k5783Pbm15xkintCP4CDiVpOsM0hqngP72eCpAGCKOEg2570/YdLXbnYR97Xri65SiShFnaWtqqUjMnZSrLvHlxv1cW4tUFgb5+SY9c30ciNcdolKLda3KJjCWnkG5jzWSYpahAnv0EF8gNcNQcRq+m9Ev1lMiy+KVHOBDgKRXDpNvuMztt3ECyqWAcV+HP4WCPvem5HS2vOt29bHBUngofQ0GbtzTWVDCqoK/L0dr03Pbm1z3BSDtTGaoan7EWa8Whw077S9u372p1npab1tUgec7seYkZWhwTAvtW8/bnbK2OLo8/wI9mu0YiEUlLGjpl4o1We2OsKiUdZArSJGQlkuQM9B1phZRKyMhXaUoAuFmBnAEApmKueVOFjkIB6K7tDQ0N23fZyRT/svLJtxrKljk0foLNNtfLLzsSmHTa8jVAVsTSZVvlW8j8woICw4Q5LQkoNUWVtc/u3LmjrmoNM/2ce99LDhbH3/Q8HF0JwjU8HKVHuKb0Bihg1GPf4+QEpXphcbm1pq6xccdOW1W+/GX2SBIKf8qqklJqIYymXJz4hyCUhkJGgWzhx9cN9vlFSvuAUY5lrs0lMpWcgiStwSoXnkBkWyTlUkaH3Aa/EwiwA6Ka0ePzSxiGEthBnppg2UGKukuXdu5Tltq4cWRTwTiu2J+FI/aWTk5QqHUry61Pyi6WbCKFWv9QVf0vbDu31VpW0EJ/R8teV7T6ytkFlU81kqZVxigD7teaHaevKpJHSJ7z58S3c3FwbzXvO8aH8dZnlurNDY3P77RtLUtRwpRMqqUrzNCyRfIfdd7kL0+yE2lSb8RIJRisv5S9I57YYqevzJQAcLMCOQMATIXo7+gOULNpbS5JEnI0upXWhi3m2HjeDBWeJPJZ/DNL9P9vpu1BIuh08ynqss97Y5YupCCtiGX0+AEZRw7DLJxsepIoivInpUprKK2qXq2hxnzeT9AJmsZzgQLuwymTTJJGWzOwQKelqFCvN5D9T7JD8PehMrUV2xqfqjQV6LVqtUohCGPyt1fAHXhQXDzhlraXiZFOYHo+ni4U8BxN3JZH9H6IZ6zoohMqcgqKi1TUWRalXoEBFgX2hfnRkOjaXCJTyclI0vp7k2uWgFrPIG8JBAKXuaFRFbOUVIE4DP8JJ5wPICXrlqZbDZ69Nm4YWVUwxpX6s+DvR1dqy59prF1rKliMXUwpCAn3GhfFyG/x3p1r6ypRShHs85NR7cSmZa76kVlDib7eyEKRK4YEvqLXfSKxurIA5KWTyliNlzQYmbs06lxl+LPPstNMPLSWWPWoJzFDEL1eYtW7r69VJ/ijHmyOjN6SlUhS8h/ocSd3NfhQKsHf1zu5Pr5SUwLATQrkDAAwBXiDmjGN+Uf1dc/vxONOv2ioXZu4xfhcMtfibFdHL5nmOs5725rb+rN5HKtLVhtUVMj9is3RG9sSNPBhu+NY2vGwqQmfbm/6aUPTm4kbc0oMer2jlIqMHCei1i9BNWBjE+Ej8N32HU3N7RHZwqOc9zSZ3TsNHxoeMmlQxN9jb3nHLy11QBe4Xm1qOZz1iGNeSWm+Ck/ff9HhiyggPBLw7nd40s+hujJGznHSLpzhYV/7v+3uSMzjNHl42gzf14fnGEyE0+++OqfYtBR9y7Y3t7nPEftOhPne9ubd0suWRJaaTChuu+hqfdUlzWTDOwW9+XL7AEXlFpiNsfCdyUd2Z/39HM7ilpaUxBZLXKtLTF5yCpK0A+02u4uL7r8Z9Dtf7+JicRWtZ9TUaIDzBYIKPSNP9ScOc3aoLxAQKJpZMklakrU2pmCmBl862OfDCphye9Y4sqpgjOz8Ofzl/8mfCCMBjuzvKXtFvIuJ/v22HbvsrsHIBqDD3r4z6H8lfvAOu+z/2tS8P+L1YYE7wZKmddVvL+nih/F2ROyB5rYeecI9cfum2ID3Xy4EpG1h0e267btf9SS6lEYtNYiTZNLNePrdV5mHTaiz4Ltb7d1c9C6OPe3sBKUqugKrpudilx15CzEWUX6rCwXlucaS6J4N6chKpHtNpll4pZB9b4dfWnJAlNBE3hVIJbD7baiE2L7Afmfbe5I9r8GUF90t2xu2T769LwB8jZi2Y8cO+SMAfCPg+w/18xR9//fux4F+GsbOHPVwn+feXVKyKJccc0ePDAm5C5Z9RzsjPlOIMeN26g8fnLoc5j92uw4dOvS+5xQ/jVlXevtp7tId938vX7pPcrESCnrJ3M/6fedDwx8f/wD/GP38iPd08NIXmkLjApV8VQz/6w3Nr5PLUCWwbB5ycOgQf6d0o1MH/9M7TI3/cWJBSgW5D353/ML0wr//4b0pE39zlSPHvQH+L5qVxgUz5HMYxZfn+/sGOb8sm6vnJAoSKW3Z448syr0FRfxLlihPeYdGR//Q73lfvgA9cqffft/Ke1BWlb7K/EeH+j+NnlTQi+eOfuQLXh6O3OSQ6/feU8FL4qxC411EAZLFYprEjJ3xeLixJCvGlzwjLzx4hL007D8iCXbMH/x8hnb+TOEzMforRe4X6JrRsTPH0Y27XcfHvv3wvRrq8zOeo9xYTOrp85g7L53sHxb4QS+xb7fL83FwTJm78L5lC+LqRchd9O1bz3zE8p9yJ3tIbd73+P8o4n0Y/+nxktnT5asQt8+4dORk/9ApXgjf/d3Hl90Z86ypXSJZwkQmLzlFk3HS/l7W/QfH+wMXL+UsLGFmyz+87Rb+SO+pwPBYWLvi0RWyexCH8XMXLoW/tazs+0tuIydTyE4b6eybgHoaf+xk8HPe7yYSnp2JvTS9EkhZsZNZVTDGFP6cO3YGOZh45tipaUUrF31rxm3jg+6BS/zHR1zdEa9QabW3CsIXkotNp4RPfB9xbC+5ADvhqUtfUqr8yo0P0NOn/eV8f29c03KfPCcgzZRtqFh0KxIlte2kdlzJ10zXMneGTvYHBf4TyVMlt5+Wu8iwbP6CGZePnDw/csZL7odux42Ma7RaShByogUoZn6OajQ6dhY3iEPvHxcWPYz6CtKs4m6cu+jub53xDfA8dzJ6l2ERdQummsdKNLJVs2n7iUgGVVDjl2VjYeWj5AHpZPOmZZFUJFkYiWxEuuW2JXdPO3WCG/3T+f5j0kVECdPp+4yMZmasBKnHkDyFH8n59gOMZtrVm5I/1n5wcGziM2FmYbpaA8DXivQhEAAAUTRFK3QK0b+/Ca9miLJ9R/MrHb7LZGCJUhmttWVLI5v0zTWUP9VQvYLObsBQxaxraKwpN8xXyz/P1RrX1TU+RXaNvHKYIqNaQamLCpM3f5lg8eSE2FBxItKummc/TFohrVpqaXi2pjxf3p5Rnpe1OTYvi15dt22LpXhhdINCXbG1oWGt/goGS1WMZWtjTYVBK+2SSClV842WusbaB69OARHyiqv/uVzam5VSKDVLTVXPNNatTlwOjK55wqSTtwHV0GqlZM5k8IaeDVVrDPLkNKVKm19e+5Oa4jnk2yTmFtf8pM6yMrK5J7m45tm68uQ/7K0vWaGhxkRRwRQakrR1jS6RoeQUkLTPNlhX6mipakRR1c80Vko7+ksgl1FQ4piYsKEqdhhRHEv72iqObLWREYXeUmORTYlKuE31JTmdFdlUMI7M/mwoLdPhigio4gj1g9W1FfLmm8h/mFVVDc/WlS4ghwT6wRq8NDZaWq7WUFFTbyWbfUXdPirYwmLr1s3mufjoasH7GjdUlRnmS+0VNSXcF9WsxPG1fu3TSA/yVqSSR2213ofzkxioRtWrItfMotXT0zcIVK+GujgtkXo1binHE3yuEYOVeD6RX9LJM3XZ6CQrkeaa67bFeaPUm22t1JPDiLHoaF/HrKpu2Jb07RWbks43apWUcn6hIWWkBgC+dtzy17/+Vf4IAEBaRLZ9zz6voFSOp2zeoTJWP493AQcAAACunouu5he7eG1ZQ5352kYLAAC4UUDOAACZCTp3t3hpy9NPGBPWMIwHu15ucU35N1MBAACAKZFyhjll9Wm2tAIA4KYABkgBICOX2aERShQuBIdjKwLDY0Hu+GHfZYrK1SfvQQQAAAAAAPA3B7xnAIDM8K6W5q6gfJCAUlu2Jau5tgAAAEAm4D0DANz0wHsGAMiM9Oc/Ddo8eWkcyhVUc3QFa6oafg4JAwAAAAAA3wjgPQMAAAAAAAAAAJmA9wwAAAAAAAAAAGQCcgYAAAAAAAAAADIBOQMAAAAAAAAAAJmAnAEAAAAAAAAAgExAzgAAAAAAAAAAQCYgZwAAAAAAAAAAIBOQMwAAAAAAAAAAkAnIGQAAAAAAAAAAyATkDAAAAAAAAAAAZAJyBgAAAAAAAAAAJoei/h+AFZlKZKM60AAAAABJRU5ErkJggg=="
    }
   },
   "cell_type": "markdown",
   "metadata": {},
   "source": [
    "![flow.png](attachment:flow.png)"
   ]
  },
  {
   "cell_type": "code",
   "execution_count": 43,
   "metadata": {},
   "outputs": [],
   "source": [
    "#  This method transforms a dataframe into a train and test set, for this you need to specify:\n",
    "#1. the ratio train : test (usually 0.7)\n",
    "#2. the column with the Y_values\n",
    "\n",
    "def get_train_test(df, y_col, x_cols, ratio):\n",
    " \n",
    "    mask = np.random.rand(len(df)) < ratio\n",
    "    df_train = df[mask]\n",
    "    df_test = df[~mask]\n",
    "       \n",
    "    Y_train = df_train[y_col].values\n",
    "    Y_test = df_test[y_col].values\n",
    "    X_train = df_train[x_cols].values\n",
    "    X_test = df_test[x_cols].values\n",
    "    return df_train, df_test, X_train, Y_train, X_test, Y_test"
   ]
  },
  {
   "cell_type": "code",
   "execution_count": null,
   "metadata": {},
   "outputs": [],
   "source": []
  },
  {
   "cell_type": "code",
   "execution_count": 75,
   "metadata": {},
   "outputs": [],
   "source": [
    "dict_classifiers = {\n",
    "    \n",
    "    \"Linear Support Vector Machine SVM\": SVC(),\n",
    "    \"Logistic Regression\": LogisticRegression(),\n",
    "    \n",
    "}"
   ]
  },
  {
   "cell_type": "markdown",
   "metadata": {},
   "source": [
    "Then there will be iteration over this dictionary, and for each classifier:\n",
    "\n",
    "1. train the classifier with .fit(X_train, Y_train)\n",
    "2. evaluate how the classifier performs on the training set with .score(X_train, Y_train)\n",
    "3. evaluate how the classifier perform on the test set with .score(X_test, Y_test).\n",
    "4. keep track of how much time it takes to train the classifier with the time module.\n",
    "5. save the trained model, the training score, the test score, and the training time into a dictionary. If necessary this dictionary can be saved with Python’s pickle module."
   ]
  },
  {
   "cell_type": "markdown",
   "metadata": {},
   "source": [
    "This method, takes as input the X, Y matrices of the Train and Test set. Then it fits them on two Classifiers specified in the dict_classifiers.\n",
    "The trained models, and accuracies are saved in a dictionary. The reason to use a dictionary is because it is very easy to save the whole dictionary with the pickle module."
   ]
  },
  {
   "cell_type": "code",
   "execution_count": 70,
   "metadata": {},
   "outputs": [],
   "source": [
    "def batch_classify(X_train, Y_train, X_test, Y_test, no_classifiers = 2, verbose = True):\n",
    "    dict_models = {}\n",
    "    for classifier_name, classifier in list(dict_classifiers.items())[:no_classifiers]:\n",
    "        t_start = time.clock()\n",
    "        classifier.fit(X_train, Y_train)\n",
    "        t_end = time.clock()\n",
    "        \n",
    "        t_diff = t_end - t_start\n",
    "        train_score = classifier.score(X_train, Y_train)\n",
    "        test_score = classifier.score(X_test, Y_test)\n",
    "        \n",
    "        dict_models[classifier_name] = {'model': classifier, 'train_score': train_score, 'test_score': test_score, 'train_time': t_diff}\n",
    "        if verbose:\n",
    "            print(\"trained {c} in {f:.2f} s\".format(c=classifier_name, f=t_diff))\n",
    "    return dict_models\n"
   ]
  },
  {
   "cell_type": "markdown",
   "metadata": {},
   "source": [
    "#### 2.1 Data Preprocessing\n"
   ]
  },
  {
   "cell_type": "code",
   "execution_count": 47,
   "metadata": {},
   "outputs": [
    {
     "name": "stdout",
     "output_type": "stream",
     "text": [
      "class ['e' 'p']\n",
      "cap-shape ['x' 'b' 's' 'f' 'k' 'c']\n",
      "cap-surface ['s' 'y' 'f' 'g']\n",
      "cap-color ['y' 'w' 'g' 'n' 'e' 'p' 'b' 'u' 'c' 'r']\n",
      "bruises ['t' 'f']\n",
      "odor ['a' 'l' 'p' 'n' 'f' 'c' 'y' 's' 'm']\n",
      "gill-attachment ['f' 'a']\n",
      "gill-spacing ['c' 'w']\n",
      "gill-size ['b' 'n']\n",
      "gill-color ['k' 'n' 'g' 'p' 'w' 'h' 'u' 'e' 'b' 'r' 'y' 'o']\n",
      "stalk-shape ['e' 't']\n",
      "stalk-root ['c' 'e' 'b' 'r' '?']\n",
      "stalk-surf-above-ring ['s' 'f' 'k' 'y']\n",
      "stalk-surf-below-ring ['s' 'f' 'y' 'k']\n",
      "stalk-color-above-ring ['w' 'g' 'p' 'n' 'b' 'e' 'o' 'c' 'y']\n",
      "stalk-color-below-ring ['w' 'p' 'g' 'b' 'n' 'e' 'y' 'o' 'c']\n",
      "veil-type ['p']\n",
      "veil-color ['w' 'n' 'o' 'y']\n",
      "ring-number ['o' 't' 'n']\n",
      "ring-type ['p' 'e' 'l' 'f' 'n']\n",
      "spore-color ['n' 'k' 'u' 'h' 'w' 'r' 'o' 'y' 'b']\n",
      "population ['n' 's' 'a' 'v' 'y' 'c']\n",
      "habitat ['g' 'm' 'u' 'd' 'p' 'w' 'l']\n"
     ]
    }
   ],
   "source": [
    "for col in df.columns.values:\n",
    "    print(col, df[col].unique())"
   ]
  },
  {
   "cell_type": "markdown",
   "metadata": {},
   "source": [
    "##### 2.1.1 Remove columns with only 1 value"
   ]
  },
  {
   "cell_type": "markdown",
   "metadata": {},
   "source": [
    "It shows that a single column, \"veil_type\", has only one value which cannot effect the outcome of the model. So it can be dropped."
   ]
  },
  {
   "cell_type": "code",
   "execution_count": 48,
   "metadata": {},
   "outputs": [
    {
     "name": "stdout",
     "output_type": "stream",
     "text": [
      "Removing column veil-type, which only contains the value: p\n"
     ]
    }
   ],
   "source": [
    "for col in df.columns.values:\n",
    "    if len(df[col].unique()) <= 1:\n",
    "        print(\"Removing column {}, which only contains the value: {}\".format(col, df[col].unique()[0]))"
   ]
  },
  {
   "cell_type": "markdown",
   "metadata": {},
   "source": [
    "##### 2.1.2 Imputing missing values\n",
    "\n",
    "Some datasets contain missing values containing '?'.\n",
    "\n",
    "It is required to decide what to do with these missing values. What is most effective, really depends on the type of data, the type of missing data and the ratio between missing data and non-missing data.\n",
    "\n",
    "1. If the number of rows containing missing data is only a few percent of the total dataset, the best option could be to drop those rows.\n",
    "\n",
    "2. If there is a column which contains almost all missing data, it will not have much added value and it might be best to drop that column.\n",
    "\n",
    "3. It could be that a value not being filled in also is information which helps with the classification and it is best to leave it like it is.\n",
    "\n",
    "4. The missing values can be filled with zero, forward fill or backward fill\n"
   ]
  },
  {
   "cell_type": "markdown",
   "metadata": {},
   "source": [
    "##### 2.1.2.1 Drop rows with missing values"
   ]
  },
  {
   "cell_type": "code",
   "execution_count": 49,
   "metadata": {},
   "outputs": [
    {
     "name": "stdout",
     "output_type": "stream",
     "text": [
      "Number of rows in total: 8123\n",
      "Number of rows with missing values in column 'stalk-root': 2480\n"
     ]
    }
   ],
   "source": [
    "print(\"Number of rows in total: {}\".format(df.shape[0]))\n",
    "print(\"Number of rows with missing values in column 'stalk-root': {}\".format(df[df['stalk-root'] == '?'].shape[0]))\n",
    "df_dropped_rows = df[df['stalk-root'] != '?']"
   ]
  },
  {
   "cell_type": "markdown",
   "metadata": {},
   "source": [
    "##### 2.1.2.2 Drop column with more than a specific percent of missing values"
   ]
  },
  {
   "cell_type": "code",
   "execution_count": null,
   "metadata": {},
   "outputs": [],
   "source": [
    "df"
   ]
  },
  {
   "cell_type": "code",
   "execution_count": 51,
   "metadata": {},
   "outputs": [],
   "source": [
    "drop_percentage = 0.8\n",
    "\n",
    "df_dropped_cols = df.copy(deep=True)\n",
    "df_dropped_cols.loc[df_dropped_cols['stalk-root'] == '?', 'stalk-root'] = np.nan\n",
    "\n",
    "for col in df_dropped_cols.columns.values:\n",
    "    no_rows = df_dropped_cols[col].isnull().sum()\n",
    "    percentage = no_rows / df_dropped_cols.shape[0]\n",
    "    if percentage > drop_percentage:\n",
    "        del ds_dropped_cols[col]\n",
    "        print(\"Column {} contains {} missing values. This is {} percent. Dropping this column.\".format(col, no_rows, percentage))"
   ]
  },
  {
   "cell_type": "markdown",
   "metadata": {},
   "source": [
    "##### 2.1.2.3 Fill missing values with zero OR -1"
   ]
  },
  {
   "cell_type": "code",
   "execution_count": 55,
   "metadata": {},
   "outputs": [],
   "source": [
    "df_zerofill = df.copy(deep = True)\n",
    "df_zerofill.loc[df_zerofill['stalk-root'] == '?', 'stalk-root'] = np.nan\n",
    "df_zerofill.fillna(0, inplace=True)"
   ]
  },
  {
   "cell_type": "markdown",
   "metadata": {},
   "source": [
    "##### 2.1.2.4 Fill missing values with backward fill"
   ]
  },
  {
   "cell_type": "code",
   "execution_count": 56,
   "metadata": {},
   "outputs": [],
   "source": [
    "df_bfill = df.copy(deep = True)\n",
    "df_bfill.loc[df_bfill['stalk-root'] == '?', 'stalk-root'] = np.nan\n",
    "df_bfill.fillna(method='bfill', inplace=True)"
   ]
  },
  {
   "cell_type": "markdown",
   "metadata": {},
   "source": [
    "##### 2.1.2.5 Fill missing values with forward fill"
   ]
  },
  {
   "cell_type": "code",
   "execution_count": 58,
   "metadata": {},
   "outputs": [],
   "source": [
    "df_ffill = df.copy(deep = True)\n",
    "df_ffill.loc[df_ffill['stalk-root'] == '?', 'stalk-root'] = np.nan\n",
    "df_ffill.fillna(method='ffill', inplace=True)"
   ]
  },
  {
   "cell_type": "markdown",
   "metadata": {},
   "source": [
    "#### 2.2 Handling columns with categorical data"
   ]
  },
  {
   "cell_type": "markdown",
   "metadata": {},
   "source": [
    "When there are columns with categorical data, we can do two perform the below steps.\n",
    "\n",
    "1) One-hot encode the columns such that they are converted to numerical values.\n",
    "\n",
    "2) Expand the column into N different columns containing binary values.\n",
    "\n"
   ]
  },
  {
   "cell_type": "code",
   "execution_count": null,
   "metadata": {},
   "outputs": [],
   "source": [
    "def label_encode(df, list_columns):\n",
    "    \"\"\"\n",
    "    This method one-hot encodes all column, specified in list_columns\n",
    "    \n",
    "    \"\"\"\n",
    "    for col in list_columns:\n",
    "        le = LabelEncoder()\n",
    "        col_values_unique = list(df[col].unique())\n",
    "        le_fitted = le.fit(col_values_unique)\n",
    "\n",
    "        col_values = list(df[col].values)\n",
    "        le.classes_\n",
    "        col_values_transformed = le.transform(col_values)\n",
    "        df[col] = col_values_transformed      \n",
    "\n",
    "def expand_columns(df, list_columns):\n",
    "    for col in list_columns:\n",
    "        colvalues = df[col].unique()\n",
    "        for colvalue in colvalues:\n",
    "            newcol_name = \"{}_is_{}\".format(col, colvalue)\n",
    "            df.loc[df[col] == colvalue, newcol_name] = 1\n",
    "            df.loc[df[col] != colvalue, newcol_name] = 0\n",
    "    df.drop(list_columns, inplace=True, axis=1)"
   ]
  },
  {
   "cell_type": "markdown",
   "metadata": {},
   "source": [
    "##### 2.2.1 One-Hot encoding the columns with categorical data"
   ]
  },
  {
   "cell_type": "code",
   "execution_count": 60,
   "metadata": {},
   "outputs": [],
   "source": [
    "#This method one-hot encodes all column, specified in list_columns\n",
    "def label_encode(df, list_columns):\n",
    "    \n",
    "    for col in list_columns:\n",
    "        le = LabelEncoder()\n",
    "        col_values_unique = list(df[col].unique())\n",
    "        le_fitted = le.fit(col_values_unique)\n",
    "\n",
    "        col_values = list(df[col].values)\n",
    "        le.classes_\n",
    "        col_values_transformed = le.transform(col_values)\n",
    "        df[col] = col_values_transformed  "
   ]
  },
  {
   "cell_type": "code",
   "execution_count": 63,
   "metadata": {},
   "outputs": [
    {
     "data": {
      "text/html": [
       "<div>\n",
       "<style scoped>\n",
       "    .dataframe tbody tr th:only-of-type {\n",
       "        vertical-align: middle;\n",
       "    }\n",
       "\n",
       "    .dataframe tbody tr th {\n",
       "        vertical-align: top;\n",
       "    }\n",
       "\n",
       "    .dataframe thead th {\n",
       "        text-align: right;\n",
       "    }\n",
       "</style>\n",
       "<table border=\"1\" class=\"dataframe\">\n",
       "  <thead>\n",
       "    <tr style=\"text-align: right;\">\n",
       "      <th></th>\n",
       "      <th>class</th>\n",
       "      <th>cap-shape</th>\n",
       "      <th>cap-surface</th>\n",
       "      <th>cap-color</th>\n",
       "      <th>bruises</th>\n",
       "      <th>odor</th>\n",
       "      <th>gill-attachment</th>\n",
       "      <th>gill-spacing</th>\n",
       "      <th>gill-size</th>\n",
       "      <th>gill-color</th>\n",
       "      <th>...</th>\n",
       "      <th>stalk-surf-below-ring</th>\n",
       "      <th>stalk-color-above-ring</th>\n",
       "      <th>stalk-color-below-ring</th>\n",
       "      <th>veil-type</th>\n",
       "      <th>veil-color</th>\n",
       "      <th>ring-number</th>\n",
       "      <th>ring-type</th>\n",
       "      <th>spore-color</th>\n",
       "      <th>population</th>\n",
       "      <th>habitat</th>\n",
       "    </tr>\n",
       "  </thead>\n",
       "  <tbody>\n",
       "    <tr>\n",
       "      <th>0</th>\n",
       "      <td>0</td>\n",
       "      <td>5</td>\n",
       "      <td>2</td>\n",
       "      <td>9</td>\n",
       "      <td>1</td>\n",
       "      <td>0</td>\n",
       "      <td>1</td>\n",
       "      <td>0</td>\n",
       "      <td>0</td>\n",
       "      <td>4</td>\n",
       "      <td>...</td>\n",
       "      <td>2</td>\n",
       "      <td>7</td>\n",
       "      <td>7</td>\n",
       "      <td>0</td>\n",
       "      <td>2</td>\n",
       "      <td>1</td>\n",
       "      <td>4</td>\n",
       "      <td>3</td>\n",
       "      <td>2</td>\n",
       "      <td>1</td>\n",
       "    </tr>\n",
       "    <tr>\n",
       "      <th>1</th>\n",
       "      <td>0</td>\n",
       "      <td>0</td>\n",
       "      <td>2</td>\n",
       "      <td>8</td>\n",
       "      <td>1</td>\n",
       "      <td>3</td>\n",
       "      <td>1</td>\n",
       "      <td>0</td>\n",
       "      <td>0</td>\n",
       "      <td>5</td>\n",
       "      <td>...</td>\n",
       "      <td>2</td>\n",
       "      <td>7</td>\n",
       "      <td>7</td>\n",
       "      <td>0</td>\n",
       "      <td>2</td>\n",
       "      <td>1</td>\n",
       "      <td>4</td>\n",
       "      <td>3</td>\n",
       "      <td>2</td>\n",
       "      <td>3</td>\n",
       "    </tr>\n",
       "    <tr>\n",
       "      <th>2</th>\n",
       "      <td>1</td>\n",
       "      <td>5</td>\n",
       "      <td>3</td>\n",
       "      <td>8</td>\n",
       "      <td>1</td>\n",
       "      <td>6</td>\n",
       "      <td>1</td>\n",
       "      <td>0</td>\n",
       "      <td>1</td>\n",
       "      <td>5</td>\n",
       "      <td>...</td>\n",
       "      <td>2</td>\n",
       "      <td>7</td>\n",
       "      <td>7</td>\n",
       "      <td>0</td>\n",
       "      <td>2</td>\n",
       "      <td>1</td>\n",
       "      <td>4</td>\n",
       "      <td>2</td>\n",
       "      <td>3</td>\n",
       "      <td>5</td>\n",
       "    </tr>\n",
       "    <tr>\n",
       "      <th>3</th>\n",
       "      <td>0</td>\n",
       "      <td>5</td>\n",
       "      <td>2</td>\n",
       "      <td>3</td>\n",
       "      <td>0</td>\n",
       "      <td>5</td>\n",
       "      <td>1</td>\n",
       "      <td>1</td>\n",
       "      <td>0</td>\n",
       "      <td>4</td>\n",
       "      <td>...</td>\n",
       "      <td>2</td>\n",
       "      <td>7</td>\n",
       "      <td>7</td>\n",
       "      <td>0</td>\n",
       "      <td>2</td>\n",
       "      <td>1</td>\n",
       "      <td>0</td>\n",
       "      <td>3</td>\n",
       "      <td>0</td>\n",
       "      <td>1</td>\n",
       "    </tr>\n",
       "    <tr>\n",
       "      <th>4</th>\n",
       "      <td>0</td>\n",
       "      <td>5</td>\n",
       "      <td>3</td>\n",
       "      <td>9</td>\n",
       "      <td>1</td>\n",
       "      <td>0</td>\n",
       "      <td>1</td>\n",
       "      <td>0</td>\n",
       "      <td>0</td>\n",
       "      <td>5</td>\n",
       "      <td>...</td>\n",
       "      <td>2</td>\n",
       "      <td>7</td>\n",
       "      <td>7</td>\n",
       "      <td>0</td>\n",
       "      <td>2</td>\n",
       "      <td>1</td>\n",
       "      <td>4</td>\n",
       "      <td>2</td>\n",
       "      <td>2</td>\n",
       "      <td>1</td>\n",
       "    </tr>\n",
       "  </tbody>\n",
       "</table>\n",
       "<p>5 rows × 23 columns</p>\n",
       "</div>"
      ],
      "text/plain": [
       "   class  cap-shape  cap-surface  cap-color  bruises  odor  gill-attachment  \\\n",
       "0      0          5            2          9        1     0                1   \n",
       "1      0          0            2          8        1     3                1   \n",
       "2      1          5            3          8        1     6                1   \n",
       "3      0          5            2          3        0     5                1   \n",
       "4      0          5            3          9        1     0                1   \n",
       "\n",
       "   gill-spacing  gill-size  gill-color   ...     stalk-surf-below-ring  \\\n",
       "0             0          0           4   ...                         2   \n",
       "1             0          0           5   ...                         2   \n",
       "2             0          1           5   ...                         2   \n",
       "3             1          0           4   ...                         2   \n",
       "4             0          0           5   ...                         2   \n",
       "\n",
       "   stalk-color-above-ring  stalk-color-below-ring  veil-type  veil-color  \\\n",
       "0                       7                       7          0           2   \n",
       "1                       7                       7          0           2   \n",
       "2                       7                       7          0           2   \n",
       "3                       7                       7          0           2   \n",
       "4                       7                       7          0           2   \n",
       "\n",
       "   ring-number  ring-type  spore-color  population  habitat  \n",
       "0            1          4            3           2        1  \n",
       "1            1          4            3           2        3  \n",
       "2            1          4            2           3        5  \n",
       "3            1          0            3           0        1  \n",
       "4            1          4            2           2        1  \n",
       "\n",
       "[5 rows x 23 columns]"
      ]
     },
     "metadata": {},
     "output_type": "display_data"
    }
   ],
   "source": [
    "df_ohe = df.copy(deep=True)\n",
    "to_be_encoded_cols = df_ohe.columns.values\n",
    "label_encode(df_ohe, to_be_encoded_cols)\n",
    "df_dropped_rows_ohe = df_dropped_rows.copy(deep = True)\n",
    "df_zerofill_ohe = df_zerofill.copy(deep = True)\n",
    "df_bfill_ohe = df_bfill.copy(deep = True)\n",
    "df_ffill_ohe = df_ffill.copy(deep = True)\n",
    "\n",
    "label_encode(df_dropped_rows_ohe, to_be_encoded_cols)\n",
    "label_encode(df_zerofill_ohe, to_be_encoded_cols)\n",
    "label_encode(df_bfill_ohe, to_be_encoded_cols)\n",
    "label_encode(df_ffill_ohe, to_be_encoded_cols)\n",
    "display(df_ohe.head())"
   ]
  },
  {
   "cell_type": "markdown",
   "metadata": {},
   "source": [
    "##### 2.2.2 Expanding the columns with categorical data"
   ]
  },
  {
   "cell_type": "code",
   "execution_count": 65,
   "metadata": {},
   "outputs": [],
   "source": [
    "def expand_columns(df, list_columns):\n",
    "    for col in list_columns:\n",
    "        colvalues = df[col].unique()\n",
    "        for colvalue in colvalues:\n",
    "            newcol_name = \"{}_is_{}\".format(col, colvalue)\n",
    "            df.loc[df[col] == colvalue, newcol_name] = 1\n",
    "            df.loc[df[col] != colvalue, newcol_name] = 0\n",
    "    df.drop(list_columns, inplace=True, axis=1)"
   ]
  },
  {
   "cell_type": "code",
   "execution_count": 67,
   "metadata": {},
   "outputs": [
    {
     "data": {
      "text/html": [
       "<div>\n",
       "<style scoped>\n",
       "    .dataframe tbody tr th:only-of-type {\n",
       "        vertical-align: middle;\n",
       "    }\n",
       "\n",
       "    .dataframe tbody tr th {\n",
       "        vertical-align: top;\n",
       "    }\n",
       "\n",
       "    .dataframe thead th {\n",
       "        text-align: right;\n",
       "    }\n",
       "</style>\n",
       "<table border=\"1\" class=\"dataframe\">\n",
       "  <thead>\n",
       "    <tr style=\"text-align: right;\">\n",
       "      <th></th>\n",
       "      <th>class</th>\n",
       "      <th>cap-shape_is_x</th>\n",
       "      <th>cap-shape_is_b</th>\n",
       "      <th>cap-shape_is_s</th>\n",
       "      <th>cap-shape_is_f</th>\n",
       "      <th>cap-shape_is_k</th>\n",
       "      <th>cap-shape_is_c</th>\n",
       "      <th>cap-surface_is_s</th>\n",
       "      <th>cap-surface_is_y</th>\n",
       "      <th>cap-surface_is_f</th>\n",
       "      <th>...</th>\n",
       "      <th>population_is_v</th>\n",
       "      <th>population_is_y</th>\n",
       "      <th>population_is_c</th>\n",
       "      <th>habitat_is_g</th>\n",
       "      <th>habitat_is_m</th>\n",
       "      <th>habitat_is_u</th>\n",
       "      <th>habitat_is_d</th>\n",
       "      <th>habitat_is_p</th>\n",
       "      <th>habitat_is_w</th>\n",
       "      <th>habitat_is_l</th>\n",
       "    </tr>\n",
       "  </thead>\n",
       "  <tbody>\n",
       "    <tr>\n",
       "      <th>0</th>\n",
       "      <td>0</td>\n",
       "      <td>1.0</td>\n",
       "      <td>0.0</td>\n",
       "      <td>0.0</td>\n",
       "      <td>0.0</td>\n",
       "      <td>0.0</td>\n",
       "      <td>0.0</td>\n",
       "      <td>1.0</td>\n",
       "      <td>0.0</td>\n",
       "      <td>0.0</td>\n",
       "      <td>...</td>\n",
       "      <td>0.0</td>\n",
       "      <td>0.0</td>\n",
       "      <td>0.0</td>\n",
       "      <td>1.0</td>\n",
       "      <td>0.0</td>\n",
       "      <td>0.0</td>\n",
       "      <td>0.0</td>\n",
       "      <td>0.0</td>\n",
       "      <td>0.0</td>\n",
       "      <td>0.0</td>\n",
       "    </tr>\n",
       "    <tr>\n",
       "      <th>1</th>\n",
       "      <td>0</td>\n",
       "      <td>0.0</td>\n",
       "      <td>1.0</td>\n",
       "      <td>0.0</td>\n",
       "      <td>0.0</td>\n",
       "      <td>0.0</td>\n",
       "      <td>0.0</td>\n",
       "      <td>1.0</td>\n",
       "      <td>0.0</td>\n",
       "      <td>0.0</td>\n",
       "      <td>...</td>\n",
       "      <td>0.0</td>\n",
       "      <td>0.0</td>\n",
       "      <td>0.0</td>\n",
       "      <td>0.0</td>\n",
       "      <td>1.0</td>\n",
       "      <td>0.0</td>\n",
       "      <td>0.0</td>\n",
       "      <td>0.0</td>\n",
       "      <td>0.0</td>\n",
       "      <td>0.0</td>\n",
       "    </tr>\n",
       "    <tr>\n",
       "      <th>2</th>\n",
       "      <td>1</td>\n",
       "      <td>1.0</td>\n",
       "      <td>0.0</td>\n",
       "      <td>0.0</td>\n",
       "      <td>0.0</td>\n",
       "      <td>0.0</td>\n",
       "      <td>0.0</td>\n",
       "      <td>0.0</td>\n",
       "      <td>1.0</td>\n",
       "      <td>0.0</td>\n",
       "      <td>...</td>\n",
       "      <td>0.0</td>\n",
       "      <td>0.0</td>\n",
       "      <td>0.0</td>\n",
       "      <td>0.0</td>\n",
       "      <td>0.0</td>\n",
       "      <td>1.0</td>\n",
       "      <td>0.0</td>\n",
       "      <td>0.0</td>\n",
       "      <td>0.0</td>\n",
       "      <td>0.0</td>\n",
       "    </tr>\n",
       "    <tr>\n",
       "      <th>3</th>\n",
       "      <td>0</td>\n",
       "      <td>1.0</td>\n",
       "      <td>0.0</td>\n",
       "      <td>0.0</td>\n",
       "      <td>0.0</td>\n",
       "      <td>0.0</td>\n",
       "      <td>0.0</td>\n",
       "      <td>1.0</td>\n",
       "      <td>0.0</td>\n",
       "      <td>0.0</td>\n",
       "      <td>...</td>\n",
       "      <td>0.0</td>\n",
       "      <td>0.0</td>\n",
       "      <td>0.0</td>\n",
       "      <td>1.0</td>\n",
       "      <td>0.0</td>\n",
       "      <td>0.0</td>\n",
       "      <td>0.0</td>\n",
       "      <td>0.0</td>\n",
       "      <td>0.0</td>\n",
       "      <td>0.0</td>\n",
       "    </tr>\n",
       "    <tr>\n",
       "      <th>4</th>\n",
       "      <td>0</td>\n",
       "      <td>1.0</td>\n",
       "      <td>0.0</td>\n",
       "      <td>0.0</td>\n",
       "      <td>0.0</td>\n",
       "      <td>0.0</td>\n",
       "      <td>0.0</td>\n",
       "      <td>0.0</td>\n",
       "      <td>1.0</td>\n",
       "      <td>0.0</td>\n",
       "      <td>...</td>\n",
       "      <td>0.0</td>\n",
       "      <td>0.0</td>\n",
       "      <td>0.0</td>\n",
       "      <td>1.0</td>\n",
       "      <td>0.0</td>\n",
       "      <td>0.0</td>\n",
       "      <td>0.0</td>\n",
       "      <td>0.0</td>\n",
       "      <td>0.0</td>\n",
       "      <td>0.0</td>\n",
       "    </tr>\n",
       "  </tbody>\n",
       "</table>\n",
       "<p>5 rows × 118 columns</p>\n",
       "</div>"
      ],
      "text/plain": [
       "   class  cap-shape_is_x  cap-shape_is_b  cap-shape_is_s  cap-shape_is_f  \\\n",
       "0      0             1.0             0.0             0.0             0.0   \n",
       "1      0             0.0             1.0             0.0             0.0   \n",
       "2      1             1.0             0.0             0.0             0.0   \n",
       "3      0             1.0             0.0             0.0             0.0   \n",
       "4      0             1.0             0.0             0.0             0.0   \n",
       "\n",
       "   cap-shape_is_k  cap-shape_is_c  cap-surface_is_s  cap-surface_is_y  \\\n",
       "0             0.0             0.0               1.0               0.0   \n",
       "1             0.0             0.0               1.0               0.0   \n",
       "2             0.0             0.0               0.0               1.0   \n",
       "3             0.0             0.0               1.0               0.0   \n",
       "4             0.0             0.0               0.0               1.0   \n",
       "\n",
       "   cap-surface_is_f      ...       population_is_v  population_is_y  \\\n",
       "0               0.0      ...                   0.0              0.0   \n",
       "1               0.0      ...                   0.0              0.0   \n",
       "2               0.0      ...                   0.0              0.0   \n",
       "3               0.0      ...                   0.0              0.0   \n",
       "4               0.0      ...                   0.0              0.0   \n",
       "\n",
       "   population_is_c  habitat_is_g  habitat_is_m  habitat_is_u  habitat_is_d  \\\n",
       "0              0.0           1.0           0.0           0.0           0.0   \n",
       "1              0.0           0.0           1.0           0.0           0.0   \n",
       "2              0.0           0.0           0.0           1.0           0.0   \n",
       "3              0.0           1.0           0.0           0.0           0.0   \n",
       "4              0.0           1.0           0.0           0.0           0.0   \n",
       "\n",
       "   habitat_is_p  habitat_is_w  habitat_is_l  \n",
       "0           0.0           0.0           0.0  \n",
       "1           0.0           0.0           0.0  \n",
       "2           0.0           0.0           0.0  \n",
       "3           0.0           0.0           0.0  \n",
       "4           0.0           0.0           0.0  \n",
       "\n",
       "[5 rows x 118 columns]"
      ]
     },
     "metadata": {},
     "output_type": "display_data"
    }
   ],
   "source": [
    "y_col = 'class'\n",
    "to_be_expanded_cols = list(df.columns.values)\n",
    "to_be_expanded_cols.remove(y_col)\n",
    "\n",
    "df_expanded = df.copy(deep=True)\n",
    "label_encode(df_expanded, [y_col])\n",
    "expand_columns(df_expanded, to_be_expanded_cols)\n",
    "df_dropped_rows_expanded = df_dropped_rows.copy(deep = True)\n",
    "df_zerofill_expanded = df_zerofill.copy(deep = True)\n",
    "df_bfill_expanded = df_bfill.copy(deep = True)\n",
    "df_ffill_expanded = df_ffill.copy(deep = True)\n",
    "\n",
    "label_encode(df_dropped_rows_expanded, [y_col])\n",
    "label_encode(df_zerofill_expanded, [y_col])\n",
    "label_encode(df_bfill_expanded, [y_col])\n",
    "label_encode(df_ffill_expanded, [y_col])\n",
    "\n",
    "expand_columns(df_dropped_rows_expanded, to_be_expanded_cols)\n",
    "expand_columns(df_zerofill_expanded, to_be_expanded_cols)\n",
    "expand_columns(df_bfill_expanded, to_be_expanded_cols)\n",
    "expand_columns(df_ffill_expanded, to_be_expanded_cols)\n",
    "display(df_expanded.head())"
   ]
  },
  {
   "cell_type": "markdown",
   "metadata": {},
   "source": [
    "#### 2.3 Classifying the dataset\n",
    "\n",
    "It was identified that there are two different ways to handle columns with categorical data, and many different ways to handle missing values. All of these ways on all of the classifiers present in the scikit-learn are explained and applied here.\n"
   ]
  },
  {
   "cell_type": "code",
   "execution_count": 73,
   "metadata": {},
   "outputs": [],
   "source": [
    "dict_dataframes = {\n",
    "    \"df_ohe\": df_ohe,\n",
    "    \"df_dropped_rows_ohe\": df_dropped_rows_ohe,\n",
    "    \"df_zerofill_ohe\": df_zerofill_ohe,\n",
    "    \"df_bfill_ohe\": df_bfill_ohe,\n",
    "    \"df_ffill_ohe\": df_ffill_ohe,\n",
    "    \"df_expanded\": df_expanded,\n",
    "    \"df_dropped_rows_expanded\": df_dropped_rows_expanded,\n",
    "    \"df_zerofill_expanded\": df_zerofill_expanded,\n",
    "    \"df_bfill_expanded\": df_bfill_expanded,\n",
    "    \"df_ffill_expanded\": df_ffill_expanded\n",
    "}\n",
    "\n",
    "def display_dict_models(dict_models, sort_by='test_score'):\n",
    "    cls = [key for key in dict_models.keys()]\n",
    "    test_s = [dict_models[key]['test_score'] for key in cls]\n",
    "    training_s = [dict_models[key]['train_score'] for key in cls]\n",
    "    training_t = [dict_models[key]['train_time'] for key in cls]\n",
    "    \n",
    "    df_ = pd.DataFrame(data=np.zeros(shape=(len(cls),4)), columns = ['classifier', 'train_score', 'test_score', 'train_time'])\n",
    "    for ii in range(0,len(cls)):\n",
    "        df_.loc[ii, 'classifier'] = cls[ii]\n",
    "        df_.loc[ii, 'train_score'] = training_s[ii]\n",
    "        df_.loc[ii, 'test_score'] = test_s[ii]\n",
    "        df_.loc[ii, 'train_time'] = training_t[ii]\n",
    "    \n",
    "    display(df_.sort_values(by=sort_by, ascending=False))\n"
   ]
  },
  {
   "cell_type": "markdown",
   "metadata": {},
   "source": [
    "#### 2.3.1 Training and Testing the model and Result\n",
    "\n",
    "The dataset is splitted into a 70% training set and a 30% test set and start training and validating a batch of the 2 classifiers.\n",
    "\n",
    "\n"
   ]
  },
  {
   "cell_type": "markdown",
   "metadata": {},
   "source": [
    "#### Training and Test result"
   ]
  },
  {
   "cell_type": "code",
   "execution_count": 92,
   "metadata": {
    "scrolled": false
   },
   "outputs": [
    {
     "name": "stdout",
     "output_type": "stream",
     "text": [
      "\n",
      "df_ohe\n"
     ]
    },
    {
     "data": {
      "text/html": [
       "<div>\n",
       "<style scoped>\n",
       "    .dataframe tbody tr th:only-of-type {\n",
       "        vertical-align: middle;\n",
       "    }\n",
       "\n",
       "    .dataframe tbody tr th {\n",
       "        vertical-align: top;\n",
       "    }\n",
       "\n",
       "    .dataframe thead th {\n",
       "        text-align: right;\n",
       "    }\n",
       "</style>\n",
       "<table border=\"1\" class=\"dataframe\">\n",
       "  <thead>\n",
       "    <tr style=\"text-align: right;\">\n",
       "      <th></th>\n",
       "      <th>classifier</th>\n",
       "      <th>train_score</th>\n",
       "      <th>test_score</th>\n",
       "      <th>train_time</th>\n",
       "    </tr>\n",
       "  </thead>\n",
       "  <tbody>\n",
       "    <tr>\n",
       "      <th>0</th>\n",
       "      <td>Linear Support Vector Machine SVM</td>\n",
       "      <td>1.00000</td>\n",
       "      <td>1.000000</td>\n",
       "      <td>0.314182</td>\n",
       "    </tr>\n",
       "    <tr>\n",
       "      <th>1</th>\n",
       "      <td>Logistic Regression</td>\n",
       "      <td>0.94979</td>\n",
       "      <td>0.953054</td>\n",
       "      <td>0.053294</td>\n",
       "    </tr>\n",
       "  </tbody>\n",
       "</table>\n",
       "</div>"
      ],
      "text/plain": [
       "                          classifier  train_score  test_score  train_time\n",
       "0  Linear Support Vector Machine SVM      1.00000    1.000000    0.314182\n",
       "1                Logistic Regression      0.94979    0.953054    0.053294"
      ]
     },
     "metadata": {},
     "output_type": "display_data"
    },
    {
     "name": "stdout",
     "output_type": "stream",
     "text": [
      "-------------------------------------------------------\n",
      "\n",
      "df_dropped_rows_ohe\n"
     ]
    },
    {
     "data": {
      "text/html": [
       "<div>\n",
       "<style scoped>\n",
       "    .dataframe tbody tr th:only-of-type {\n",
       "        vertical-align: middle;\n",
       "    }\n",
       "\n",
       "    .dataframe tbody tr th {\n",
       "        vertical-align: top;\n",
       "    }\n",
       "\n",
       "    .dataframe thead th {\n",
       "        text-align: right;\n",
       "    }\n",
       "</style>\n",
       "<table border=\"1\" class=\"dataframe\">\n",
       "  <thead>\n",
       "    <tr style=\"text-align: right;\">\n",
       "      <th></th>\n",
       "      <th>classifier</th>\n",
       "      <th>train_score</th>\n",
       "      <th>test_score</th>\n",
       "      <th>train_time</th>\n",
       "    </tr>\n",
       "  </thead>\n",
       "  <tbody>\n",
       "    <tr>\n",
       "      <th>0</th>\n",
       "      <td>Linear Support Vector Machine SVM</td>\n",
       "      <td>1.000000</td>\n",
       "      <td>1.000000</td>\n",
       "      <td>0.159935</td>\n",
       "    </tr>\n",
       "    <tr>\n",
       "      <th>1</th>\n",
       "      <td>Logistic Regression</td>\n",
       "      <td>0.958721</td>\n",
       "      <td>0.958683</td>\n",
       "      <td>0.036535</td>\n",
       "    </tr>\n",
       "  </tbody>\n",
       "</table>\n",
       "</div>"
      ],
      "text/plain": [
       "                          classifier  train_score  test_score  train_time\n",
       "0  Linear Support Vector Machine SVM     1.000000    1.000000    0.159935\n",
       "1                Logistic Regression     0.958721    0.958683    0.036535"
      ]
     },
     "metadata": {},
     "output_type": "display_data"
    },
    {
     "name": "stdout",
     "output_type": "stream",
     "text": [
      "-------------------------------------------------------\n",
      "\n",
      "df_zerofill_ohe\n"
     ]
    },
    {
     "data": {
      "text/html": [
       "<div>\n",
       "<style scoped>\n",
       "    .dataframe tbody tr th:only-of-type {\n",
       "        vertical-align: middle;\n",
       "    }\n",
       "\n",
       "    .dataframe tbody tr th {\n",
       "        vertical-align: top;\n",
       "    }\n",
       "\n",
       "    .dataframe thead th {\n",
       "        text-align: right;\n",
       "    }\n",
       "</style>\n",
       "<table border=\"1\" class=\"dataframe\">\n",
       "  <thead>\n",
       "    <tr style=\"text-align: right;\">\n",
       "      <th></th>\n",
       "      <th>classifier</th>\n",
       "      <th>train_score</th>\n",
       "      <th>test_score</th>\n",
       "      <th>train_time</th>\n",
       "    </tr>\n",
       "  </thead>\n",
       "  <tbody>\n",
       "    <tr>\n",
       "      <th>0</th>\n",
       "      <td>Linear Support Vector Machine SVM</td>\n",
       "      <td>1.0000</td>\n",
       "      <td>1.000000</td>\n",
       "      <td>0.341914</td>\n",
       "    </tr>\n",
       "    <tr>\n",
       "      <th>1</th>\n",
       "      <td>Logistic Regression</td>\n",
       "      <td>0.9467</td>\n",
       "      <td>0.955637</td>\n",
       "      <td>0.058288</td>\n",
       "    </tr>\n",
       "  </tbody>\n",
       "</table>\n",
       "</div>"
      ],
      "text/plain": [
       "                          classifier  train_score  test_score  train_time\n",
       "0  Linear Support Vector Machine SVM       1.0000    1.000000    0.341914\n",
       "1                Logistic Regression       0.9467    0.955637    0.058288"
      ]
     },
     "metadata": {},
     "output_type": "display_data"
    },
    {
     "name": "stdout",
     "output_type": "stream",
     "text": [
      "-------------------------------------------------------\n",
      "\n",
      "df_bfill_ohe\n"
     ]
    },
    {
     "data": {
      "text/html": [
       "<div>\n",
       "<style scoped>\n",
       "    .dataframe tbody tr th:only-of-type {\n",
       "        vertical-align: middle;\n",
       "    }\n",
       "\n",
       "    .dataframe tbody tr th {\n",
       "        vertical-align: top;\n",
       "    }\n",
       "\n",
       "    .dataframe thead th {\n",
       "        text-align: right;\n",
       "    }\n",
       "</style>\n",
       "<table border=\"1\" class=\"dataframe\">\n",
       "  <thead>\n",
       "    <tr style=\"text-align: right;\">\n",
       "      <th></th>\n",
       "      <th>classifier</th>\n",
       "      <th>train_score</th>\n",
       "      <th>test_score</th>\n",
       "      <th>train_time</th>\n",
       "    </tr>\n",
       "  </thead>\n",
       "  <tbody>\n",
       "    <tr>\n",
       "      <th>0</th>\n",
       "      <td>Linear Support Vector Machine SVM</td>\n",
       "      <td>1.000000</td>\n",
       "      <td>1.000000</td>\n",
       "      <td>0.383361</td>\n",
       "    </tr>\n",
       "    <tr>\n",
       "      <th>1</th>\n",
       "      <td>Logistic Regression</td>\n",
       "      <td>0.949177</td>\n",
       "      <td>0.951939</td>\n",
       "      <td>0.147829</td>\n",
       "    </tr>\n",
       "  </tbody>\n",
       "</table>\n",
       "</div>"
      ],
      "text/plain": [
       "                          classifier  train_score  test_score  train_time\n",
       "0  Linear Support Vector Machine SVM     1.000000    1.000000    0.383361\n",
       "1                Logistic Regression     0.949177    0.951939    0.147829"
      ]
     },
     "metadata": {},
     "output_type": "display_data"
    },
    {
     "name": "stdout",
     "output_type": "stream",
     "text": [
      "-------------------------------------------------------\n",
      "\n",
      "df_ffill_ohe\n"
     ]
    },
    {
     "data": {
      "text/html": [
       "<div>\n",
       "<style scoped>\n",
       "    .dataframe tbody tr th:only-of-type {\n",
       "        vertical-align: middle;\n",
       "    }\n",
       "\n",
       "    .dataframe tbody tr th {\n",
       "        vertical-align: top;\n",
       "    }\n",
       "\n",
       "    .dataframe thead th {\n",
       "        text-align: right;\n",
       "    }\n",
       "</style>\n",
       "<table border=\"1\" class=\"dataframe\">\n",
       "  <thead>\n",
       "    <tr style=\"text-align: right;\">\n",
       "      <th></th>\n",
       "      <th>classifier</th>\n",
       "      <th>train_score</th>\n",
       "      <th>test_score</th>\n",
       "      <th>train_time</th>\n",
       "    </tr>\n",
       "  </thead>\n",
       "  <tbody>\n",
       "    <tr>\n",
       "      <th>0</th>\n",
       "      <td>Linear Support Vector Machine SVM</td>\n",
       "      <td>1.000000</td>\n",
       "      <td>1.000000</td>\n",
       "      <td>0.318955</td>\n",
       "    </tr>\n",
       "    <tr>\n",
       "      <th>1</th>\n",
       "      <td>Logistic Regression</td>\n",
       "      <td>0.950341</td>\n",
       "      <td>0.950491</td>\n",
       "      <td>0.051803</td>\n",
       "    </tr>\n",
       "  </tbody>\n",
       "</table>\n",
       "</div>"
      ],
      "text/plain": [
       "                          classifier  train_score  test_score  train_time\n",
       "0  Linear Support Vector Machine SVM     1.000000    1.000000    0.318955\n",
       "1                Logistic Regression     0.950341    0.950491    0.051803"
      ]
     },
     "metadata": {},
     "output_type": "display_data"
    },
    {
     "name": "stdout",
     "output_type": "stream",
     "text": [
      "-------------------------------------------------------\n",
      "\n",
      "df_expanded\n"
     ]
    },
    {
     "data": {
      "text/html": [
       "<div>\n",
       "<style scoped>\n",
       "    .dataframe tbody tr th:only-of-type {\n",
       "        vertical-align: middle;\n",
       "    }\n",
       "\n",
       "    .dataframe tbody tr th {\n",
       "        vertical-align: top;\n",
       "    }\n",
       "\n",
       "    .dataframe thead th {\n",
       "        text-align: right;\n",
       "    }\n",
       "</style>\n",
       "<table border=\"1\" class=\"dataframe\">\n",
       "  <thead>\n",
       "    <tr style=\"text-align: right;\">\n",
       "      <th></th>\n",
       "      <th>classifier</th>\n",
       "      <th>train_score</th>\n",
       "      <th>test_score</th>\n",
       "      <th>train_time</th>\n",
       "    </tr>\n",
       "  </thead>\n",
       "  <tbody>\n",
       "    <tr>\n",
       "      <th>1</th>\n",
       "      <td>Logistic Regression</td>\n",
       "      <td>1.000000</td>\n",
       "      <td>1.00000</td>\n",
       "      <td>0.044406</td>\n",
       "    </tr>\n",
       "    <tr>\n",
       "      <th>0</th>\n",
       "      <td>Linear Support Vector Machine SVM</td>\n",
       "      <td>0.997175</td>\n",
       "      <td>0.99756</td>\n",
       "      <td>0.765230</td>\n",
       "    </tr>\n",
       "  </tbody>\n",
       "</table>\n",
       "</div>"
      ],
      "text/plain": [
       "                          classifier  train_score  test_score  train_time\n",
       "1                Logistic Regression     1.000000     1.00000    0.044406\n",
       "0  Linear Support Vector Machine SVM     0.997175     0.99756    0.765230"
      ]
     },
     "metadata": {},
     "output_type": "display_data"
    },
    {
     "name": "stdout",
     "output_type": "stream",
     "text": [
      "-------------------------------------------------------\n",
      "\n",
      "df_dropped_rows_expanded\n"
     ]
    },
    {
     "data": {
      "text/html": [
       "<div>\n",
       "<style scoped>\n",
       "    .dataframe tbody tr th:only-of-type {\n",
       "        vertical-align: middle;\n",
       "    }\n",
       "\n",
       "    .dataframe tbody tr th {\n",
       "        vertical-align: top;\n",
       "    }\n",
       "\n",
       "    .dataframe thead th {\n",
       "        text-align: right;\n",
       "    }\n",
       "</style>\n",
       "<table border=\"1\" class=\"dataframe\">\n",
       "  <thead>\n",
       "    <tr style=\"text-align: right;\">\n",
       "      <th></th>\n",
       "      <th>classifier</th>\n",
       "      <th>train_score</th>\n",
       "      <th>test_score</th>\n",
       "      <th>train_time</th>\n",
       "    </tr>\n",
       "  </thead>\n",
       "  <tbody>\n",
       "    <tr>\n",
       "      <th>1</th>\n",
       "      <td>Logistic Regression</td>\n",
       "      <td>1.000000</td>\n",
       "      <td>1.000000</td>\n",
       "      <td>0.028504</td>\n",
       "    </tr>\n",
       "    <tr>\n",
       "      <th>0</th>\n",
       "      <td>Linear Support Vector Machine SVM</td>\n",
       "      <td>0.998472</td>\n",
       "      <td>0.998834</td>\n",
       "      <td>0.319549</td>\n",
       "    </tr>\n",
       "  </tbody>\n",
       "</table>\n",
       "</div>"
      ],
      "text/plain": [
       "                          classifier  train_score  test_score  train_time\n",
       "1                Logistic Regression     1.000000    1.000000    0.028504\n",
       "0  Linear Support Vector Machine SVM     0.998472    0.998834    0.319549"
      ]
     },
     "metadata": {},
     "output_type": "display_data"
    },
    {
     "name": "stdout",
     "output_type": "stream",
     "text": [
      "-------------------------------------------------------\n",
      "\n",
      "df_zerofill_expanded\n"
     ]
    },
    {
     "data": {
      "text/html": [
       "<div>\n",
       "<style scoped>\n",
       "    .dataframe tbody tr th:only-of-type {\n",
       "        vertical-align: middle;\n",
       "    }\n",
       "\n",
       "    .dataframe tbody tr th {\n",
       "        vertical-align: top;\n",
       "    }\n",
       "\n",
       "    .dataframe thead th {\n",
       "        text-align: right;\n",
       "    }\n",
       "</style>\n",
       "<table border=\"1\" class=\"dataframe\">\n",
       "  <thead>\n",
       "    <tr style=\"text-align: right;\">\n",
       "      <th></th>\n",
       "      <th>classifier</th>\n",
       "      <th>train_score</th>\n",
       "      <th>test_score</th>\n",
       "      <th>train_time</th>\n",
       "    </tr>\n",
       "  </thead>\n",
       "  <tbody>\n",
       "    <tr>\n",
       "      <th>1</th>\n",
       "      <td>Logistic Regression</td>\n",
       "      <td>1.000000</td>\n",
       "      <td>1.000000</td>\n",
       "      <td>0.072047</td>\n",
       "    </tr>\n",
       "    <tr>\n",
       "      <th>0</th>\n",
       "      <td>Linear Support Vector Machine SVM</td>\n",
       "      <td>0.997536</td>\n",
       "      <td>0.997952</td>\n",
       "      <td>0.714566</td>\n",
       "    </tr>\n",
       "  </tbody>\n",
       "</table>\n",
       "</div>"
      ],
      "text/plain": [
       "                          classifier  train_score  test_score  train_time\n",
       "1                Logistic Regression     1.000000    1.000000    0.072047\n",
       "0  Linear Support Vector Machine SVM     0.997536    0.997952    0.714566"
      ]
     },
     "metadata": {},
     "output_type": "display_data"
    },
    {
     "name": "stdout",
     "output_type": "stream",
     "text": [
      "-------------------------------------------------------\n",
      "\n",
      "df_bfill_expanded\n"
     ]
    },
    {
     "data": {
      "text/html": [
       "<div>\n",
       "<style scoped>\n",
       "    .dataframe tbody tr th:only-of-type {\n",
       "        vertical-align: middle;\n",
       "    }\n",
       "\n",
       "    .dataframe tbody tr th {\n",
       "        vertical-align: top;\n",
       "    }\n",
       "\n",
       "    .dataframe thead th {\n",
       "        text-align: right;\n",
       "    }\n",
       "</style>\n",
       "<table border=\"1\" class=\"dataframe\">\n",
       "  <thead>\n",
       "    <tr style=\"text-align: right;\">\n",
       "      <th></th>\n",
       "      <th>classifier</th>\n",
       "      <th>train_score</th>\n",
       "      <th>test_score</th>\n",
       "      <th>train_time</th>\n",
       "    </tr>\n",
       "  </thead>\n",
       "  <tbody>\n",
       "    <tr>\n",
       "      <th>1</th>\n",
       "      <td>Logistic Regression</td>\n",
       "      <td>0.999824</td>\n",
       "      <td>0.998776</td>\n",
       "      <td>0.053666</td>\n",
       "    </tr>\n",
       "    <tr>\n",
       "      <th>0</th>\n",
       "      <td>Linear Support Vector Machine SVM</td>\n",
       "      <td>0.998414</td>\n",
       "      <td>0.997143</td>\n",
       "      <td>0.709197</td>\n",
       "    </tr>\n",
       "  </tbody>\n",
       "</table>\n",
       "</div>"
      ],
      "text/plain": [
       "                          classifier  train_score  test_score  train_time\n",
       "1                Logistic Regression     0.999824    0.998776    0.053666\n",
       "0  Linear Support Vector Machine SVM     0.998414    0.997143    0.709197"
      ]
     },
     "metadata": {},
     "output_type": "display_data"
    },
    {
     "name": "stdout",
     "output_type": "stream",
     "text": [
      "-------------------------------------------------------\n",
      "\n",
      "df_ffill_expanded\n"
     ]
    },
    {
     "data": {
      "text/html": [
       "<div>\n",
       "<style scoped>\n",
       "    .dataframe tbody tr th:only-of-type {\n",
       "        vertical-align: middle;\n",
       "    }\n",
       "\n",
       "    .dataframe tbody tr th {\n",
       "        vertical-align: top;\n",
       "    }\n",
       "\n",
       "    .dataframe thead th {\n",
       "        text-align: right;\n",
       "    }\n",
       "</style>\n",
       "<table border=\"1\" class=\"dataframe\">\n",
       "  <thead>\n",
       "    <tr style=\"text-align: right;\">\n",
       "      <th></th>\n",
       "      <th>classifier</th>\n",
       "      <th>train_score</th>\n",
       "      <th>test_score</th>\n",
       "      <th>train_time</th>\n",
       "    </tr>\n",
       "  </thead>\n",
       "  <tbody>\n",
       "    <tr>\n",
       "      <th>1</th>\n",
       "      <td>Logistic Regression</td>\n",
       "      <td>1.000000</td>\n",
       "      <td>1.000000</td>\n",
       "      <td>0.038387</td>\n",
       "    </tr>\n",
       "    <tr>\n",
       "      <th>0</th>\n",
       "      <td>Linear Support Vector Machine SVM</td>\n",
       "      <td>0.999105</td>\n",
       "      <td>0.998818</td>\n",
       "      <td>0.718124</td>\n",
       "    </tr>\n",
       "  </tbody>\n",
       "</table>\n",
       "</div>"
      ],
      "text/plain": [
       "                          classifier  train_score  test_score  train_time\n",
       "1                Logistic Regression     1.000000    1.000000    0.038387\n",
       "0  Linear Support Vector Machine SVM     0.999105    0.998818    0.718124"
      ]
     },
     "metadata": {},
     "output_type": "display_data"
    },
    {
     "name": "stdout",
     "output_type": "stream",
     "text": [
      "-------------------------------------------------------\n"
     ]
    }
   ],
   "source": [
    "y_col = 'class'\n",
    "train_test_ratio = 0.7\n",
    "\n",
    "for df_key, df in dict_dataframes.items():\n",
    "    x_cols = list(df.columns.values)\n",
    "    x_cols.remove(y_col)\n",
    "    df_train, df_test, X_train, Y_train, X_test, Y_test = get_train_test(df, y_col, x_cols, train_test_ratio)\n",
    "    dict_models = batch_classify(X_train, Y_train, X_test, Y_test, no_classifiers = 2, verbose=False)\n",
    "    \n",
    "    print()\n",
    "    print(df_key)\n",
    "    display_dict_models(dict_models)\n",
    "    print(\"-------------------------------------------------------\")"
   ]
  },
  {
   "cell_type": "markdown",
   "metadata": {},
   "source": [
    "### Discussion\n",
    "\n"
   ]
  },
  {
   "attachments": {
    "compare.png": {
     "image/png": "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"
    }
   },
   "cell_type": "markdown",
   "metadata": {},
   "source": [
    "![compare.png](attachment:compare.png)"
   ]
  },
  {
   "cell_type": "markdown",
   "metadata": {},
   "source": [
    "The result shows that most of the cases, SVM perfomrs better than Logistic Regression. Out of 10 cases, Logistic Regression perfomrs better than SVM in 4 cases only. Based on the result only, we can not say that SVM performs better than Logistic Regression. SVM performs better than Logistic Regression in this example based on the datasets chosen."
   ]
  },
  {
   "cell_type": "markdown",
   "metadata": {},
   "source": [
    "### Fine tuning the classifier \n",
    "\n",
    "Instead of using the same data to tune the hyperparameter and evaluate model performance, nested cross-validation, GridSearch, is adopted to avoid risking optimistically biasing the model. \n",
    "\n",
    "One downside to using nested cross-validation is how computationally intensive it can be. The outer loop splits the data into training/test folds using 10-fold cross-validation and reports model performance, while the inner loop performs a grid search on each training fold of the outer loop to tune the hyperparameter with 10-fold cross-validation. In addition, each grid search tests 10 hyperparameter values. That means 1000 models can be trained which is time consuming. Thus n_jobs=-1 parameter is used in order to parallelizes the operations across all CPU cores and speeds up the computation considerably.\n",
    "\n",
    "20% data is used for testing.  "
   ]
  },
  {
   "cell_type": "markdown",
   "metadata": {},
   "source": [
    "##### Linear Support Vector Machine (SVM)"
   ]
  },
  {
   "cell_type": "code",
   "execution_count": 89,
   "metadata": {},
   "outputs": [],
   "source": [
    "param_grid = [{'C': np.logspace(-3, 3, 10)}]\n",
    "\n",
    "grid_search_SVC = GridSearchCV(\n",
    "    estimator=SVC(),\n",
    "    param_grid=param_grid,\n",
    "    cv=StratifiedShuffleSplit(n_splits=10, test_size=0.2, random_state=42),\n",
    "    scoring='f1',\n",
    "    n_jobs=-1\n",
    ")\n",
    "\n",
    "scores_SVC = cross_val_score(\n",
    "    estimator=grid_search_SVC,\n",
    "    X=X_test,\n",
    "    y=Y_test,\n",
    "    cv=StratifiedShuffleSplit(n_splits=10, test_size=0.2, random_state=0),\n",
    "    scoring='f1',\n",
    "    n_jobs=-1\n",
    ")"
   ]
  },
  {
   "cell_type": "code",
   "execution_count": 90,
   "metadata": {},
   "outputs": [
    {
     "data": {
      "text/plain": [
       "100.0"
      ]
     },
     "execution_count": 90,
     "metadata": {},
     "output_type": "execute_result"
    }
   ],
   "source": [
    "scores_SVC.mean()*100"
   ]
  },
  {
   "cell_type": "markdown",
   "metadata": {},
   "source": [
    "##### Logistic Regression"
   ]
  },
  {
   "cell_type": "code",
   "execution_count": 83,
   "metadata": {},
   "outputs": [],
   "source": [
    "param_grid = [{'C': np.logspace(-3, 3, 10)}]\n",
    "\n",
    "grid_search = GridSearchCV(\n",
    "    estimator=LogisticRegression(),\n",
    "    param_grid=param_grid,\n",
    "    cv=StratifiedShuffleSplit(n_splits=10, test_size=0.2, random_state=42),\n",
    "    scoring='f1',\n",
    "    n_jobs=-1\n",
    ")\n",
    "\n",
    "scores = cross_val_score(\n",
    "    estimator=grid_search,\n",
    "    X=X_test,\n",
    "    y=Y_test,\n",
    "    cv=StratifiedShuffleSplit(n_splits=10, test_size=0.2, random_state=0),\n",
    "    scoring='f1',\n",
    "    n_jobs=-1\n",
    ")"
   ]
  },
  {
   "cell_type": "code",
   "execution_count": 86,
   "metadata": {},
   "outputs": [
    {
     "data": {
      "text/plain": [
       "99.9370188326903"
      ]
     },
     "execution_count": 86,
     "metadata": {},
     "output_type": "execute_result"
    }
   ],
   "source": [
    "scores.mean()*100"
   ]
  },
  {
   "cell_type": "markdown",
   "metadata": {},
   "source": [
    "After tuning the classifier, the performance of the models have not been increased. The both algorithms, SVM and Logistic Regression, produce the similar score. As the models performed very well, the fine tuning does not affect the performance in this example. "
   ]
  }
 ],
 "metadata": {
  "kernelspec": {
   "display_name": "Python 3",
   "language": "python",
   "name": "python3"
  },
  "language_info": {
   "codemirror_mode": {
    "name": "ipython",
    "version": 3
   },
   "file_extension": ".py",
   "mimetype": "text/x-python",
   "name": "python",
   "nbconvert_exporter": "python",
   "pygments_lexer": "ipython3",
   "version": "3.6.5"
  }
 },
 "nbformat": 4,
 "nbformat_minor": 2
}
